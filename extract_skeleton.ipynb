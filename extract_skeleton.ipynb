{
 "cells": [
  {
   "cell_type": "code",
   "execution_count": 12,
   "metadata": {
    "collapsed": false,
    "pycharm": {
     "name": "#%%\n"
    }
   },
   "outputs": [
    {
     "name": "stdout",
     "output_type": "stream",
     "text": [
      "The autoreload extension is already loaded. To reload it, use:\n",
      "  %reload_ext autoreload\n"
     ]
    },
    {
     "data": {
      "text/plain": "'/Users/admin/PycharmProjects/ml-vip-vxv-EPFME/codes'"
     },
     "execution_count": 12,
     "metadata": {},
     "output_type": "execute_result"
    }
   ],
   "source": [
    "import pandas as pd\n",
    "import zipfile\n",
    "import numpy as np\n",
    "from os import getcwd\n",
    "import os\n",
    "\n",
    "from helper import update_df, get_skeleton_set\n",
    "%load_ext autoreload\n",
    "%autoreload 2\n",
    "\n",
    "\n",
    "getcwd()"
   ]
  },
  {
   "cell_type": "code",
   "execution_count": 13,
   "metadata": {
    "collapsed": false,
    "pycharm": {
     "name": "#%%\n"
    }
   },
   "outputs": [
    {
     "data": {
      "text/plain": "                    adsh                                                tag  \\\n0   0001108827-20-000044  DeferredCompensationLiabilityClassifiedNoncurrent   \n1   0001108827-20-000044  DeferredCompensationLiabilityClassifiedNoncurrent   \n2   0001418135-20-000018  DeferredCompensationLiabilityClassifiedNoncurrent   \n3   0001418135-20-000018  DeferredCompensationLiabilityClassifiedNoncurrent   \n4   0001628280-20-006067  DeferredCompensationLiabilityClassifiedNoncurrent   \n..                   ...                                                ...   \n95  0000215466-20-000102                     OtherAccruedLiabilitiesCurrent   \n96  0000215466-20-000102                     OtherAccruedLiabilitiesCurrent   \n97  0001607062-20-000114                     OtherAccruedLiabilitiesCurrent   \n98  0001607062-20-000114                     OtherAccruedLiabilitiesCurrent   \n99  0001733186-20-000091                     OtherAccruedLiabilitiesCurrent   \n\n         version coreg     ddate  qtrs  uom       value footnote  \n0   us-gaap/2018   NaN  20191231     0  USD  26800000.0      NaN  \n1   us-gaap/2018   NaN  20200331     0  USD  21000000.0      NaN  \n2   us-gaap/2018   NaN  20200331     0  USD  31000000.0      NaN  \n3   us-gaap/2018   NaN  20191231     0  USD  40000000.0      NaN  \n4   us-gaap/2018   NaN  20200331     0  USD   2830000.0      NaN  \n..           ...   ...       ...   ...  ...         ...      ...  \n95  us-gaap/2018   NaN  20200331     0  USD   3395000.0      NaN  \n96  us-gaap/2018   NaN  20191231     0  USD   4163000.0      NaN  \n97  us-gaap/2018   NaN  20200331     0  USD      2373.0      NaN  \n98  us-gaap/2018   NaN  20190630     0  USD      3742.0      NaN  \n99  us-gaap/2018   NaN  20200331     0  USD  22000000.0      NaN  \n\n[100 rows x 9 columns]",
      "text/html": "<div>\n<style scoped>\n    .dataframe tbody tr th:only-of-type {\n        vertical-align: middle;\n    }\n\n    .dataframe tbody tr th {\n        vertical-align: top;\n    }\n\n    .dataframe thead th {\n        text-align: right;\n    }\n</style>\n<table border=\"1\" class=\"dataframe\">\n  <thead>\n    <tr style=\"text-align: right;\">\n      <th></th>\n      <th>adsh</th>\n      <th>tag</th>\n      <th>version</th>\n      <th>coreg</th>\n      <th>ddate</th>\n      <th>qtrs</th>\n      <th>uom</th>\n      <th>value</th>\n      <th>footnote</th>\n    </tr>\n  </thead>\n  <tbody>\n    <tr>\n      <th>0</th>\n      <td>0001108827-20-000044</td>\n      <td>DeferredCompensationLiabilityClassifiedNoncurrent</td>\n      <td>us-gaap/2018</td>\n      <td>NaN</td>\n      <td>20191231</td>\n      <td>0</td>\n      <td>USD</td>\n      <td>26800000.0</td>\n      <td>NaN</td>\n    </tr>\n    <tr>\n      <th>1</th>\n      <td>0001108827-20-000044</td>\n      <td>DeferredCompensationLiabilityClassifiedNoncurrent</td>\n      <td>us-gaap/2018</td>\n      <td>NaN</td>\n      <td>20200331</td>\n      <td>0</td>\n      <td>USD</td>\n      <td>21000000.0</td>\n      <td>NaN</td>\n    </tr>\n    <tr>\n      <th>2</th>\n      <td>0001418135-20-000018</td>\n      <td>DeferredCompensationLiabilityClassifiedNoncurrent</td>\n      <td>us-gaap/2018</td>\n      <td>NaN</td>\n      <td>20200331</td>\n      <td>0</td>\n      <td>USD</td>\n      <td>31000000.0</td>\n      <td>NaN</td>\n    </tr>\n    <tr>\n      <th>3</th>\n      <td>0001418135-20-000018</td>\n      <td>DeferredCompensationLiabilityClassifiedNoncurrent</td>\n      <td>us-gaap/2018</td>\n      <td>NaN</td>\n      <td>20191231</td>\n      <td>0</td>\n      <td>USD</td>\n      <td>40000000.0</td>\n      <td>NaN</td>\n    </tr>\n    <tr>\n      <th>4</th>\n      <td>0001628280-20-006067</td>\n      <td>DeferredCompensationLiabilityClassifiedNoncurrent</td>\n      <td>us-gaap/2018</td>\n      <td>NaN</td>\n      <td>20200331</td>\n      <td>0</td>\n      <td>USD</td>\n      <td>2830000.0</td>\n      <td>NaN</td>\n    </tr>\n    <tr>\n      <th>...</th>\n      <td>...</td>\n      <td>...</td>\n      <td>...</td>\n      <td>...</td>\n      <td>...</td>\n      <td>...</td>\n      <td>...</td>\n      <td>...</td>\n      <td>...</td>\n    </tr>\n    <tr>\n      <th>95</th>\n      <td>0000215466-20-000102</td>\n      <td>OtherAccruedLiabilitiesCurrent</td>\n      <td>us-gaap/2018</td>\n      <td>NaN</td>\n      <td>20200331</td>\n      <td>0</td>\n      <td>USD</td>\n      <td>3395000.0</td>\n      <td>NaN</td>\n    </tr>\n    <tr>\n      <th>96</th>\n      <td>0000215466-20-000102</td>\n      <td>OtherAccruedLiabilitiesCurrent</td>\n      <td>us-gaap/2018</td>\n      <td>NaN</td>\n      <td>20191231</td>\n      <td>0</td>\n      <td>USD</td>\n      <td>4163000.0</td>\n      <td>NaN</td>\n    </tr>\n    <tr>\n      <th>97</th>\n      <td>0001607062-20-000114</td>\n      <td>OtherAccruedLiabilitiesCurrent</td>\n      <td>us-gaap/2018</td>\n      <td>NaN</td>\n      <td>20200331</td>\n      <td>0</td>\n      <td>USD</td>\n      <td>2373.0</td>\n      <td>NaN</td>\n    </tr>\n    <tr>\n      <th>98</th>\n      <td>0001607062-20-000114</td>\n      <td>OtherAccruedLiabilitiesCurrent</td>\n      <td>us-gaap/2018</td>\n      <td>NaN</td>\n      <td>20190630</td>\n      <td>0</td>\n      <td>USD</td>\n      <td>3742.0</td>\n      <td>NaN</td>\n    </tr>\n    <tr>\n      <th>99</th>\n      <td>0001733186-20-000091</td>\n      <td>OtherAccruedLiabilitiesCurrent</td>\n      <td>us-gaap/2018</td>\n      <td>NaN</td>\n      <td>20200331</td>\n      <td>0</td>\n      <td>USD</td>\n      <td>22000000.0</td>\n      <td>NaN</td>\n    </tr>\n  </tbody>\n</table>\n<p>100 rows × 9 columns</p>\n</div>"
     },
     "execution_count": 13,
     "metadata": {},
     "output_type": "execute_result"
    }
   ],
   "source": [
    "data_dir = f\"{getcwd()}/../data/raw/2020q2\"\n",
    "df = pd.read_csv(f\"{data_dir}/num.txt\", sep=\"\\t\")\n",
    "df.head(100)"
   ]
  },
  {
   "cell_type": "code",
   "execution_count": 14,
   "metadata": {
    "collapsed": false,
    "pycharm": {
     "name": "#%%\n"
    }
   },
   "outputs": [
    {
     "name": "stderr",
     "output_type": "stream",
     "text": [
      "/var/folders/93/vcxdh9f57dq1xzncrcs6kl_40000gn/T/ipykernel_10046/3152695075.py:1: DtypeWarning: Columns (35) have mixed types. Specify dtype option on import or set low_memory=False.\n",
      "  sub = pd.read_csv(f\"{data_dir}/sub.txt\", sep=\"\\t\")\n"
     ]
    },
    {
     "data": {
      "text/plain": "                    adsh      cik                          name     sic  \\\n0   0000006201-20-000051     6201  AMERICAN AIRLINES GROUP INC.  4512.0   \n1   0000018498-20-000016    18498                   GENESCO INC  5661.0   \n2   0000020286-20-000029    20286     CINCINNATI FINANCIAL CORP  6331.0   \n3   0000049196-20-000017    49196  HUNTINGTON BANCSHARES INC/MD  6021.0   \n4   0000074145-20-000014    74145    OKLAHOMA GAS & ELECTRIC CO  4911.0   \n..                   ...      ...                           ...     ...   \n95  0001193125-20-094661  1403752                ZYMEWORKS INC.  2834.0   \n96  0001193125-20-094673  1111711                 NISOURCE INC.  4931.0   \n97  0001193125-20-094680   109198        TJX COMPANIES INC /DE/  5651.0   \n98  0001193125-20-094682  1501134                  INVITAE CORP  8071.0   \n99  0001193125-20-094692   814549                      EBIX INC  7373.0   \n\n   countryba stprba         cityba       zipba  \\\n0         US     TX     FORT WORTH       76155   \n1         US     TN      NASHVILLE       37217   \n2         US     OH      FAIRFIELD       45014   \n3         US     OH       COLUMBUS       43287   \n4         US     OK  OKLAHOMA CITY  73101-0321   \n..       ...    ...            ...         ...   \n95        CA     BC      VANCOUVER     V6H 3V9   \n96        US     IN   MERRILLVILLE  46410-6272   \n97        US     MA     FRAMINGHAM       01701   \n98        US     CA  SAN FRANCISCO       94103   \n99        US     GA    JOHNS CREEK       30097   \n\n                               bas1                 bas2  ...      period  \\\n0                   1 SKYVIEW DRIVE                  NaN  ...  20200331.0   \n1   GENESCO PK 1415 MURFREESBORO RD                  NaN  ...  20200131.0   \n2                 6200 S GILMORE RD                  NaN  ...  20200331.0   \n3                    HUNTINGTON CTR  41 S HIGH ST HC0917  ...  20200331.0   \n4                  321 NORTH HARVEY           PO BOX 321  ...  20200331.0   \n..                              ...                  ...  ...         ...   \n95         540-1385 WEST 8TH AVENUE                  NaN  ...  20200331.0   \n96                801 EAST 86TH AVE                  NaN  ...  20200331.0   \n97                770 COCHITUATE RD                  NaN  ...  20200331.0   \n98                 1400 16TH STREET                  NaN  ...  20200331.0   \n99                       1 EBIX WAY                  NaN  ...  20200331.0   \n\n        fy   fp     filed               accepted prevrpt detail  \\\n0      NaN  NaN  20200401  2020-04-01 16:15:00.0       0      0   \n1   2019.0   FY  20200401  2020-04-01 15:29:00.0       0      1   \n2      NaN  NaN  20200401  2020-04-01 09:54:00.0       0      0   \n3      NaN  NaN  20200401  2020-04-01 16:53:00.0       0      0   \n4      NaN  NaN  20200401  2020-04-01 14:34:00.0       0      0   \n..     ...  ...       ...                    ...     ...    ...   \n95     NaN  NaN  20200401  2020-04-01 16:23:00.0       1      0   \n96     NaN  NaN  20200401  2020-04-01 16:31:00.0       1      0   \n97     NaN  NaN  20200401  2020-04-01 16:34:00.0       0      0   \n98     NaN  NaN  20200401  2020-04-01 16:34:00.0       1      0   \n99     NaN  NaN  20200401  2020-04-01 16:38:00.0       0      0   \n\n                          instance nciks  aciks  \n0   a8k040120drawdownofrev_htm.xml     2   4515  \n1          gcofy202010-kq4_htm.xml     1    NaN  \n2   locationchange8-k04x01_htm.xml     1    NaN  \n3       hban-2020x04x01x8k_htm.xml     1    NaN  \n4             oge-20200401_htm.xml     1    NaN  \n..                             ...   ...    ...  \n95              d905486d8k_htm.xml     1    NaN  \n96              d911544d8k_htm.xml     1    NaN  \n97              d911649d8k_htm.xml     1    NaN  \n98              d909554d8k_htm.xml     1    NaN  \n99              d911862d8k_htm.xml     1    NaN  \n\n[100 rows x 36 columns]",
      "text/html": "<div>\n<style scoped>\n    .dataframe tbody tr th:only-of-type {\n        vertical-align: middle;\n    }\n\n    .dataframe tbody tr th {\n        vertical-align: top;\n    }\n\n    .dataframe thead th {\n        text-align: right;\n    }\n</style>\n<table border=\"1\" class=\"dataframe\">\n  <thead>\n    <tr style=\"text-align: right;\">\n      <th></th>\n      <th>adsh</th>\n      <th>cik</th>\n      <th>name</th>\n      <th>sic</th>\n      <th>countryba</th>\n      <th>stprba</th>\n      <th>cityba</th>\n      <th>zipba</th>\n      <th>bas1</th>\n      <th>bas2</th>\n      <th>...</th>\n      <th>period</th>\n      <th>fy</th>\n      <th>fp</th>\n      <th>filed</th>\n      <th>accepted</th>\n      <th>prevrpt</th>\n      <th>detail</th>\n      <th>instance</th>\n      <th>nciks</th>\n      <th>aciks</th>\n    </tr>\n  </thead>\n  <tbody>\n    <tr>\n      <th>0</th>\n      <td>0000006201-20-000051</td>\n      <td>6201</td>\n      <td>AMERICAN AIRLINES GROUP INC.</td>\n      <td>4512.0</td>\n      <td>US</td>\n      <td>TX</td>\n      <td>FORT WORTH</td>\n      <td>76155</td>\n      <td>1 SKYVIEW DRIVE</td>\n      <td>NaN</td>\n      <td>...</td>\n      <td>20200331.0</td>\n      <td>NaN</td>\n      <td>NaN</td>\n      <td>20200401</td>\n      <td>2020-04-01 16:15:00.0</td>\n      <td>0</td>\n      <td>0</td>\n      <td>a8k040120drawdownofrev_htm.xml</td>\n      <td>2</td>\n      <td>4515</td>\n    </tr>\n    <tr>\n      <th>1</th>\n      <td>0000018498-20-000016</td>\n      <td>18498</td>\n      <td>GENESCO INC</td>\n      <td>5661.0</td>\n      <td>US</td>\n      <td>TN</td>\n      <td>NASHVILLE</td>\n      <td>37217</td>\n      <td>GENESCO PK 1415 MURFREESBORO RD</td>\n      <td>NaN</td>\n      <td>...</td>\n      <td>20200131.0</td>\n      <td>2019.0</td>\n      <td>FY</td>\n      <td>20200401</td>\n      <td>2020-04-01 15:29:00.0</td>\n      <td>0</td>\n      <td>1</td>\n      <td>gcofy202010-kq4_htm.xml</td>\n      <td>1</td>\n      <td>NaN</td>\n    </tr>\n    <tr>\n      <th>2</th>\n      <td>0000020286-20-000029</td>\n      <td>20286</td>\n      <td>CINCINNATI FINANCIAL CORP</td>\n      <td>6331.0</td>\n      <td>US</td>\n      <td>OH</td>\n      <td>FAIRFIELD</td>\n      <td>45014</td>\n      <td>6200 S GILMORE RD</td>\n      <td>NaN</td>\n      <td>...</td>\n      <td>20200331.0</td>\n      <td>NaN</td>\n      <td>NaN</td>\n      <td>20200401</td>\n      <td>2020-04-01 09:54:00.0</td>\n      <td>0</td>\n      <td>0</td>\n      <td>locationchange8-k04x01_htm.xml</td>\n      <td>1</td>\n      <td>NaN</td>\n    </tr>\n    <tr>\n      <th>3</th>\n      <td>0000049196-20-000017</td>\n      <td>49196</td>\n      <td>HUNTINGTON BANCSHARES INC/MD</td>\n      <td>6021.0</td>\n      <td>US</td>\n      <td>OH</td>\n      <td>COLUMBUS</td>\n      <td>43287</td>\n      <td>HUNTINGTON CTR</td>\n      <td>41 S HIGH ST HC0917</td>\n      <td>...</td>\n      <td>20200331.0</td>\n      <td>NaN</td>\n      <td>NaN</td>\n      <td>20200401</td>\n      <td>2020-04-01 16:53:00.0</td>\n      <td>0</td>\n      <td>0</td>\n      <td>hban-2020x04x01x8k_htm.xml</td>\n      <td>1</td>\n      <td>NaN</td>\n    </tr>\n    <tr>\n      <th>4</th>\n      <td>0000074145-20-000014</td>\n      <td>74145</td>\n      <td>OKLAHOMA GAS &amp; ELECTRIC CO</td>\n      <td>4911.0</td>\n      <td>US</td>\n      <td>OK</td>\n      <td>OKLAHOMA CITY</td>\n      <td>73101-0321</td>\n      <td>321 NORTH HARVEY</td>\n      <td>PO BOX 321</td>\n      <td>...</td>\n      <td>20200331.0</td>\n      <td>NaN</td>\n      <td>NaN</td>\n      <td>20200401</td>\n      <td>2020-04-01 14:34:00.0</td>\n      <td>0</td>\n      <td>0</td>\n      <td>oge-20200401_htm.xml</td>\n      <td>1</td>\n      <td>NaN</td>\n    </tr>\n    <tr>\n      <th>...</th>\n      <td>...</td>\n      <td>...</td>\n      <td>...</td>\n      <td>...</td>\n      <td>...</td>\n      <td>...</td>\n      <td>...</td>\n      <td>...</td>\n      <td>...</td>\n      <td>...</td>\n      <td>...</td>\n      <td>...</td>\n      <td>...</td>\n      <td>...</td>\n      <td>...</td>\n      <td>...</td>\n      <td>...</td>\n      <td>...</td>\n      <td>...</td>\n      <td>...</td>\n      <td>...</td>\n    </tr>\n    <tr>\n      <th>95</th>\n      <td>0001193125-20-094661</td>\n      <td>1403752</td>\n      <td>ZYMEWORKS INC.</td>\n      <td>2834.0</td>\n      <td>CA</td>\n      <td>BC</td>\n      <td>VANCOUVER</td>\n      <td>V6H 3V9</td>\n      <td>540-1385 WEST 8TH AVENUE</td>\n      <td>NaN</td>\n      <td>...</td>\n      <td>20200331.0</td>\n      <td>NaN</td>\n      <td>NaN</td>\n      <td>20200401</td>\n      <td>2020-04-01 16:23:00.0</td>\n      <td>1</td>\n      <td>0</td>\n      <td>d905486d8k_htm.xml</td>\n      <td>1</td>\n      <td>NaN</td>\n    </tr>\n    <tr>\n      <th>96</th>\n      <td>0001193125-20-094673</td>\n      <td>1111711</td>\n      <td>NISOURCE INC.</td>\n      <td>4931.0</td>\n      <td>US</td>\n      <td>IN</td>\n      <td>MERRILLVILLE</td>\n      <td>46410-6272</td>\n      <td>801 EAST 86TH AVE</td>\n      <td>NaN</td>\n      <td>...</td>\n      <td>20200331.0</td>\n      <td>NaN</td>\n      <td>NaN</td>\n      <td>20200401</td>\n      <td>2020-04-01 16:31:00.0</td>\n      <td>1</td>\n      <td>0</td>\n      <td>d911544d8k_htm.xml</td>\n      <td>1</td>\n      <td>NaN</td>\n    </tr>\n    <tr>\n      <th>97</th>\n      <td>0001193125-20-094680</td>\n      <td>109198</td>\n      <td>TJX COMPANIES INC /DE/</td>\n      <td>5651.0</td>\n      <td>US</td>\n      <td>MA</td>\n      <td>FRAMINGHAM</td>\n      <td>01701</td>\n      <td>770 COCHITUATE RD</td>\n      <td>NaN</td>\n      <td>...</td>\n      <td>20200331.0</td>\n      <td>NaN</td>\n      <td>NaN</td>\n      <td>20200401</td>\n      <td>2020-04-01 16:34:00.0</td>\n      <td>0</td>\n      <td>0</td>\n      <td>d911649d8k_htm.xml</td>\n      <td>1</td>\n      <td>NaN</td>\n    </tr>\n    <tr>\n      <th>98</th>\n      <td>0001193125-20-094682</td>\n      <td>1501134</td>\n      <td>INVITAE CORP</td>\n      <td>8071.0</td>\n      <td>US</td>\n      <td>CA</td>\n      <td>SAN FRANCISCO</td>\n      <td>94103</td>\n      <td>1400 16TH STREET</td>\n      <td>NaN</td>\n      <td>...</td>\n      <td>20200331.0</td>\n      <td>NaN</td>\n      <td>NaN</td>\n      <td>20200401</td>\n      <td>2020-04-01 16:34:00.0</td>\n      <td>1</td>\n      <td>0</td>\n      <td>d909554d8k_htm.xml</td>\n      <td>1</td>\n      <td>NaN</td>\n    </tr>\n    <tr>\n      <th>99</th>\n      <td>0001193125-20-094692</td>\n      <td>814549</td>\n      <td>EBIX INC</td>\n      <td>7373.0</td>\n      <td>US</td>\n      <td>GA</td>\n      <td>JOHNS CREEK</td>\n      <td>30097</td>\n      <td>1 EBIX WAY</td>\n      <td>NaN</td>\n      <td>...</td>\n      <td>20200331.0</td>\n      <td>NaN</td>\n      <td>NaN</td>\n      <td>20200401</td>\n      <td>2020-04-01 16:38:00.0</td>\n      <td>0</td>\n      <td>0</td>\n      <td>d911862d8k_htm.xml</td>\n      <td>1</td>\n      <td>NaN</td>\n    </tr>\n  </tbody>\n</table>\n<p>100 rows × 36 columns</p>\n</div>"
     },
     "execution_count": 14,
     "metadata": {},
     "output_type": "execute_result"
    }
   ],
   "source": [
    "sub = pd.read_csv(f\"{data_dir}/sub.txt\", sep=\"\\t\")\n",
    "sub.head(100)"
   ]
  },
  {
   "cell_type": "code",
   "execution_count": 15,
   "metadata": {
    "collapsed": false,
    "pycharm": {
     "name": "#%%\n"
    }
   },
   "outputs": [
    {
     "data": {
      "text/plain": "                      adsh      cik                         name     sic  \\\n1     0000018498-20-000016    18498                  GENESCO INC  5661.0   \n6     0000078239-20-000023    78239               PVH CORP. /DE/  2320.0   \n26    0000885245-20-000011   885245                   BUCKLE INC  5651.0   \n32    0000912463-20-000020   912463                    GUESS INC  2340.0   \n35    0000930413-20-000944   744187  REX AMERICAN RESOURCES CORP  2860.0   \n...                    ...      ...                          ...     ...   \n1267  0001493152-20-006219  1655971                POSTADS, INC.  7389.0   \n1270  0001493152-20-006224  1398137       GENERATION ALPHA, INC.  7380.0   \n1271  0001493152-20-006229  1563536                 E-QURE CORP.  5090.0   \n1272  0001493152-20-006232  1430523    VERUS INTERNATIONAL, INC.  5141.0   \n1273  0001493152-20-006237  1487197     BARFRESH FOOD GROUP INC.  2030.0   \n\n     countryba stprba         cityba  zipba                             bas1  \\\n1           US     TN      NASHVILLE  37217  GENESCO PK 1415 MURFREESBORO RD   \n6           US     NY       NEW YORK  10016               200 MADISON AVENUE   \n26          US     NE        KEARNEY  68847                   2407 W 24TH ST   \n32          US     CA    LOS ANGELES  90021              ATTN:  JASON MILLER   \n35          US     OH         DAYTON  45459                7720 PARAGON ROAD   \n...        ...    ...            ...    ...                              ...   \n1267        US     FL  CORAL SPRINGS  33065                 2332 N.W. 87 DR.   \n1270        US     CA         CARSON  90746           16926 EAST KEEGAN BLVD   \n1271        US     NY       NEW YORK  10023              20 WEST 64TH STREET   \n1272        US     MD   GAITHERSBURG  20878          9841 WASHINGTONIAN BLVD   \n1273        US     CA    LOS ANGELES  90005         3600 WILSHIRE SUITE 1720   \n\n                           bas2  ...      period      fy  fp     filed  \\\n1                           NaN  ...  20200131.0  2019.0  FY  20200401   \n6                           NaN  ...  20200131.0  2019.0  FY  20200401   \n26                          NaN  ...  20200131.0  2019.0  FY  20200401   \n32    1444 SOUTH ALAMEDA STREET  ...  20200131.0  2019.0  FY  20200401   \n35                          NaN  ...  20200131.0  2019.0  FY  20200401   \n...                         ...  ...         ...     ...  ..       ...   \n1267                        NaN  ...  20191231.0  2019.0  FY  20200413   \n1270                        NaN  ...  20191231.0  2019.0  FY  20200413   \n1271                  SUITE 39G  ...  20191231.0  2019.0  FY  20200413   \n1272                  STE. #390  ...  20191031.0  2019.0  FY  20200413   \n1273                        NaN  ...  20191231.0  2019.0  FY  20200413   \n\n                   accepted prevrpt detail                 instance nciks  \\\n1     2020-04-01 15:29:00.0       0      1  gcofy202010-kq4_htm.xml     1   \n6     2020-04-01 16:57:00.0       0      1       pvh10k2019_htm.xml     1   \n26    2020-04-01 13:22:00.0       0      1         bke-20200201.xml     1   \n32    2020-04-01 17:04:00.0       0      1      a10k-q4fy20_htm.xml     1   \n35    2020-04-01 17:06:00.0       0      1         rex-20200131.xml     1   \n...                     ...     ...    ...                      ...   ...   \n1267  2020-04-13 13:52:00.0       0      1        pods-20191231.xml     1   \n1270  2020-04-13 15:13:00.0       0      1        gnal-20191231.xml     1   \n1271  2020-04-13 15:56:00.0       0      1        equr-20191231.xml     1   \n1272  2020-04-13 16:12:00.0       0      1        vrus-20191031.xml     1   \n1273  2020-04-13 16:31:00.0       0      1        brfh-20191231.xml     1   \n\n      aciks  \n1       NaN  \n6       NaN  \n26      NaN  \n32      NaN  \n35      NaN  \n...     ...  \n1267    NaN  \n1270    NaN  \n1271    NaN  \n1272    NaN  \n1273    NaN  \n\n[100 rows x 36 columns]",
      "text/html": "<div>\n<style scoped>\n    .dataframe tbody tr th:only-of-type {\n        vertical-align: middle;\n    }\n\n    .dataframe tbody tr th {\n        vertical-align: top;\n    }\n\n    .dataframe thead th {\n        text-align: right;\n    }\n</style>\n<table border=\"1\" class=\"dataframe\">\n  <thead>\n    <tr style=\"text-align: right;\">\n      <th></th>\n      <th>adsh</th>\n      <th>cik</th>\n      <th>name</th>\n      <th>sic</th>\n      <th>countryba</th>\n      <th>stprba</th>\n      <th>cityba</th>\n      <th>zipba</th>\n      <th>bas1</th>\n      <th>bas2</th>\n      <th>...</th>\n      <th>period</th>\n      <th>fy</th>\n      <th>fp</th>\n      <th>filed</th>\n      <th>accepted</th>\n      <th>prevrpt</th>\n      <th>detail</th>\n      <th>instance</th>\n      <th>nciks</th>\n      <th>aciks</th>\n    </tr>\n  </thead>\n  <tbody>\n    <tr>\n      <th>1</th>\n      <td>0000018498-20-000016</td>\n      <td>18498</td>\n      <td>GENESCO INC</td>\n      <td>5661.0</td>\n      <td>US</td>\n      <td>TN</td>\n      <td>NASHVILLE</td>\n      <td>37217</td>\n      <td>GENESCO PK 1415 MURFREESBORO RD</td>\n      <td>NaN</td>\n      <td>...</td>\n      <td>20200131.0</td>\n      <td>2019.0</td>\n      <td>FY</td>\n      <td>20200401</td>\n      <td>2020-04-01 15:29:00.0</td>\n      <td>0</td>\n      <td>1</td>\n      <td>gcofy202010-kq4_htm.xml</td>\n      <td>1</td>\n      <td>NaN</td>\n    </tr>\n    <tr>\n      <th>6</th>\n      <td>0000078239-20-000023</td>\n      <td>78239</td>\n      <td>PVH CORP. /DE/</td>\n      <td>2320.0</td>\n      <td>US</td>\n      <td>NY</td>\n      <td>NEW YORK</td>\n      <td>10016</td>\n      <td>200 MADISON AVENUE</td>\n      <td>NaN</td>\n      <td>...</td>\n      <td>20200131.0</td>\n      <td>2019.0</td>\n      <td>FY</td>\n      <td>20200401</td>\n      <td>2020-04-01 16:57:00.0</td>\n      <td>0</td>\n      <td>1</td>\n      <td>pvh10k2019_htm.xml</td>\n      <td>1</td>\n      <td>NaN</td>\n    </tr>\n    <tr>\n      <th>26</th>\n      <td>0000885245-20-000011</td>\n      <td>885245</td>\n      <td>BUCKLE INC</td>\n      <td>5651.0</td>\n      <td>US</td>\n      <td>NE</td>\n      <td>KEARNEY</td>\n      <td>68847</td>\n      <td>2407 W 24TH ST</td>\n      <td>NaN</td>\n      <td>...</td>\n      <td>20200131.0</td>\n      <td>2019.0</td>\n      <td>FY</td>\n      <td>20200401</td>\n      <td>2020-04-01 13:22:00.0</td>\n      <td>0</td>\n      <td>1</td>\n      <td>bke-20200201.xml</td>\n      <td>1</td>\n      <td>NaN</td>\n    </tr>\n    <tr>\n      <th>32</th>\n      <td>0000912463-20-000020</td>\n      <td>912463</td>\n      <td>GUESS INC</td>\n      <td>2340.0</td>\n      <td>US</td>\n      <td>CA</td>\n      <td>LOS ANGELES</td>\n      <td>90021</td>\n      <td>ATTN:  JASON MILLER</td>\n      <td>1444 SOUTH ALAMEDA STREET</td>\n      <td>...</td>\n      <td>20200131.0</td>\n      <td>2019.0</td>\n      <td>FY</td>\n      <td>20200401</td>\n      <td>2020-04-01 17:04:00.0</td>\n      <td>0</td>\n      <td>1</td>\n      <td>a10k-q4fy20_htm.xml</td>\n      <td>1</td>\n      <td>NaN</td>\n    </tr>\n    <tr>\n      <th>35</th>\n      <td>0000930413-20-000944</td>\n      <td>744187</td>\n      <td>REX AMERICAN RESOURCES CORP</td>\n      <td>2860.0</td>\n      <td>US</td>\n      <td>OH</td>\n      <td>DAYTON</td>\n      <td>45459</td>\n      <td>7720 PARAGON ROAD</td>\n      <td>NaN</td>\n      <td>...</td>\n      <td>20200131.0</td>\n      <td>2019.0</td>\n      <td>FY</td>\n      <td>20200401</td>\n      <td>2020-04-01 17:06:00.0</td>\n      <td>0</td>\n      <td>1</td>\n      <td>rex-20200131.xml</td>\n      <td>1</td>\n      <td>NaN</td>\n    </tr>\n    <tr>\n      <th>...</th>\n      <td>...</td>\n      <td>...</td>\n      <td>...</td>\n      <td>...</td>\n      <td>...</td>\n      <td>...</td>\n      <td>...</td>\n      <td>...</td>\n      <td>...</td>\n      <td>...</td>\n      <td>...</td>\n      <td>...</td>\n      <td>...</td>\n      <td>...</td>\n      <td>...</td>\n      <td>...</td>\n      <td>...</td>\n      <td>...</td>\n      <td>...</td>\n      <td>...</td>\n      <td>...</td>\n    </tr>\n    <tr>\n      <th>1267</th>\n      <td>0001493152-20-006219</td>\n      <td>1655971</td>\n      <td>POSTADS, INC.</td>\n      <td>7389.0</td>\n      <td>US</td>\n      <td>FL</td>\n      <td>CORAL SPRINGS</td>\n      <td>33065</td>\n      <td>2332 N.W. 87 DR.</td>\n      <td>NaN</td>\n      <td>...</td>\n      <td>20191231.0</td>\n      <td>2019.0</td>\n      <td>FY</td>\n      <td>20200413</td>\n      <td>2020-04-13 13:52:00.0</td>\n      <td>0</td>\n      <td>1</td>\n      <td>pods-20191231.xml</td>\n      <td>1</td>\n      <td>NaN</td>\n    </tr>\n    <tr>\n      <th>1270</th>\n      <td>0001493152-20-006224</td>\n      <td>1398137</td>\n      <td>GENERATION ALPHA, INC.</td>\n      <td>7380.0</td>\n      <td>US</td>\n      <td>CA</td>\n      <td>CARSON</td>\n      <td>90746</td>\n      <td>16926 EAST KEEGAN BLVD</td>\n      <td>NaN</td>\n      <td>...</td>\n      <td>20191231.0</td>\n      <td>2019.0</td>\n      <td>FY</td>\n      <td>20200413</td>\n      <td>2020-04-13 15:13:00.0</td>\n      <td>0</td>\n      <td>1</td>\n      <td>gnal-20191231.xml</td>\n      <td>1</td>\n      <td>NaN</td>\n    </tr>\n    <tr>\n      <th>1271</th>\n      <td>0001493152-20-006229</td>\n      <td>1563536</td>\n      <td>E-QURE CORP.</td>\n      <td>5090.0</td>\n      <td>US</td>\n      <td>NY</td>\n      <td>NEW YORK</td>\n      <td>10023</td>\n      <td>20 WEST 64TH STREET</td>\n      <td>SUITE 39G</td>\n      <td>...</td>\n      <td>20191231.0</td>\n      <td>2019.0</td>\n      <td>FY</td>\n      <td>20200413</td>\n      <td>2020-04-13 15:56:00.0</td>\n      <td>0</td>\n      <td>1</td>\n      <td>equr-20191231.xml</td>\n      <td>1</td>\n      <td>NaN</td>\n    </tr>\n    <tr>\n      <th>1272</th>\n      <td>0001493152-20-006232</td>\n      <td>1430523</td>\n      <td>VERUS INTERNATIONAL, INC.</td>\n      <td>5141.0</td>\n      <td>US</td>\n      <td>MD</td>\n      <td>GAITHERSBURG</td>\n      <td>20878</td>\n      <td>9841 WASHINGTONIAN BLVD</td>\n      <td>STE. #390</td>\n      <td>...</td>\n      <td>20191031.0</td>\n      <td>2019.0</td>\n      <td>FY</td>\n      <td>20200413</td>\n      <td>2020-04-13 16:12:00.0</td>\n      <td>0</td>\n      <td>1</td>\n      <td>vrus-20191031.xml</td>\n      <td>1</td>\n      <td>NaN</td>\n    </tr>\n    <tr>\n      <th>1273</th>\n      <td>0001493152-20-006237</td>\n      <td>1487197</td>\n      <td>BARFRESH FOOD GROUP INC.</td>\n      <td>2030.0</td>\n      <td>US</td>\n      <td>CA</td>\n      <td>LOS ANGELES</td>\n      <td>90005</td>\n      <td>3600 WILSHIRE SUITE 1720</td>\n      <td>NaN</td>\n      <td>...</td>\n      <td>20191231.0</td>\n      <td>2019.0</td>\n      <td>FY</td>\n      <td>20200413</td>\n      <td>2020-04-13 16:31:00.0</td>\n      <td>0</td>\n      <td>1</td>\n      <td>brfh-20191231.xml</td>\n      <td>1</td>\n      <td>NaN</td>\n    </tr>\n  </tbody>\n</table>\n<p>100 rows × 36 columns</p>\n</div>"
     },
     "execution_count": 15,
     "metadata": {},
     "output_type": "execute_result"
    }
   ],
   "source": [
    "sub[(sub['form'] == \"10-K\") | (sub['form'] == \"10-K/A\")].head(100)"
   ]
  },
  {
   "cell_type": "code",
   "execution_count": 16,
   "metadata": {
    "collapsed": false,
    "pycharm": {
     "name": "#%%\n"
    }
   },
   "outputs": [
    {
     "data": {
      "text/plain": "                     adsh                                                tag  \\\n18   0001661920-20-000025  DeferredCompensationLiabilityCurrentAndNoncurrent   \n19   0001661920-20-000025  DeferredCompensationLiabilityCurrentAndNoncurrent   \n35   0001673431-20-000006                         DeferredCompensationEquity   \n36   0001673431-20-000006                         DeferredCompensationEquity   \n55   0001017386-20-000148       OperatingLossCarryforwardsValuationAllowance   \n..                    ...                                                ...   \n813  0001591956-20-000005                        DeferredCostsAndOtherAssets   \n814  0001591956-20-000005                  DeferredCostsCurrentAndNoncurrent   \n815  0001591956-20-000005                  DeferredCostsCurrentAndNoncurrent   \n834  0001446687-20-000024        DeferredCostsLeasingAccumulatedAmortization   \n835  0001446687-20-000024        DeferredCostsLeasingAccumulatedAmortization   \n\n          version coreg     ddate  qtrs  uom      value footnote  \n18   us-gaap/2018   NaN  20181231     0  USD  1903000.0      NaN  \n19   us-gaap/2018   NaN  20191231     0  USD  2365000.0      NaN  \n35   us-gaap/2018   NaN  20181231     0  USD   829167.0      NaN  \n36   us-gaap/2018   NaN  20191231     0  USD        0.0      NaN  \n55   us-gaap/2018   NaN  20181231     0  USD  3986036.0      NaN  \n..            ...   ...       ...   ...  ...        ...      ...  \n813  us-gaap/2018   NaN  20191231     0  USD   118000.0      NaN  \n814  us-gaap/2018   NaN  20181231     0  USD   700000.0      NaN  \n815  us-gaap/2018   NaN  20191231     0  USD   300000.0      NaN  \n834  us-gaap/2018   NaN  20191231     0  USD  6830000.0      NaN  \n835  us-gaap/2018   NaN  20181231     0  USD  4370000.0      NaN  \n\n[100 rows x 9 columns]",
      "text/html": "<div>\n<style scoped>\n    .dataframe tbody tr th:only-of-type {\n        vertical-align: middle;\n    }\n\n    .dataframe tbody tr th {\n        vertical-align: top;\n    }\n\n    .dataframe thead th {\n        text-align: right;\n    }\n</style>\n<table border=\"1\" class=\"dataframe\">\n  <thead>\n    <tr style=\"text-align: right;\">\n      <th></th>\n      <th>adsh</th>\n      <th>tag</th>\n      <th>version</th>\n      <th>coreg</th>\n      <th>ddate</th>\n      <th>qtrs</th>\n      <th>uom</th>\n      <th>value</th>\n      <th>footnote</th>\n    </tr>\n  </thead>\n  <tbody>\n    <tr>\n      <th>18</th>\n      <td>0001661920-20-000025</td>\n      <td>DeferredCompensationLiabilityCurrentAndNoncurrent</td>\n      <td>us-gaap/2018</td>\n      <td>NaN</td>\n      <td>20181231</td>\n      <td>0</td>\n      <td>USD</td>\n      <td>1903000.0</td>\n      <td>NaN</td>\n    </tr>\n    <tr>\n      <th>19</th>\n      <td>0001661920-20-000025</td>\n      <td>DeferredCompensationLiabilityCurrentAndNoncurrent</td>\n      <td>us-gaap/2018</td>\n      <td>NaN</td>\n      <td>20191231</td>\n      <td>0</td>\n      <td>USD</td>\n      <td>2365000.0</td>\n      <td>NaN</td>\n    </tr>\n    <tr>\n      <th>35</th>\n      <td>0001673431-20-000006</td>\n      <td>DeferredCompensationEquity</td>\n      <td>us-gaap/2018</td>\n      <td>NaN</td>\n      <td>20181231</td>\n      <td>0</td>\n      <td>USD</td>\n      <td>829167.0</td>\n      <td>NaN</td>\n    </tr>\n    <tr>\n      <th>36</th>\n      <td>0001673431-20-000006</td>\n      <td>DeferredCompensationEquity</td>\n      <td>us-gaap/2018</td>\n      <td>NaN</td>\n      <td>20191231</td>\n      <td>0</td>\n      <td>USD</td>\n      <td>0.0</td>\n      <td>NaN</td>\n    </tr>\n    <tr>\n      <th>55</th>\n      <td>0001017386-20-000148</td>\n      <td>OperatingLossCarryforwardsValuationAllowance</td>\n      <td>us-gaap/2018</td>\n      <td>NaN</td>\n      <td>20181231</td>\n      <td>0</td>\n      <td>USD</td>\n      <td>3986036.0</td>\n      <td>NaN</td>\n    </tr>\n    <tr>\n      <th>...</th>\n      <td>...</td>\n      <td>...</td>\n      <td>...</td>\n      <td>...</td>\n      <td>...</td>\n      <td>...</td>\n      <td>...</td>\n      <td>...</td>\n      <td>...</td>\n    </tr>\n    <tr>\n      <th>813</th>\n      <td>0001591956-20-000005</td>\n      <td>DeferredCostsAndOtherAssets</td>\n      <td>us-gaap/2018</td>\n      <td>NaN</td>\n      <td>20191231</td>\n      <td>0</td>\n      <td>USD</td>\n      <td>118000.0</td>\n      <td>NaN</td>\n    </tr>\n    <tr>\n      <th>814</th>\n      <td>0001591956-20-000005</td>\n      <td>DeferredCostsCurrentAndNoncurrent</td>\n      <td>us-gaap/2018</td>\n      <td>NaN</td>\n      <td>20181231</td>\n      <td>0</td>\n      <td>USD</td>\n      <td>700000.0</td>\n      <td>NaN</td>\n    </tr>\n    <tr>\n      <th>815</th>\n      <td>0001591956-20-000005</td>\n      <td>DeferredCostsCurrentAndNoncurrent</td>\n      <td>us-gaap/2018</td>\n      <td>NaN</td>\n      <td>20191231</td>\n      <td>0</td>\n      <td>USD</td>\n      <td>300000.0</td>\n      <td>NaN</td>\n    </tr>\n    <tr>\n      <th>834</th>\n      <td>0001446687-20-000024</td>\n      <td>DeferredCostsLeasingAccumulatedAmortization</td>\n      <td>us-gaap/2018</td>\n      <td>NaN</td>\n      <td>20191231</td>\n      <td>0</td>\n      <td>USD</td>\n      <td>6830000.0</td>\n      <td>NaN</td>\n    </tr>\n    <tr>\n      <th>835</th>\n      <td>0001446687-20-000024</td>\n      <td>DeferredCostsLeasingAccumulatedAmortization</td>\n      <td>us-gaap/2018</td>\n      <td>NaN</td>\n      <td>20181231</td>\n      <td>0</td>\n      <td>USD</td>\n      <td>4370000.0</td>\n      <td>NaN</td>\n    </tr>\n  </tbody>\n</table>\n<p>100 rows × 9 columns</p>\n</div>"
     },
     "execution_count": 16,
     "metadata": {},
     "output_type": "execute_result"
    }
   ],
   "source": [
    "main_df = df[df['adsh'].isin(set(sub[(sub['form'] == \"10-K\") | (sub['form'] == \"10-K/A\")]['adsh'].values))]\n",
    "\n",
    "main_df.head(100)"
   ]
  },
  {
   "cell_type": "code",
   "execution_count": 17,
   "metadata": {
    "collapsed": false,
    "pycharm": {
     "name": "#%%\n"
    }
   },
   "outputs": [
    {
     "data": {
      "text/plain": "                     adsh                                                tag  \\\n18   0001661920-20-000025  DeferredCompensationLiabilityCurrentAndNoncurrent   \n19   0001661920-20-000025  DeferredCompensationLiabilityCurrentAndNoncurrent   \n35   0001673431-20-000006                         DeferredCompensationEquity   \n36   0001673431-20-000006                         DeferredCompensationEquity   \n55   0001017386-20-000148       OperatingLossCarryforwardsValuationAllowance   \n..                    ...                                                ...   \n862  0001654948-20-000021                            DeferredCostsLeasingNet   \n867  0001654948-20-000029                            DeferredCostsLeasingNet   \n868  0001654948-20-000029                            DeferredCostsLeasingNet   \n883  0000916789-20-000024             DeferredFederalIncomeTaxExpenseBenefit   \n884  0000916789-20-000024             DeferredFederalIncomeTaxExpenseBenefit   \n\n          version coreg     ddate  qtrs  uom       value footnote  \n18   us-gaap/2018   NaN  20181231     0  USD   1903000.0      NaN  \n19   us-gaap/2018   NaN  20191231     0  USD   2365000.0      NaN  \n35   us-gaap/2018   NaN  20181231     0  USD    829167.0      NaN  \n36   us-gaap/2018   NaN  20191231     0  USD         0.0      NaN  \n55   us-gaap/2018   NaN  20181231     0  USD   3986036.0      NaN  \n..            ...   ...       ...   ...  ...         ...      ...  \n862  us-gaap/2018   NaN  20181231     0  USD     70266.0      NaN  \n867  us-gaap/2018   NaN  20191231     0  USD    314404.0      NaN  \n868  us-gaap/2018   NaN  20181231     0  USD     70266.0      NaN  \n883  us-gaap/2018   NaN  20200229     4  USD  -4789000.0      NaN  \n884  us-gaap/2018   NaN  20190228     4  USD  10480000.0      NaN  \n\n[100 rows x 9 columns]",
      "text/html": "<div>\n<style scoped>\n    .dataframe tbody tr th:only-of-type {\n        vertical-align: middle;\n    }\n\n    .dataframe tbody tr th {\n        vertical-align: top;\n    }\n\n    .dataframe thead th {\n        text-align: right;\n    }\n</style>\n<table border=\"1\" class=\"dataframe\">\n  <thead>\n    <tr style=\"text-align: right;\">\n      <th></th>\n      <th>adsh</th>\n      <th>tag</th>\n      <th>version</th>\n      <th>coreg</th>\n      <th>ddate</th>\n      <th>qtrs</th>\n      <th>uom</th>\n      <th>value</th>\n      <th>footnote</th>\n    </tr>\n  </thead>\n  <tbody>\n    <tr>\n      <th>18</th>\n      <td>0001661920-20-000025</td>\n      <td>DeferredCompensationLiabilityCurrentAndNoncurrent</td>\n      <td>us-gaap/2018</td>\n      <td>NaN</td>\n      <td>20181231</td>\n      <td>0</td>\n      <td>USD</td>\n      <td>1903000.0</td>\n      <td>NaN</td>\n    </tr>\n    <tr>\n      <th>19</th>\n      <td>0001661920-20-000025</td>\n      <td>DeferredCompensationLiabilityCurrentAndNoncurrent</td>\n      <td>us-gaap/2018</td>\n      <td>NaN</td>\n      <td>20191231</td>\n      <td>0</td>\n      <td>USD</td>\n      <td>2365000.0</td>\n      <td>NaN</td>\n    </tr>\n    <tr>\n      <th>35</th>\n      <td>0001673431-20-000006</td>\n      <td>DeferredCompensationEquity</td>\n      <td>us-gaap/2018</td>\n      <td>NaN</td>\n      <td>20181231</td>\n      <td>0</td>\n      <td>USD</td>\n      <td>829167.0</td>\n      <td>NaN</td>\n    </tr>\n    <tr>\n      <th>36</th>\n      <td>0001673431-20-000006</td>\n      <td>DeferredCompensationEquity</td>\n      <td>us-gaap/2018</td>\n      <td>NaN</td>\n      <td>20191231</td>\n      <td>0</td>\n      <td>USD</td>\n      <td>0.0</td>\n      <td>NaN</td>\n    </tr>\n    <tr>\n      <th>55</th>\n      <td>0001017386-20-000148</td>\n      <td>OperatingLossCarryforwardsValuationAllowance</td>\n      <td>us-gaap/2018</td>\n      <td>NaN</td>\n      <td>20181231</td>\n      <td>0</td>\n      <td>USD</td>\n      <td>3986036.0</td>\n      <td>NaN</td>\n    </tr>\n    <tr>\n      <th>...</th>\n      <td>...</td>\n      <td>...</td>\n      <td>...</td>\n      <td>...</td>\n      <td>...</td>\n      <td>...</td>\n      <td>...</td>\n      <td>...</td>\n      <td>...</td>\n    </tr>\n    <tr>\n      <th>862</th>\n      <td>0001654948-20-000021</td>\n      <td>DeferredCostsLeasingNet</td>\n      <td>us-gaap/2018</td>\n      <td>NaN</td>\n      <td>20181231</td>\n      <td>0</td>\n      <td>USD</td>\n      <td>70266.0</td>\n      <td>NaN</td>\n    </tr>\n    <tr>\n      <th>867</th>\n      <td>0001654948-20-000029</td>\n      <td>DeferredCostsLeasingNet</td>\n      <td>us-gaap/2018</td>\n      <td>NaN</td>\n      <td>20191231</td>\n      <td>0</td>\n      <td>USD</td>\n      <td>314404.0</td>\n      <td>NaN</td>\n    </tr>\n    <tr>\n      <th>868</th>\n      <td>0001654948-20-000029</td>\n      <td>DeferredCostsLeasingNet</td>\n      <td>us-gaap/2018</td>\n      <td>NaN</td>\n      <td>20181231</td>\n      <td>0</td>\n      <td>USD</td>\n      <td>70266.0</td>\n      <td>NaN</td>\n    </tr>\n    <tr>\n      <th>883</th>\n      <td>0000916789-20-000024</td>\n      <td>DeferredFederalIncomeTaxExpenseBenefit</td>\n      <td>us-gaap/2018</td>\n      <td>NaN</td>\n      <td>20200229</td>\n      <td>4</td>\n      <td>USD</td>\n      <td>-4789000.0</td>\n      <td>NaN</td>\n    </tr>\n    <tr>\n      <th>884</th>\n      <td>0000916789-20-000024</td>\n      <td>DeferredFederalIncomeTaxExpenseBenefit</td>\n      <td>us-gaap/2018</td>\n      <td>NaN</td>\n      <td>20190228</td>\n      <td>4</td>\n      <td>USD</td>\n      <td>10480000.0</td>\n      <td>NaN</td>\n    </tr>\n  </tbody>\n</table>\n<p>100 rows × 9 columns</p>\n</div>"
     },
     "execution_count": 17,
     "metadata": {},
     "output_type": "execute_result"
    }
   ],
   "source": [
    "main_df2 = main_df[(main_df['uom'] == \"USD\") & ~np.isnan(main_df['value'])]\n",
    "main_df2.head(100)"
   ]
  },
  {
   "cell_type": "code",
   "execution_count": 18,
   "metadata": {
    "collapsed": false,
    "pycharm": {
     "name": "#%%\n"
    }
   },
   "outputs": [
    {
     "data": {
      "text/plain": "                    adsh                                                tag  \\\n18  0001661920-20-000025  DeferredCompensationLiabilityCurrentAndNoncurrent   \n19  0001661920-20-000025  DeferredCompensationLiabilityCurrentAndNoncurrent   \n35  0001673431-20-000006                         DeferredCompensationEquity   \n36  0001673431-20-000006                         DeferredCompensationEquity   \n55  0001017386-20-000148       OperatingLossCarryforwardsValuationAllowance   \n\n         version coreg     ddate  qtrs  uom      value footnote  \\\n18  us-gaap/2018   NaN  20181231     0  USD  1903000.0      NaN   \n19  us-gaap/2018   NaN  20191231     0  USD  2365000.0      NaN   \n35  us-gaap/2018   NaN  20181231     0  USD   829167.0      NaN   \n36  us-gaap/2018   NaN  20191231     0  USD        0.0      NaN   \n55  us-gaap/2018   NaN  20181231     0  USD  3986036.0      NaN   \n\n                          name                          name-year  \n18  LONESTAR RESOURCES US INC.  LONESTAR RESOURCES US INC._-_2018  \n19  LONESTAR RESOURCES US INC.  LONESTAR RESOURCES US INC._-_2019  \n35             IA ENERGY CORP.             IA ENERGY CORP._-_2018  \n36             IA ENERGY CORP.             IA ENERGY CORP._-_2019  \n55        NEWGIOCO GROUP, INC.        NEWGIOCO GROUP, INC._-_2018  ",
      "text/html": "<div>\n<style scoped>\n    .dataframe tbody tr th:only-of-type {\n        vertical-align: middle;\n    }\n\n    .dataframe tbody tr th {\n        vertical-align: top;\n    }\n\n    .dataframe thead th {\n        text-align: right;\n    }\n</style>\n<table border=\"1\" class=\"dataframe\">\n  <thead>\n    <tr style=\"text-align: right;\">\n      <th></th>\n      <th>adsh</th>\n      <th>tag</th>\n      <th>version</th>\n      <th>coreg</th>\n      <th>ddate</th>\n      <th>qtrs</th>\n      <th>uom</th>\n      <th>value</th>\n      <th>footnote</th>\n      <th>name</th>\n      <th>name-year</th>\n    </tr>\n  </thead>\n  <tbody>\n    <tr>\n      <th>18</th>\n      <td>0001661920-20-000025</td>\n      <td>DeferredCompensationLiabilityCurrentAndNoncurrent</td>\n      <td>us-gaap/2018</td>\n      <td>NaN</td>\n      <td>20181231</td>\n      <td>0</td>\n      <td>USD</td>\n      <td>1903000.0</td>\n      <td>NaN</td>\n      <td>LONESTAR RESOURCES US INC.</td>\n      <td>LONESTAR RESOURCES US INC._-_2018</td>\n    </tr>\n    <tr>\n      <th>19</th>\n      <td>0001661920-20-000025</td>\n      <td>DeferredCompensationLiabilityCurrentAndNoncurrent</td>\n      <td>us-gaap/2018</td>\n      <td>NaN</td>\n      <td>20191231</td>\n      <td>0</td>\n      <td>USD</td>\n      <td>2365000.0</td>\n      <td>NaN</td>\n      <td>LONESTAR RESOURCES US INC.</td>\n      <td>LONESTAR RESOURCES US INC._-_2019</td>\n    </tr>\n    <tr>\n      <th>35</th>\n      <td>0001673431-20-000006</td>\n      <td>DeferredCompensationEquity</td>\n      <td>us-gaap/2018</td>\n      <td>NaN</td>\n      <td>20181231</td>\n      <td>0</td>\n      <td>USD</td>\n      <td>829167.0</td>\n      <td>NaN</td>\n      <td>IA ENERGY CORP.</td>\n      <td>IA ENERGY CORP._-_2018</td>\n    </tr>\n    <tr>\n      <th>36</th>\n      <td>0001673431-20-000006</td>\n      <td>DeferredCompensationEquity</td>\n      <td>us-gaap/2018</td>\n      <td>NaN</td>\n      <td>20191231</td>\n      <td>0</td>\n      <td>USD</td>\n      <td>0.0</td>\n      <td>NaN</td>\n      <td>IA ENERGY CORP.</td>\n      <td>IA ENERGY CORP._-_2019</td>\n    </tr>\n    <tr>\n      <th>55</th>\n      <td>0001017386-20-000148</td>\n      <td>OperatingLossCarryforwardsValuationAllowance</td>\n      <td>us-gaap/2018</td>\n      <td>NaN</td>\n      <td>20181231</td>\n      <td>0</td>\n      <td>USD</td>\n      <td>3986036.0</td>\n      <td>NaN</td>\n      <td>NEWGIOCO GROUP, INC.</td>\n      <td>NEWGIOCO GROUP, INC._-_2018</td>\n    </tr>\n  </tbody>\n</table>\n</div>"
     },
     "execution_count": 18,
     "metadata": {},
     "output_type": "execute_result"
    }
   ],
   "source": [
    "new_df, firm_year_set, tag_set = get_skeleton_set(main_df, sub)\n",
    "new_df.head()"
   ]
  },
  {
   "cell_type": "code",
   "execution_count": 19,
   "metadata": {
    "collapsed": false,
    "pycharm": {
     "name": "#%%\n"
    }
   },
   "outputs": [
    {
     "data": {
      "text/plain": "23944"
     },
     "execution_count": 19,
     "metadata": {},
     "output_type": "execute_result"
    }
   ],
   "source": [
    "len(tag_set)"
   ]
  },
  {
   "cell_type": "code",
   "execution_count": 20,
   "metadata": {
    "collapsed": false,
    "pycharm": {
     "name": "#%%\n"
    }
   },
   "outputs": [
    {
     "data": {
      "text/plain": "3363"
     },
     "execution_count": 20,
     "metadata": {},
     "output_type": "execute_result"
    }
   ],
   "source": [
    "len(firm_year_set)"
   ]
  },
  {
   "cell_type": "code",
   "execution_count": null,
   "metadata": {
    "collapsed": false,
    "pycharm": {
     "name": "#%%\n",
     "is_executing": true
    }
   },
   "outputs": [],
   "source": [
    "firm_year_set"
   ]
  },
  {
   "cell_type": "code",
   "execution_count": 41,
   "metadata": {
    "collapsed": false,
    "pycharm": {
     "name": "#%%\n"
    }
   },
   "outputs": [
    {
     "name": "stdout",
     "output_type": "stream",
     "text": [
      "Starting 2021q2\n",
      "2021q2 finished\n",
      "Starting 2021q4\n",
      "2021q4 finished\n",
      "Starting 2021q3\n",
      "2021q3 finished\n",
      "Starting 2014q3\n",
      "2014q3 finished\n",
      "Starting 2014q4\n",
      "2014q4 finished\n",
      "Starting 2018q1\n",
      "2018q1 finished\n",
      "Starting 2016q1\n",
      "2016q1 finished\n",
      "Starting 2014q2\n",
      "2014q2 finished\n",
      "Starting 2020q1\n",
      "2020q1 finished\n",
      "Starting 2022q2\n",
      "2022q2 finished\n",
      "Starting 2022q4\n",
      "2022q4 finished\n",
      "Starting 2022q3\n",
      "2022q3 finished\n",
      "Starting 2013q2\n",
      "2013q2 finished\n",
      "Starting 2019q2\n",
      "2019q2 finished\n",
      "Starting 2017q3\n",
      "2017q3 finished\n",
      "Starting 2017q4\n",
      "2017q4 finished\n",
      "Starting 2019q3\n",
      "2019q3 finished\n",
      "Starting 2019q4\n",
      "2019q4 finished\n",
      "Starting 2013q3\n",
      "2013q3 finished\n",
      "Starting 2013q4\n",
      "2013q4 finished\n",
      "Starting 2015q1\n",
      "2015q1 finished\n",
      "Starting 2017q2\n",
      "2017q2 finished\n",
      "Starting 2021q1\n"
     ]
    },
    {
     "name": "stderr",
     "output_type": "stream",
     "text": [
      "/var/folders/93/vcxdh9f57dq1xzncrcs6kl_40000gn/T/ipykernel_77785/979150680.py:10: DtypeWarning: Columns (8) have mixed types. Specify dtype option on import or set low_memory=False.\n",
      "  num_df = pd.read_csv(f\"{extract_dir}/{folder}/num.txt\", sep=\"\\t\")\n"
     ]
    },
    {
     "name": "stdout",
     "output_type": "stream",
     "text": [
      "2021q1 finished\n",
      "Starting 2018q2\n",
      "2018q2 finished\n",
      "Starting 2016q4\n",
      "2016q4 finished\n",
      "Starting 2016q3\n",
      "2016q3 finished\n",
      "Starting 2012q4\n",
      "2012q4 finished\n",
      "Starting 2012q3\n",
      "2012q3 finished\n",
      "Starting 2018q4\n",
      "2018q4 finished\n",
      "Starting 2018q3\n",
      "2018q3 finished\n",
      "Starting 2016q2\n",
      "2016q2 finished\n",
      "Starting 2014q1\n",
      "2014q1 finished\n",
      "Starting 2020q2\n"
     ]
    },
    {
     "name": "stderr",
     "output_type": "stream",
     "text": [
      "/var/folders/93/vcxdh9f57dq1xzncrcs6kl_40000gn/T/ipykernel_77785/979150680.py:11: DtypeWarning: Columns (35) have mixed types. Specify dtype option on import or set low_memory=False.\n",
      "  sub_df = pd.read_csv(f\"{extract_dir}/{folder}/sub.txt\", sep=\"\\t\")\n"
     ]
    },
    {
     "name": "stdout",
     "output_type": "stream",
     "text": [
      "2020q2 finished\n",
      "Starting 2022q1\n"
     ]
    },
    {
     "name": "stderr",
     "output_type": "stream",
     "text": [
      "/var/folders/93/vcxdh9f57dq1xzncrcs6kl_40000gn/T/ipykernel_77785/979150680.py:10: DtypeWarning: Columns (8) have mixed types. Specify dtype option on import or set low_memory=False.\n",
      "  num_df = pd.read_csv(f\"{extract_dir}/{folder}/num.txt\", sep=\"\\t\")\n"
     ]
    },
    {
     "name": "stdout",
     "output_type": "stream",
     "text": [
      "2022q1 finished\n",
      "Starting 2020q3\n",
      "2020q3 finished\n",
      "Starting 2020q4\n",
      "2020q4 finished\n",
      "Starting 2015q4\n",
      "2015q4 finished\n",
      "Starting 2015q3\n",
      "2015q3 finished\n",
      "Starting 2013q1\n",
      "2013q1 finished\n",
      "Starting 2019q1\n",
      "2019q1 finished\n",
      "Starting 2015q2\n",
      "2015q2 finished\n",
      "Starting 2017q1\n",
      "2017q1 finished\n",
      "7128\n",
      "110490\n"
     ]
    }
   ],
   "source": [
    "from collections import defaultdict\n",
    "\n",
    "extract_dir = f\"{getcwd()}/../data/raw\"\n",
    "tag_sets = defaultdict(lambda: set())\n",
    "firm_year_set = set()\n",
    "for folder in os.listdir(extract_dir):\n",
    "    if not os.path.isdir(f\"{extract_dir}/{folder}\"):\n",
    "        continue\n",
    "    print(f\"Starting {folder}\")\n",
    "    num_df = pd.read_csv(f\"{extract_dir}/{folder}/num.txt\", sep=\"\\t\")\n",
    "    sub_df = pd.read_csv(f\"{extract_dir}/{folder}/sub.txt\", sep=\"\\t\")\n",
    "    # filter by 10k\n",
    "    sub_df = sub_df[(sub_df['form'] == \"10-K\") | (sub_df['form'] == \"10-K/A\")]\n",
    "    num_df = num_df[num_df['adsh'].isin(set(sub_df['adsh'].values))]\n",
    "    num_df = num_df[(num_df['uom'] == \"USD\") & ~np.isnan(num_df['value'])] # make sure that value is filled in and uom is USD\n",
    "    new_df, new_firm_year_set, new_tag_set = get_skeleton_set(num_df, sub_df)\n",
    "    year = folder.split(\"q\")[0]\n",
    "    tag_sets[year] = tag_sets[year].union(new_tag_set) # combine for current year\n",
    "    firm_year_set = firm_year_set.union(new_firm_year_set) # combine for all years/deduplicate\n",
    "\n",
    "    print(f\"{folder} finished\")\n",
    "\n",
    "\n",
    "final_tag_set = None\n",
    "for year, s, in tag_sets.items():\n",
    "    if final_tag_set is None:\n",
    "        final_tag_set = s\n",
    "    else:\n",
    "        final_tag_set = final_tag_set.intersection(s)\n",
    "\n",
    "print(len(final_tag_set))\n",
    "print(len(firm_year_set))"
   ]
  },
  {
   "cell_type": "code",
   "execution_count": 42,
   "metadata": {
    "collapsed": false,
    "pycharm": {
     "name": "#%%\n"
    }
   },
   "outputs": [
    {
     "name": "stdout",
     "output_type": "stream",
     "text": [
      "dict_keys(['2021', '2014', '2018', '2016', '2020', '2022', '2013', '2019', '2017', '2015', '2012'])\n"
     ]
    }
   ],
   "source": [
    "print(tag_sets.keys())"
   ]
  },
  {
   "cell_type": "code",
   "execution_count": 45,
   "metadata": {
    "collapsed": false,
    "pycharm": {
     "name": "#%%\n"
    }
   },
   "outputs": [],
   "source": [
    "import pickle\n",
    "out_dir = f\"{getcwd()}/../data/processed\"\n",
    "if not os.path.exists(out_dir):\n",
    "    os.mkdir(out_dir)\n",
    "#dump results\n",
    "with open(f\"{getcwd()}/../data/processed/tag_set.pkl\", \"wb+\") as f:\n",
    "    pickle.dump(final_tag_set, f)\n",
    "\n",
    "with open(f\"{getcwd()}/../data/processed/firm_year_set.pkl\", \"wb+\") as f:\n",
    "    pickle.dump(firm_year_set, f)\n"
   ]
  },
  {
   "cell_type": "code",
   "execution_count": 22,
   "outputs": [
    {
     "data": {
      "text/plain": "    Name  Year  RecordedThirdPartyEnvironmentalRecoveriesCurrent  \\\n0    NaN   NaN                                               NaN   \n1    NaN   NaN                                               NaN   \n2    NaN   NaN                                               NaN   \n3    NaN   NaN                                               NaN   \n4    NaN   NaN                                               NaN   \n..   ...   ...                                               ...   \n95   NaN   NaN                                               NaN   \n96   NaN   NaN                                               NaN   \n97   NaN   NaN                                               NaN   \n98   NaN   NaN                                               NaN   \n99   NaN   NaN                                               NaN   \n\n    FixedRateLoansReceivableOverOneToFiveYears  \\\n0                                          NaN   \n1                                          NaN   \n2                                          NaN   \n3                                          NaN   \n4                                          NaN   \n..                                         ...   \n95                                         NaN   \n96                                         NaN   \n97                                         NaN   \n98                                         NaN   \n99                                         NaN   \n\n    OperatingLeasesFutureMinimumPaymentsDueInThreeYears  \\\n0                                                 NaN     \n1                                                 NaN     \n2                                                 NaN     \n3                                                 NaN     \n4                                                 NaN     \n..                                                ...     \n95                                                NaN     \n96                                                NaN     \n97                                                NaN     \n98                                                NaN     \n99                                                NaN     \n\n    RealEstateAcquiredThroughForeclosure  LandBuildingsAndImprovements  \\\n0                                    NaN                           NaN   \n1                                    NaN                           NaN   \n2                                    NaN                           NaN   \n3                                    NaN                           NaN   \n4                                    NaN                           NaN   \n..                                   ...                           ...   \n95                                   NaN                           NaN   \n96                                   NaN                           NaN   \n97                                   NaN                           NaN   \n98                                   NaN                           NaN   \n99                                   NaN                           NaN   \n\n    InventoryAtCustomerLocationsIncludedInFinishedGoods  \\\n0                                                 NaN     \n1                                                 NaN     \n2                                                 NaN     \n3                                                 NaN     \n4                                                 NaN     \n..                                                ...     \n95                                                NaN     \n96                                                NaN     \n97                                                NaN     \n98                                                NaN     \n99                                                NaN     \n\n    DebtLongtermAndShorttermCombinedAndInterestMaturitiesRepaymentsOfPrincipalInNextTwelveMonths  \\\n0                                                 NaN                                              \n1                                                 NaN                                              \n2                                                 NaN                                              \n3                                                 NaN                                              \n4                                                 NaN                                              \n..                                                ...                                              \n95                                                NaN                                              \n96                                                NaN                                              \n97                                                NaN                                              \n98                                                NaN                                              \n99                                                NaN                                              \n\n    OtherGeneralExpense  ...  DerivativeCollateralRightToReclaimCash  \\\n0                   NaN  ...                                     NaN   \n1                   NaN  ...                                     NaN   \n2                   NaN  ...                                     NaN   \n3                   NaN  ...                                     NaN   \n4                   NaN  ...                                     NaN   \n..                  ...  ...                                     ...   \n95                  NaN  ...                                     NaN   \n96                  NaN  ...                                     NaN   \n97                  NaN  ...                                     NaN   \n98                  NaN  ...                                     NaN   \n99                  NaN  ...                                     NaN   \n\n    CapitalContribution  OperatingLossCarryforwardsFederal  \\\n0                   NaN                                NaN   \n1                   NaN                                NaN   \n2                   NaN                                NaN   \n3                   NaN                                NaN   \n4                   NaN                                NaN   \n..                  ...                                ...   \n95                  NaN                                NaN   \n96                  NaN                                NaN   \n97                  NaN                                NaN   \n98                  NaN                                NaN   \n99                  NaN                                NaN   \n\n    CompensationExpense  \\\n0                   NaN   \n1                   NaN   \n2                   NaN   \n3                   NaN   \n4                   NaN   \n..                  ...   \n95                  NaN   \n96                  NaN   \n97                  NaN   \n98                  NaN   \n99                  NaN   \n\n    IncomeTaxReconciliationIncomeTaxExpenseBenefitContinuingOperationsDiscontinuedOperationsAtFederalStatutoryIncomeTaxRate  \\\n0                                                 NaN                                                                         \n1                                                 NaN                                                                         \n2                                                 NaN                                                                         \n3                                                 NaN                                                                         \n4                                                 NaN                                                                         \n..                                                ...                                                                         \n95                                                NaN                                                                         \n96                                                NaN                                                                         \n97                                                NaN                                                                         \n98                                                NaN                                                                         \n99                                                NaN                                                                         \n\n    HeldToMaturitySecuritiesDebtMaturitiesRollingYearSixThroughTenFairValue  \\\n0                                                 NaN                         \n1                                                 NaN                         \n2                                                 NaN                         \n3                                                 NaN                         \n4                                                 NaN                         \n..                                                ...                         \n95                                                NaN                         \n96                                                NaN                         \n97                                                NaN                         \n98                                                NaN                         \n99                                                NaN                         \n\n    DueFromAffiliateCurrent  NetOperatingLossCarryover  \\\n0                       NaN                        NaN   \n1                       NaN                        NaN   \n2                       NaN                        NaN   \n3                       NaN                        NaN   \n4                       NaN                        NaN   \n..                      ...                        ...   \n95                      NaN                        NaN   \n96                      NaN                        NaN   \n97                      NaN                        NaN   \n98                      NaN                        NaN   \n99                      NaN                        NaN   \n\n    ProceedsFromIssuanceOfOtherLongTermDebt  \\\n0                                       NaN   \n1                                       NaN   \n2                                       NaN   \n3                                       NaN   \n4                                       NaN   \n..                                      ...   \n95                                      NaN   \n96                                      NaN   \n97                                      NaN   \n98                                      NaN   \n99                                      NaN   \n\n    AppropriationInvestmentPowerProgram  \n0                                   NaN  \n1                                   NaN  \n2                                   NaN  \n3                                   NaN  \n4                                   NaN  \n..                                  ...  \n95                                  NaN  \n96                                  NaN  \n97                                  NaN  \n98                                  NaN  \n99                                  NaN  \n\n[100 rows x 7130 columns]",
      "text/html": "<div>\n<style scoped>\n    .dataframe tbody tr th:only-of-type {\n        vertical-align: middle;\n    }\n\n    .dataframe tbody tr th {\n        vertical-align: top;\n    }\n\n    .dataframe thead th {\n        text-align: right;\n    }\n</style>\n<table border=\"1\" class=\"dataframe\">\n  <thead>\n    <tr style=\"text-align: right;\">\n      <th></th>\n      <th>Name</th>\n      <th>Year</th>\n      <th>RecordedThirdPartyEnvironmentalRecoveriesCurrent</th>\n      <th>FixedRateLoansReceivableOverOneToFiveYears</th>\n      <th>OperatingLeasesFutureMinimumPaymentsDueInThreeYears</th>\n      <th>RealEstateAcquiredThroughForeclosure</th>\n      <th>LandBuildingsAndImprovements</th>\n      <th>InventoryAtCustomerLocationsIncludedInFinishedGoods</th>\n      <th>DebtLongtermAndShorttermCombinedAndInterestMaturitiesRepaymentsOfPrincipalInNextTwelveMonths</th>\n      <th>OtherGeneralExpense</th>\n      <th>...</th>\n      <th>DerivativeCollateralRightToReclaimCash</th>\n      <th>CapitalContribution</th>\n      <th>OperatingLossCarryforwardsFederal</th>\n      <th>CompensationExpense</th>\n      <th>IncomeTaxReconciliationIncomeTaxExpenseBenefitContinuingOperationsDiscontinuedOperationsAtFederalStatutoryIncomeTaxRate</th>\n      <th>HeldToMaturitySecuritiesDebtMaturitiesRollingYearSixThroughTenFairValue</th>\n      <th>DueFromAffiliateCurrent</th>\n      <th>NetOperatingLossCarryover</th>\n      <th>ProceedsFromIssuanceOfOtherLongTermDebt</th>\n      <th>AppropriationInvestmentPowerProgram</th>\n    </tr>\n  </thead>\n  <tbody>\n    <tr>\n      <th>0</th>\n      <td>NaN</td>\n      <td>NaN</td>\n      <td>NaN</td>\n      <td>NaN</td>\n      <td>NaN</td>\n      <td>NaN</td>\n      <td>NaN</td>\n      <td>NaN</td>\n      <td>NaN</td>\n      <td>NaN</td>\n      <td>...</td>\n      <td>NaN</td>\n      <td>NaN</td>\n      <td>NaN</td>\n      <td>NaN</td>\n      <td>NaN</td>\n      <td>NaN</td>\n      <td>NaN</td>\n      <td>NaN</td>\n      <td>NaN</td>\n      <td>NaN</td>\n    </tr>\n    <tr>\n      <th>1</th>\n      <td>NaN</td>\n      <td>NaN</td>\n      <td>NaN</td>\n      <td>NaN</td>\n      <td>NaN</td>\n      <td>NaN</td>\n      <td>NaN</td>\n      <td>NaN</td>\n      <td>NaN</td>\n      <td>NaN</td>\n      <td>...</td>\n      <td>NaN</td>\n      <td>NaN</td>\n      <td>NaN</td>\n      <td>NaN</td>\n      <td>NaN</td>\n      <td>NaN</td>\n      <td>NaN</td>\n      <td>NaN</td>\n      <td>NaN</td>\n      <td>NaN</td>\n    </tr>\n    <tr>\n      <th>2</th>\n      <td>NaN</td>\n      <td>NaN</td>\n      <td>NaN</td>\n      <td>NaN</td>\n      <td>NaN</td>\n      <td>NaN</td>\n      <td>NaN</td>\n      <td>NaN</td>\n      <td>NaN</td>\n      <td>NaN</td>\n      <td>...</td>\n      <td>NaN</td>\n      <td>NaN</td>\n      <td>NaN</td>\n      <td>NaN</td>\n      <td>NaN</td>\n      <td>NaN</td>\n      <td>NaN</td>\n      <td>NaN</td>\n      <td>NaN</td>\n      <td>NaN</td>\n    </tr>\n    <tr>\n      <th>3</th>\n      <td>NaN</td>\n      <td>NaN</td>\n      <td>NaN</td>\n      <td>NaN</td>\n      <td>NaN</td>\n      <td>NaN</td>\n      <td>NaN</td>\n      <td>NaN</td>\n      <td>NaN</td>\n      <td>NaN</td>\n      <td>...</td>\n      <td>NaN</td>\n      <td>NaN</td>\n      <td>NaN</td>\n      <td>NaN</td>\n      <td>NaN</td>\n      <td>NaN</td>\n      <td>NaN</td>\n      <td>NaN</td>\n      <td>NaN</td>\n      <td>NaN</td>\n    </tr>\n    <tr>\n      <th>4</th>\n      <td>NaN</td>\n      <td>NaN</td>\n      <td>NaN</td>\n      <td>NaN</td>\n      <td>NaN</td>\n      <td>NaN</td>\n      <td>NaN</td>\n      <td>NaN</td>\n      <td>NaN</td>\n      <td>NaN</td>\n      <td>...</td>\n      <td>NaN</td>\n      <td>NaN</td>\n      <td>NaN</td>\n      <td>NaN</td>\n      <td>NaN</td>\n      <td>NaN</td>\n      <td>NaN</td>\n      <td>NaN</td>\n      <td>NaN</td>\n      <td>NaN</td>\n    </tr>\n    <tr>\n      <th>...</th>\n      <td>...</td>\n      <td>...</td>\n      <td>...</td>\n      <td>...</td>\n      <td>...</td>\n      <td>...</td>\n      <td>...</td>\n      <td>...</td>\n      <td>...</td>\n      <td>...</td>\n      <td>...</td>\n      <td>...</td>\n      <td>...</td>\n      <td>...</td>\n      <td>...</td>\n      <td>...</td>\n      <td>...</td>\n      <td>...</td>\n      <td>...</td>\n      <td>...</td>\n      <td>...</td>\n    </tr>\n    <tr>\n      <th>95</th>\n      <td>NaN</td>\n      <td>NaN</td>\n      <td>NaN</td>\n      <td>NaN</td>\n      <td>NaN</td>\n      <td>NaN</td>\n      <td>NaN</td>\n      <td>NaN</td>\n      <td>NaN</td>\n      <td>NaN</td>\n      <td>...</td>\n      <td>NaN</td>\n      <td>NaN</td>\n      <td>NaN</td>\n      <td>NaN</td>\n      <td>NaN</td>\n      <td>NaN</td>\n      <td>NaN</td>\n      <td>NaN</td>\n      <td>NaN</td>\n      <td>NaN</td>\n    </tr>\n    <tr>\n      <th>96</th>\n      <td>NaN</td>\n      <td>NaN</td>\n      <td>NaN</td>\n      <td>NaN</td>\n      <td>NaN</td>\n      <td>NaN</td>\n      <td>NaN</td>\n      <td>NaN</td>\n      <td>NaN</td>\n      <td>NaN</td>\n      <td>...</td>\n      <td>NaN</td>\n      <td>NaN</td>\n      <td>NaN</td>\n      <td>NaN</td>\n      <td>NaN</td>\n      <td>NaN</td>\n      <td>NaN</td>\n      <td>NaN</td>\n      <td>NaN</td>\n      <td>NaN</td>\n    </tr>\n    <tr>\n      <th>97</th>\n      <td>NaN</td>\n      <td>NaN</td>\n      <td>NaN</td>\n      <td>NaN</td>\n      <td>NaN</td>\n      <td>NaN</td>\n      <td>NaN</td>\n      <td>NaN</td>\n      <td>NaN</td>\n      <td>NaN</td>\n      <td>...</td>\n      <td>NaN</td>\n      <td>NaN</td>\n      <td>NaN</td>\n      <td>NaN</td>\n      <td>NaN</td>\n      <td>NaN</td>\n      <td>NaN</td>\n      <td>NaN</td>\n      <td>NaN</td>\n      <td>NaN</td>\n    </tr>\n    <tr>\n      <th>98</th>\n      <td>NaN</td>\n      <td>NaN</td>\n      <td>NaN</td>\n      <td>NaN</td>\n      <td>NaN</td>\n      <td>NaN</td>\n      <td>NaN</td>\n      <td>NaN</td>\n      <td>NaN</td>\n      <td>NaN</td>\n      <td>...</td>\n      <td>NaN</td>\n      <td>NaN</td>\n      <td>NaN</td>\n      <td>NaN</td>\n      <td>NaN</td>\n      <td>NaN</td>\n      <td>NaN</td>\n      <td>NaN</td>\n      <td>NaN</td>\n      <td>NaN</td>\n    </tr>\n    <tr>\n      <th>99</th>\n      <td>NaN</td>\n      <td>NaN</td>\n      <td>NaN</td>\n      <td>NaN</td>\n      <td>NaN</td>\n      <td>NaN</td>\n      <td>NaN</td>\n      <td>NaN</td>\n      <td>NaN</td>\n      <td>NaN</td>\n      <td>...</td>\n      <td>NaN</td>\n      <td>NaN</td>\n      <td>NaN</td>\n      <td>NaN</td>\n      <td>NaN</td>\n      <td>NaN</td>\n      <td>NaN</td>\n      <td>NaN</td>\n      <td>NaN</td>\n      <td>NaN</td>\n    </tr>\n  </tbody>\n</table>\n<p>100 rows × 7130 columns</p>\n</div>"
     },
     "execution_count": 22,
     "metadata": {},
     "output_type": "execute_result"
    }
   ],
   "source": [
    "# create dataframe\n",
    "firm_year_set = pd.read_pickle(f\"{getcwd()}/../data/processed/firm_year_set.pkl\")\n",
    "final_tag_set = pd.read_pickle(f\"{getcwd()}/../data/processed/tag_set.pkl\")\n",
    "output_df = pd.DataFrame(np.nan, index=list(range(len(firm_year_set))), columns=[\"Name\", \"Year\"] + list(final_tag_set))\n",
    "output_df.head(100)"
   ],
   "metadata": {
    "collapsed": false,
    "pycharm": {
     "name": "#%%\n"
    }
   }
  },
  {
   "cell_type": "code",
   "execution_count": 24,
   "outputs": [
    {
     "data": {
      "text/plain": "                                 Name  Year  \\\n0                      DOXIMITY, INC.  2022   \n1   AIR PRODUCTS & CHEMICALS INC /DE/  2016   \n2                       SYNAPTICS INC  2010   \n3                        WINMARK CORP  2011   \n4            REVEN HOUSING REIT, INC.  2010   \n..                                ...   ...   \n95                  FOOT LOCKER, INC.  2020   \n96         VIDEO RIVER NETWORKS, INC.  2018   \n97                   RENOVACARE, INC.  2018   \n98            MDU RESOURCES GROUP INC  2020   \n99               NOBILIS HEALTH CORP.  2016   \n\n    RecordedThirdPartyEnvironmentalRecoveriesCurrent  \\\n0                                                NaN   \n1                                                NaN   \n2                                                NaN   \n3                                                NaN   \n4                                                NaN   \n..                                               ...   \n95                                               NaN   \n96                                               NaN   \n97                                               NaN   \n98                                               NaN   \n99                                               NaN   \n\n    FixedRateLoansReceivableOverOneToFiveYears  \\\n0                                          NaN   \n1                                          NaN   \n2                                          NaN   \n3                                          NaN   \n4                                          NaN   \n..                                         ...   \n95                                         NaN   \n96                                         NaN   \n97                                         NaN   \n98                                         NaN   \n99                                         NaN   \n\n    OperatingLeasesFutureMinimumPaymentsDueInThreeYears  \\\n0                                                 NaN     \n1                                                 NaN     \n2                                                 NaN     \n3                                                 NaN     \n4                                                 NaN     \n..                                                ...     \n95                                                NaN     \n96                                                NaN     \n97                                                NaN     \n98                                                NaN     \n99                                                NaN     \n\n    RealEstateAcquiredThroughForeclosure  LandBuildingsAndImprovements  \\\n0                                    NaN                           NaN   \n1                                    NaN                           NaN   \n2                                    NaN                           NaN   \n3                                    NaN                           NaN   \n4                                    NaN                           NaN   \n..                                   ...                           ...   \n95                                   NaN                           NaN   \n96                                   NaN                           NaN   \n97                                   NaN                           NaN   \n98                                   NaN                           NaN   \n99                                   NaN                           NaN   \n\n    InventoryAtCustomerLocationsIncludedInFinishedGoods  \\\n0                                                 NaN     \n1                                                 NaN     \n2                                                 NaN     \n3                                                 NaN     \n4                                                 NaN     \n..                                                ...     \n95                                                NaN     \n96                                                NaN     \n97                                                NaN     \n98                                                NaN     \n99                                                NaN     \n\n    DebtLongtermAndShorttermCombinedAndInterestMaturitiesRepaymentsOfPrincipalInNextTwelveMonths  \\\n0                                                 NaN                                              \n1                                                 NaN                                              \n2                                                 NaN                                              \n3                                                 NaN                                              \n4                                                 NaN                                              \n..                                                ...                                              \n95                                                NaN                                              \n96                                                NaN                                              \n97                                                NaN                                              \n98                                                NaN                                              \n99                                                NaN                                              \n\n    OtherGeneralExpense  ...  DerivativeCollateralRightToReclaimCash  \\\n0                   NaN  ...                                     NaN   \n1                   NaN  ...                                     NaN   \n2                   NaN  ...                                     NaN   \n3                   NaN  ...                                     NaN   \n4                   NaN  ...                                     NaN   \n..                  ...  ...                                     ...   \n95                  NaN  ...                                     NaN   \n96                  NaN  ...                                     NaN   \n97                  NaN  ...                                     NaN   \n98                  NaN  ...                                     NaN   \n99                  NaN  ...                                     NaN   \n\n    CapitalContribution  OperatingLossCarryforwardsFederal  \\\n0                   NaN                                NaN   \n1                   NaN                                NaN   \n2                   NaN                                NaN   \n3                   NaN                                NaN   \n4                   NaN                                NaN   \n..                  ...                                ...   \n95                  NaN                                NaN   \n96                  NaN                                NaN   \n97                  NaN                                NaN   \n98                  NaN                                NaN   \n99                  NaN                                NaN   \n\n    CompensationExpense  \\\n0                   NaN   \n1                   NaN   \n2                   NaN   \n3                   NaN   \n4                   NaN   \n..                  ...   \n95                  NaN   \n96                  NaN   \n97                  NaN   \n98                  NaN   \n99                  NaN   \n\n    IncomeTaxReconciliationIncomeTaxExpenseBenefitContinuingOperationsDiscontinuedOperationsAtFederalStatutoryIncomeTaxRate  \\\n0                                                 NaN                                                                         \n1                                                 NaN                                                                         \n2                                                 NaN                                                                         \n3                                                 NaN                                                                         \n4                                                 NaN                                                                         \n..                                                ...                                                                         \n95                                                NaN                                                                         \n96                                                NaN                                                                         \n97                                                NaN                                                                         \n98                                                NaN                                                                         \n99                                                NaN                                                                         \n\n    HeldToMaturitySecuritiesDebtMaturitiesRollingYearSixThroughTenFairValue  \\\n0                                                 NaN                         \n1                                                 NaN                         \n2                                                 NaN                         \n3                                                 NaN                         \n4                                                 NaN                         \n..                                                ...                         \n95                                                NaN                         \n96                                                NaN                         \n97                                                NaN                         \n98                                                NaN                         \n99                                                NaN                         \n\n    DueFromAffiliateCurrent  NetOperatingLossCarryover  \\\n0                       NaN                        NaN   \n1                       NaN                        NaN   \n2                       NaN                        NaN   \n3                       NaN                        NaN   \n4                       NaN                        NaN   \n..                      ...                        ...   \n95                      NaN                        NaN   \n96                      NaN                        NaN   \n97                      NaN                        NaN   \n98                      NaN                        NaN   \n99                      NaN                        NaN   \n\n    ProceedsFromIssuanceOfOtherLongTermDebt  \\\n0                                       NaN   \n1                                       NaN   \n2                                       NaN   \n3                                       NaN   \n4                                       NaN   \n..                                      ...   \n95                                      NaN   \n96                                      NaN   \n97                                      NaN   \n98                                      NaN   \n99                                      NaN   \n\n    AppropriationInvestmentPowerProgram  \n0                                   NaN  \n1                                   NaN  \n2                                   NaN  \n3                                   NaN  \n4                                   NaN  \n..                                  ...  \n95                                  NaN  \n96                                  NaN  \n97                                  NaN  \n98                                  NaN  \n99                                  NaN  \n\n[100 rows x 7130 columns]",
      "text/html": "<div>\n<style scoped>\n    .dataframe tbody tr th:only-of-type {\n        vertical-align: middle;\n    }\n\n    .dataframe tbody tr th {\n        vertical-align: top;\n    }\n\n    .dataframe thead th {\n        text-align: right;\n    }\n</style>\n<table border=\"1\" class=\"dataframe\">\n  <thead>\n    <tr style=\"text-align: right;\">\n      <th></th>\n      <th>Name</th>\n      <th>Year</th>\n      <th>RecordedThirdPartyEnvironmentalRecoveriesCurrent</th>\n      <th>FixedRateLoansReceivableOverOneToFiveYears</th>\n      <th>OperatingLeasesFutureMinimumPaymentsDueInThreeYears</th>\n      <th>RealEstateAcquiredThroughForeclosure</th>\n      <th>LandBuildingsAndImprovements</th>\n      <th>InventoryAtCustomerLocationsIncludedInFinishedGoods</th>\n      <th>DebtLongtermAndShorttermCombinedAndInterestMaturitiesRepaymentsOfPrincipalInNextTwelveMonths</th>\n      <th>OtherGeneralExpense</th>\n      <th>...</th>\n      <th>DerivativeCollateralRightToReclaimCash</th>\n      <th>CapitalContribution</th>\n      <th>OperatingLossCarryforwardsFederal</th>\n      <th>CompensationExpense</th>\n      <th>IncomeTaxReconciliationIncomeTaxExpenseBenefitContinuingOperationsDiscontinuedOperationsAtFederalStatutoryIncomeTaxRate</th>\n      <th>HeldToMaturitySecuritiesDebtMaturitiesRollingYearSixThroughTenFairValue</th>\n      <th>DueFromAffiliateCurrent</th>\n      <th>NetOperatingLossCarryover</th>\n      <th>ProceedsFromIssuanceOfOtherLongTermDebt</th>\n      <th>AppropriationInvestmentPowerProgram</th>\n    </tr>\n  </thead>\n  <tbody>\n    <tr>\n      <th>0</th>\n      <td>DOXIMITY, INC.</td>\n      <td>2022</td>\n      <td>NaN</td>\n      <td>NaN</td>\n      <td>NaN</td>\n      <td>NaN</td>\n      <td>NaN</td>\n      <td>NaN</td>\n      <td>NaN</td>\n      <td>NaN</td>\n      <td>...</td>\n      <td>NaN</td>\n      <td>NaN</td>\n      <td>NaN</td>\n      <td>NaN</td>\n      <td>NaN</td>\n      <td>NaN</td>\n      <td>NaN</td>\n      <td>NaN</td>\n      <td>NaN</td>\n      <td>NaN</td>\n    </tr>\n    <tr>\n      <th>1</th>\n      <td>AIR PRODUCTS &amp; CHEMICALS INC /DE/</td>\n      <td>2016</td>\n      <td>NaN</td>\n      <td>NaN</td>\n      <td>NaN</td>\n      <td>NaN</td>\n      <td>NaN</td>\n      <td>NaN</td>\n      <td>NaN</td>\n      <td>NaN</td>\n      <td>...</td>\n      <td>NaN</td>\n      <td>NaN</td>\n      <td>NaN</td>\n      <td>NaN</td>\n      <td>NaN</td>\n      <td>NaN</td>\n      <td>NaN</td>\n      <td>NaN</td>\n      <td>NaN</td>\n      <td>NaN</td>\n    </tr>\n    <tr>\n      <th>2</th>\n      <td>SYNAPTICS INC</td>\n      <td>2010</td>\n      <td>NaN</td>\n      <td>NaN</td>\n      <td>NaN</td>\n      <td>NaN</td>\n      <td>NaN</td>\n      <td>NaN</td>\n      <td>NaN</td>\n      <td>NaN</td>\n      <td>...</td>\n      <td>NaN</td>\n      <td>NaN</td>\n      <td>NaN</td>\n      <td>NaN</td>\n      <td>NaN</td>\n      <td>NaN</td>\n      <td>NaN</td>\n      <td>NaN</td>\n      <td>NaN</td>\n      <td>NaN</td>\n    </tr>\n    <tr>\n      <th>3</th>\n      <td>WINMARK CORP</td>\n      <td>2011</td>\n      <td>NaN</td>\n      <td>NaN</td>\n      <td>NaN</td>\n      <td>NaN</td>\n      <td>NaN</td>\n      <td>NaN</td>\n      <td>NaN</td>\n      <td>NaN</td>\n      <td>...</td>\n      <td>NaN</td>\n      <td>NaN</td>\n      <td>NaN</td>\n      <td>NaN</td>\n      <td>NaN</td>\n      <td>NaN</td>\n      <td>NaN</td>\n      <td>NaN</td>\n      <td>NaN</td>\n      <td>NaN</td>\n    </tr>\n    <tr>\n      <th>4</th>\n      <td>REVEN HOUSING REIT, INC.</td>\n      <td>2010</td>\n      <td>NaN</td>\n      <td>NaN</td>\n      <td>NaN</td>\n      <td>NaN</td>\n      <td>NaN</td>\n      <td>NaN</td>\n      <td>NaN</td>\n      <td>NaN</td>\n      <td>...</td>\n      <td>NaN</td>\n      <td>NaN</td>\n      <td>NaN</td>\n      <td>NaN</td>\n      <td>NaN</td>\n      <td>NaN</td>\n      <td>NaN</td>\n      <td>NaN</td>\n      <td>NaN</td>\n      <td>NaN</td>\n    </tr>\n    <tr>\n      <th>...</th>\n      <td>...</td>\n      <td>...</td>\n      <td>...</td>\n      <td>...</td>\n      <td>...</td>\n      <td>...</td>\n      <td>...</td>\n      <td>...</td>\n      <td>...</td>\n      <td>...</td>\n      <td>...</td>\n      <td>...</td>\n      <td>...</td>\n      <td>...</td>\n      <td>...</td>\n      <td>...</td>\n      <td>...</td>\n      <td>...</td>\n      <td>...</td>\n      <td>...</td>\n      <td>...</td>\n    </tr>\n    <tr>\n      <th>95</th>\n      <td>FOOT LOCKER, INC.</td>\n      <td>2020</td>\n      <td>NaN</td>\n      <td>NaN</td>\n      <td>NaN</td>\n      <td>NaN</td>\n      <td>NaN</td>\n      <td>NaN</td>\n      <td>NaN</td>\n      <td>NaN</td>\n      <td>...</td>\n      <td>NaN</td>\n      <td>NaN</td>\n      <td>NaN</td>\n      <td>NaN</td>\n      <td>NaN</td>\n      <td>NaN</td>\n      <td>NaN</td>\n      <td>NaN</td>\n      <td>NaN</td>\n      <td>NaN</td>\n    </tr>\n    <tr>\n      <th>96</th>\n      <td>VIDEO RIVER NETWORKS, INC.</td>\n      <td>2018</td>\n      <td>NaN</td>\n      <td>NaN</td>\n      <td>NaN</td>\n      <td>NaN</td>\n      <td>NaN</td>\n      <td>NaN</td>\n      <td>NaN</td>\n      <td>NaN</td>\n      <td>...</td>\n      <td>NaN</td>\n      <td>NaN</td>\n      <td>NaN</td>\n      <td>NaN</td>\n      <td>NaN</td>\n      <td>NaN</td>\n      <td>NaN</td>\n      <td>NaN</td>\n      <td>NaN</td>\n      <td>NaN</td>\n    </tr>\n    <tr>\n      <th>97</th>\n      <td>RENOVACARE, INC.</td>\n      <td>2018</td>\n      <td>NaN</td>\n      <td>NaN</td>\n      <td>NaN</td>\n      <td>NaN</td>\n      <td>NaN</td>\n      <td>NaN</td>\n      <td>NaN</td>\n      <td>NaN</td>\n      <td>...</td>\n      <td>NaN</td>\n      <td>NaN</td>\n      <td>NaN</td>\n      <td>NaN</td>\n      <td>NaN</td>\n      <td>NaN</td>\n      <td>NaN</td>\n      <td>NaN</td>\n      <td>NaN</td>\n      <td>NaN</td>\n    </tr>\n    <tr>\n      <th>98</th>\n      <td>MDU RESOURCES GROUP INC</td>\n      <td>2020</td>\n      <td>NaN</td>\n      <td>NaN</td>\n      <td>NaN</td>\n      <td>NaN</td>\n      <td>NaN</td>\n      <td>NaN</td>\n      <td>NaN</td>\n      <td>NaN</td>\n      <td>...</td>\n      <td>NaN</td>\n      <td>NaN</td>\n      <td>NaN</td>\n      <td>NaN</td>\n      <td>NaN</td>\n      <td>NaN</td>\n      <td>NaN</td>\n      <td>NaN</td>\n      <td>NaN</td>\n      <td>NaN</td>\n    </tr>\n    <tr>\n      <th>99</th>\n      <td>NOBILIS HEALTH CORP.</td>\n      <td>2016</td>\n      <td>NaN</td>\n      <td>NaN</td>\n      <td>NaN</td>\n      <td>NaN</td>\n      <td>NaN</td>\n      <td>NaN</td>\n      <td>NaN</td>\n      <td>NaN</td>\n      <td>...</td>\n      <td>NaN</td>\n      <td>NaN</td>\n      <td>NaN</td>\n      <td>NaN</td>\n      <td>NaN</td>\n      <td>NaN</td>\n      <td>NaN</td>\n      <td>NaN</td>\n      <td>NaN</td>\n      <td>NaN</td>\n    </tr>\n  </tbody>\n</table>\n<p>100 rows × 7130 columns</p>\n</div>"
     },
     "execution_count": 24,
     "metadata": {},
     "output_type": "execute_result"
    }
   ],
   "source": [
    "names = [x[0] for x in firm_year_set]\n",
    "years = [x[1] for x in firm_year_set]\n",
    "output_df[\"Name\"] = names\n",
    "output_df[\"Year\"] = years\n",
    "output_df.head(100)"
   ],
   "metadata": {
    "collapsed": false,
    "pycharm": {
     "name": "#%%\n"
    }
   }
  },
  {
   "cell_type": "code",
   "execution_count": 25,
   "outputs": [
    {
     "data": {
      "text/plain": "                                 Name  Year  \\\n0                      DOXIMITY, INC.  2022   \n1   AIR PRODUCTS & CHEMICALS INC /DE/  2016   \n2                       SYNAPTICS INC  2010   \n3                        WINMARK CORP  2011   \n4            REVEN HOUSING REIT, INC.  2010   \n..                                ...   ...   \n95                  FOOT LOCKER, INC.  2020   \n96         VIDEO RIVER NETWORKS, INC.  2018   \n97                   RENOVACARE, INC.  2018   \n98            MDU RESOURCES GROUP INC  2020   \n99               NOBILIS HEALTH CORP.  2016   \n\n    RecordedThirdPartyEnvironmentalRecoveriesCurrent  \\\n0                                                NaN   \n1                                                NaN   \n2                                                NaN   \n3                                                NaN   \n4                                                NaN   \n..                                               ...   \n95                                               NaN   \n96                                               NaN   \n97                                               NaN   \n98                                               NaN   \n99                                               NaN   \n\n    FixedRateLoansReceivableOverOneToFiveYears  \\\n0                                          NaN   \n1                                          NaN   \n2                                          NaN   \n3                                          NaN   \n4                                          NaN   \n..                                         ...   \n95                                         NaN   \n96                                         NaN   \n97                                         NaN   \n98                                         NaN   \n99                                         NaN   \n\n    OperatingLeasesFutureMinimumPaymentsDueInThreeYears  \\\n0                                                 NaN     \n1                                                 NaN     \n2                                                 NaN     \n3                                                 NaN     \n4                                                 NaN     \n..                                                ...     \n95                                                NaN     \n96                                                NaN     \n97                                                NaN     \n98                                                NaN     \n99                                                NaN     \n\n    RealEstateAcquiredThroughForeclosure  LandBuildingsAndImprovements  \\\n0                                    NaN                           NaN   \n1                                    NaN                           NaN   \n2                                    NaN                           NaN   \n3                                    NaN                           NaN   \n4                                    NaN                           NaN   \n..                                   ...                           ...   \n95                                   NaN                           NaN   \n96                                   NaN                           NaN   \n97                                   NaN                           NaN   \n98                                   NaN                           NaN   \n99                                   NaN                           NaN   \n\n    InventoryAtCustomerLocationsIncludedInFinishedGoods  \\\n0                                                 NaN     \n1                                                 NaN     \n2                                                 NaN     \n3                                                 NaN     \n4                                                 NaN     \n..                                                ...     \n95                                                NaN     \n96                                                NaN     \n97                                                NaN     \n98                                                NaN     \n99                                                NaN     \n\n    DebtLongtermAndShorttermCombinedAndInterestMaturitiesRepaymentsOfPrincipalInNextTwelveMonths  \\\n0                                                 NaN                                              \n1                                                 NaN                                              \n2                                                 NaN                                              \n3                                                 NaN                                              \n4                                                 NaN                                              \n..                                                ...                                              \n95                                                NaN                                              \n96                                                NaN                                              \n97                                                NaN                                              \n98                                                NaN                                              \n99                                                NaN                                              \n\n    OtherGeneralExpense  ...  DerivativeCollateralRightToReclaimCash  \\\n0                   NaN  ...                                     NaN   \n1                   NaN  ...                                     NaN   \n2                   NaN  ...                                     NaN   \n3                   NaN  ...                                     NaN   \n4                   NaN  ...                                     NaN   \n..                  ...  ...                                     ...   \n95                  NaN  ...                                     NaN   \n96                  NaN  ...                                     NaN   \n97                  NaN  ...                                     NaN   \n98                  NaN  ...                                     NaN   \n99                  NaN  ...                                     NaN   \n\n    CapitalContribution  OperatingLossCarryforwardsFederal  \\\n0                   NaN                                NaN   \n1                   NaN                                NaN   \n2                   NaN                                NaN   \n3                   NaN                                NaN   \n4                   NaN                                NaN   \n..                  ...                                ...   \n95                  NaN                                NaN   \n96                  NaN                                NaN   \n97                  NaN                                NaN   \n98                  NaN                                NaN   \n99                  NaN                                NaN   \n\n    CompensationExpense  \\\n0                   NaN   \n1                   NaN   \n2                   NaN   \n3                   NaN   \n4                   NaN   \n..                  ...   \n95                  NaN   \n96                  NaN   \n97                  NaN   \n98                  NaN   \n99                  NaN   \n\n    IncomeTaxReconciliationIncomeTaxExpenseBenefitContinuingOperationsDiscontinuedOperationsAtFederalStatutoryIncomeTaxRate  \\\n0                                                 NaN                                                                         \n1                                                 NaN                                                                         \n2                                                 NaN                                                                         \n3                                                 NaN                                                                         \n4                                                 NaN                                                                         \n..                                                ...                                                                         \n95                                                NaN                                                                         \n96                                                NaN                                                                         \n97                                                NaN                                                                         \n98                                                NaN                                                                         \n99                                                NaN                                                                         \n\n    HeldToMaturitySecuritiesDebtMaturitiesRollingYearSixThroughTenFairValue  \\\n0                                                 NaN                         \n1                                                 NaN                         \n2                                                 NaN                         \n3                                                 NaN                         \n4                                                 NaN                         \n..                                                ...                         \n95                                                NaN                         \n96                                                NaN                         \n97                                                NaN                         \n98                                                NaN                         \n99                                                NaN                         \n\n    DueFromAffiliateCurrent  NetOperatingLossCarryover  \\\n0                       NaN                        NaN   \n1                       NaN                        NaN   \n2                       NaN                        NaN   \n3                       NaN                        NaN   \n4                       NaN                        NaN   \n..                      ...                        ...   \n95                      NaN                        NaN   \n96                      NaN                        NaN   \n97                      NaN                        NaN   \n98                      NaN                        NaN   \n99                      NaN                        NaN   \n\n    ProceedsFromIssuanceOfOtherLongTermDebt  \\\n0                                       NaN   \n1                                       NaN   \n2                                       NaN   \n3                                       NaN   \n4                                       NaN   \n..                                      ...   \n95                                      NaN   \n96                                      NaN   \n97                                      NaN   \n98                                      NaN   \n99                                      NaN   \n\n    AppropriationInvestmentPowerProgram  \n0                                   NaN  \n1                                   NaN  \n2                                   NaN  \n3                                   NaN  \n4                                   NaN  \n..                                  ...  \n95                                  NaN  \n96                                  NaN  \n97                                  NaN  \n98                                  NaN  \n99                                  NaN  \n\n[100 rows x 7130 columns]",
      "text/html": "<div>\n<style scoped>\n    .dataframe tbody tr th:only-of-type {\n        vertical-align: middle;\n    }\n\n    .dataframe tbody tr th {\n        vertical-align: top;\n    }\n\n    .dataframe thead th {\n        text-align: right;\n    }\n</style>\n<table border=\"1\" class=\"dataframe\">\n  <thead>\n    <tr style=\"text-align: right;\">\n      <th></th>\n      <th>Name</th>\n      <th>Year</th>\n      <th>RecordedThirdPartyEnvironmentalRecoveriesCurrent</th>\n      <th>FixedRateLoansReceivableOverOneToFiveYears</th>\n      <th>OperatingLeasesFutureMinimumPaymentsDueInThreeYears</th>\n      <th>RealEstateAcquiredThroughForeclosure</th>\n      <th>LandBuildingsAndImprovements</th>\n      <th>InventoryAtCustomerLocationsIncludedInFinishedGoods</th>\n      <th>DebtLongtermAndShorttermCombinedAndInterestMaturitiesRepaymentsOfPrincipalInNextTwelveMonths</th>\n      <th>OtherGeneralExpense</th>\n      <th>...</th>\n      <th>DerivativeCollateralRightToReclaimCash</th>\n      <th>CapitalContribution</th>\n      <th>OperatingLossCarryforwardsFederal</th>\n      <th>CompensationExpense</th>\n      <th>IncomeTaxReconciliationIncomeTaxExpenseBenefitContinuingOperationsDiscontinuedOperationsAtFederalStatutoryIncomeTaxRate</th>\n      <th>HeldToMaturitySecuritiesDebtMaturitiesRollingYearSixThroughTenFairValue</th>\n      <th>DueFromAffiliateCurrent</th>\n      <th>NetOperatingLossCarryover</th>\n      <th>ProceedsFromIssuanceOfOtherLongTermDebt</th>\n      <th>AppropriationInvestmentPowerProgram</th>\n    </tr>\n  </thead>\n  <tbody>\n    <tr>\n      <th>0</th>\n      <td>DOXIMITY, INC.</td>\n      <td>2022</td>\n      <td>NaN</td>\n      <td>NaN</td>\n      <td>NaN</td>\n      <td>NaN</td>\n      <td>NaN</td>\n      <td>NaN</td>\n      <td>NaN</td>\n      <td>NaN</td>\n      <td>...</td>\n      <td>NaN</td>\n      <td>NaN</td>\n      <td>NaN</td>\n      <td>NaN</td>\n      <td>NaN</td>\n      <td>NaN</td>\n      <td>NaN</td>\n      <td>NaN</td>\n      <td>NaN</td>\n      <td>NaN</td>\n    </tr>\n    <tr>\n      <th>1</th>\n      <td>AIR PRODUCTS &amp; CHEMICALS INC /DE/</td>\n      <td>2016</td>\n      <td>NaN</td>\n      <td>NaN</td>\n      <td>NaN</td>\n      <td>NaN</td>\n      <td>NaN</td>\n      <td>NaN</td>\n      <td>NaN</td>\n      <td>NaN</td>\n      <td>...</td>\n      <td>NaN</td>\n      <td>NaN</td>\n      <td>NaN</td>\n      <td>NaN</td>\n      <td>NaN</td>\n      <td>NaN</td>\n      <td>NaN</td>\n      <td>NaN</td>\n      <td>NaN</td>\n      <td>NaN</td>\n    </tr>\n    <tr>\n      <th>2</th>\n      <td>SYNAPTICS INC</td>\n      <td>2010</td>\n      <td>NaN</td>\n      <td>NaN</td>\n      <td>NaN</td>\n      <td>NaN</td>\n      <td>NaN</td>\n      <td>NaN</td>\n      <td>NaN</td>\n      <td>NaN</td>\n      <td>...</td>\n      <td>NaN</td>\n      <td>NaN</td>\n      <td>NaN</td>\n      <td>NaN</td>\n      <td>NaN</td>\n      <td>NaN</td>\n      <td>NaN</td>\n      <td>NaN</td>\n      <td>NaN</td>\n      <td>NaN</td>\n    </tr>\n    <tr>\n      <th>3</th>\n      <td>WINMARK CORP</td>\n      <td>2011</td>\n      <td>NaN</td>\n      <td>NaN</td>\n      <td>NaN</td>\n      <td>NaN</td>\n      <td>NaN</td>\n      <td>NaN</td>\n      <td>NaN</td>\n      <td>NaN</td>\n      <td>...</td>\n      <td>NaN</td>\n      <td>NaN</td>\n      <td>NaN</td>\n      <td>NaN</td>\n      <td>NaN</td>\n      <td>NaN</td>\n      <td>NaN</td>\n      <td>NaN</td>\n      <td>NaN</td>\n      <td>NaN</td>\n    </tr>\n    <tr>\n      <th>4</th>\n      <td>REVEN HOUSING REIT, INC.</td>\n      <td>2010</td>\n      <td>NaN</td>\n      <td>NaN</td>\n      <td>NaN</td>\n      <td>NaN</td>\n      <td>NaN</td>\n      <td>NaN</td>\n      <td>NaN</td>\n      <td>NaN</td>\n      <td>...</td>\n      <td>NaN</td>\n      <td>NaN</td>\n      <td>NaN</td>\n      <td>NaN</td>\n      <td>NaN</td>\n      <td>NaN</td>\n      <td>NaN</td>\n      <td>NaN</td>\n      <td>NaN</td>\n      <td>NaN</td>\n    </tr>\n    <tr>\n      <th>...</th>\n      <td>...</td>\n      <td>...</td>\n      <td>...</td>\n      <td>...</td>\n      <td>...</td>\n      <td>...</td>\n      <td>...</td>\n      <td>...</td>\n      <td>...</td>\n      <td>...</td>\n      <td>...</td>\n      <td>...</td>\n      <td>...</td>\n      <td>...</td>\n      <td>...</td>\n      <td>...</td>\n      <td>...</td>\n      <td>...</td>\n      <td>...</td>\n      <td>...</td>\n      <td>...</td>\n    </tr>\n    <tr>\n      <th>95</th>\n      <td>FOOT LOCKER, INC.</td>\n      <td>2020</td>\n      <td>NaN</td>\n      <td>NaN</td>\n      <td>NaN</td>\n      <td>NaN</td>\n      <td>NaN</td>\n      <td>NaN</td>\n      <td>NaN</td>\n      <td>NaN</td>\n      <td>...</td>\n      <td>NaN</td>\n      <td>NaN</td>\n      <td>NaN</td>\n      <td>NaN</td>\n      <td>NaN</td>\n      <td>NaN</td>\n      <td>NaN</td>\n      <td>NaN</td>\n      <td>NaN</td>\n      <td>NaN</td>\n    </tr>\n    <tr>\n      <th>96</th>\n      <td>VIDEO RIVER NETWORKS, INC.</td>\n      <td>2018</td>\n      <td>NaN</td>\n      <td>NaN</td>\n      <td>NaN</td>\n      <td>NaN</td>\n      <td>NaN</td>\n      <td>NaN</td>\n      <td>NaN</td>\n      <td>NaN</td>\n      <td>...</td>\n      <td>NaN</td>\n      <td>NaN</td>\n      <td>NaN</td>\n      <td>NaN</td>\n      <td>NaN</td>\n      <td>NaN</td>\n      <td>NaN</td>\n      <td>NaN</td>\n      <td>NaN</td>\n      <td>NaN</td>\n    </tr>\n    <tr>\n      <th>97</th>\n      <td>RENOVACARE, INC.</td>\n      <td>2018</td>\n      <td>NaN</td>\n      <td>NaN</td>\n      <td>NaN</td>\n      <td>NaN</td>\n      <td>NaN</td>\n      <td>NaN</td>\n      <td>NaN</td>\n      <td>NaN</td>\n      <td>...</td>\n      <td>NaN</td>\n      <td>NaN</td>\n      <td>NaN</td>\n      <td>NaN</td>\n      <td>NaN</td>\n      <td>NaN</td>\n      <td>NaN</td>\n      <td>NaN</td>\n      <td>NaN</td>\n      <td>NaN</td>\n    </tr>\n    <tr>\n      <th>98</th>\n      <td>MDU RESOURCES GROUP INC</td>\n      <td>2020</td>\n      <td>NaN</td>\n      <td>NaN</td>\n      <td>NaN</td>\n      <td>NaN</td>\n      <td>NaN</td>\n      <td>NaN</td>\n      <td>NaN</td>\n      <td>NaN</td>\n      <td>...</td>\n      <td>NaN</td>\n      <td>NaN</td>\n      <td>NaN</td>\n      <td>NaN</td>\n      <td>NaN</td>\n      <td>NaN</td>\n      <td>NaN</td>\n      <td>NaN</td>\n      <td>NaN</td>\n      <td>NaN</td>\n    </tr>\n    <tr>\n      <th>99</th>\n      <td>NOBILIS HEALTH CORP.</td>\n      <td>2016</td>\n      <td>NaN</td>\n      <td>NaN</td>\n      <td>NaN</td>\n      <td>NaN</td>\n      <td>NaN</td>\n      <td>NaN</td>\n      <td>NaN</td>\n      <td>NaN</td>\n      <td>...</td>\n      <td>NaN</td>\n      <td>NaN</td>\n      <td>NaN</td>\n      <td>NaN</td>\n      <td>NaN</td>\n      <td>NaN</td>\n      <td>NaN</td>\n      <td>NaN</td>\n      <td>NaN</td>\n      <td>NaN</td>\n    </tr>\n  </tbody>\n</table>\n<p>100 rows × 7130 columns</p>\n</div>"
     },
     "execution_count": 25,
     "metadata": {},
     "output_type": "execute_result"
    }
   ],
   "source": [
    "output_df.head(100)"
   ],
   "metadata": {
    "collapsed": false,
    "pycharm": {
     "name": "#%%\n"
    }
   }
  },
  {
   "cell_type": "code",
   "execution_count": 27,
   "outputs": [
    {
     "data": {
      "text/plain": "6303233520"
     },
     "execution_count": 27,
     "metadata": {},
     "output_type": "execute_result"
    }
   ],
   "source": [
    "output_df.memory_usage().sum()"
   ],
   "metadata": {
    "collapsed": false,
    "pycharm": {
     "name": "#%%\n"
    }
   }
  },
  {
   "cell_type": "code",
   "execution_count": null,
   "outputs": [],
   "source": [],
   "metadata": {
    "collapsed": false,
    "pycharm": {
     "name": "#%%\n"
    }
   }
  },
  {
   "cell_type": "code",
   "execution_count": null,
   "outputs": [],
   "source": [
    "def get_tag_val(df: pd.DataFrame, tag: str):\n",
    "    name = df['Name']\n",
    "    year = df['Year']\n",
    "    code = sub[sub['name'] == name]\n",
    "    adsh = code['adsh'].values\n",
    "    if len(adsh) == 0:\n",
    "        return np.nan\n",
    "    adsh = adsh[0]\n",
    "    row = main_df.loc[(main_df['adsh'] == adsh) & (main_df['tag'] == tag)]\n",
    "    value = row['value'].values\n",
    "    if (len(value) == 0):\n",
    "        return np.nan\n",
    "    print(value)\n",
    "\n",
    "test_df = output_df.head(100)\n",
    "# Not sure how to apend it to the dataframe from here but the function seems to work!\n",
    "# for tag in final_tag_set:\n",
    "#     test_df.apply(lambda x: get_tag_val(x, tag), axis=1)"
   ],
   "metadata": {
    "collapsed": false,
    "pycharm": {
     "name": "#%%\n"
    }
   }
  },
  {
   "cell_type": "code",
   "execution_count": null,
   "outputs": [],
   "source": [],
   "metadata": {
    "collapsed": false,
    "pycharm": {
     "name": "#%%\n"
    }
   }
  },
  {
   "cell_type": "code",
   "execution_count": null,
   "outputs": [],
   "source": [
    "output_df.to_csv(f\"{getcwd()}/../data/processed/skeleton.csv\", index=False)"
   ],
   "metadata": {
    "collapsed": false,
    "pycharm": {
     "name": "#%%\n"
    }
   }
  },
  {
   "cell_type": "code",
   "execution_count": 18,
   "metadata": {
    "collapsed": false,
    "pycharm": {
     "name": "#%%\n"
    }
   },
   "outputs": [
    {
     "ename": "NameError",
     "evalue": "name 'output_df' is not defined",
     "output_type": "error",
     "traceback": [
      "\u001B[0;31m---------------------------------------------------------------------------\u001B[0m",
      "\u001B[0;31mNameError\u001B[0m                                 Traceback (most recent call last)",
      "Cell \u001B[0;32mIn[18], line 1\u001B[0m\n\u001B[0;32m----> 1\u001B[0m output_df\u001B[39m.\u001B[39mto_csv(\u001B[39mf\u001B[39m\u001B[39m\"\u001B[39m\u001B[39m{\u001B[39;00mgetcwd()\u001B[39m}\u001B[39;00m\u001B[39m/../data/processed/skeleton.csv\u001B[39m\u001B[39m\"\u001B[39m, index\u001B[39m=\u001B[39m\u001B[39mFalse\u001B[39;00m)\n",
      "\u001B[0;31mNameError\u001B[0m: name 'output_df' is not defined"
     ]
    }
   ],
   "source": [
    "output_df.to_csv(f\"{getcwd()}/../data/processed/skeleton.csv\", index=False)"
   ]
  },
  {
   "cell_type": "code",
   "execution_count": null,
   "metadata": {
    "collapsed": false,
    "pycharm": {
     "name": "#%%\n"
    }
   },
   "outputs": [],
   "source": []
  }
 ],
 "metadata": {
  "kernelspec": {
   "display_name": "Python 3",
   "language": "python",
   "name": "python3"
  },
  "language_info": {
   "codemirror_mode": {
    "name": "ipython",
    "version": 2
   },
   "file_extension": ".py",
   "mimetype": "text/x-python",
   "name": "python",
   "nbconvert_exporter": "python",
   "pygments_lexer": "ipython2",
   "version": "3.10.6"
  }
 },
 "nbformat": 4,
 "nbformat_minor": 0
}