{
 "cells": [
  {
   "cell_type": "code",
   "execution_count": 99,
   "metadata": {
    "collapsed": true,
    "pycharm": {
     "name": "#%%\n"
    }
   },
   "outputs": [
    {
     "name": "stderr",
     "output_type": "stream",
     "text": [
      "/var/folders/93/vcxdh9f57dq1xzncrcs6kl_40000gn/T/ipykernel_95542/149541153.py:15: DtypeWarning: Columns (3) have mixed types. Specify dtype option on import or set low_memory=False.\n",
      "  df_crsp = pd.read_csv(path_data+'crsp_monthly.csv')\n"
     ]
    },
    {
     "name": "stdout",
     "output_type": "stream",
     "text": [
      "(161193, 10)\n"
     ]
    },
    {
     "data": {
      "text/plain": "(3458, 10)"
     },
     "execution_count": 99,
     "metadata": {},
     "output_type": "execute_result"
    }
   ],
   "source": [
    "# Packages\n",
    "import pandas as pd\n",
    "import datetime as dtt\n",
    "from os import getcwd\n",
    "\n",
    "path_data = f\"{getcwd()}/../data/raw/\"\n",
    "\n",
    "# Import CRSP:\n",
    "#   PERMNO is security identifier for CRSP, SHRCD is security type,\n",
    "#   SICCD is SIC industry categorization. NCUSIP is historical security identifier.\n",
    "#   COMNAM is company name, PRIMEXCH is primary exchange, CUSIP is current security identifier\n",
    "#   PRC is price, VOL is volume, SHROUT is shares outstanding, vwretd and ewretd are value and equally weighted market return averages.\n",
    "#\n",
    "# you will need date and NCUSIP to identify mainly these companies. May use Companyname and or Ticker with XBRL if there is no/partial CUSIP identifier\n",
    "df_crsp = pd.read_csv(path_data+'crsp_monthly.csv')\n",
    "df_crsp['date'] = pd.to_datetime(df_crsp['date'])\n",
    "\n",
    "# Import IBES\n",
    "df_ibes = pd.read_csv(path_data+'ibes_annual.csv')\n",
    "df_ibes['date'] = pd.to_datetime(df_ibes['ANNDATS'])\n",
    "\n",
    "\n",
    "# YOU SHOULD MERGE IT ON XBRL data, based on the process described in Table 1\n",
    "# but here is an example how to merge them together:\n",
    "\n",
    "# Select needed columns\n",
    "df_crsp_m = df_crsp[['date','NCUSIP','COMNAM','PRC','SHROUT','vwretd','ewretd']]\n",
    "df_crsp_m.shape\n",
    "df_ibes_m = df_ibes[['CUSIP','CNAME','date','VALUE']]\n",
    "df_ibes_m.shape\n",
    "\n",
    "# Merge: inner (both has to be in data, note you have to modify it to be in XBRL, and it is not the same stuff necessarily)\n",
    "df = pd.merge(df_ibes_m, df_crsp_m, how='inner', left_on=['date', 'CUSIP'], right_on=['date','NCUSIP'])\n",
    "\n",
    "# All obs from CRPS and IBES\n",
    "print(df.shape)\n",
    "\n",
    "# Drop duplicates\n",
    "df = df.drop_duplicates(subset=['date','NCUSIP'])\n",
    "df.shape\n",
    "\n",
    "# Available stock price from CRSP (non NA)\n",
    "df_total = df.dropna(subset=['PRC'])\n",
    "df_total.shape\n",
    "\n",
    "##\n",
    "# NOTES: a) you need to carefully investigate and remove the duplicates form CRSP and IBES and XBRL individually! Check the sample sizes! E.g. here you will end up with way less observations"
   ]
  },
  {
   "cell_type": "code",
   "execution_count": 100,
   "outputs": [
    {
     "data": {
      "text/plain": "(396741, 10)"
     },
     "execution_count": 100,
     "metadata": {},
     "output_type": "execute_result"
    }
   ],
   "source": [
    "df_ibes.shape"
   ],
   "metadata": {
    "collapsed": false,
    "pycharm": {
     "name": "#%%\n"
    }
   }
  },
  {
   "cell_type": "code",
   "execution_count": 101,
   "outputs": [
    {
     "data": {
      "text/plain": "(1176721, 14)"
     },
     "execution_count": 101,
     "metadata": {},
     "output_type": "execute_result"
    }
   ],
   "source": [
    "df_crsp.shape"
   ],
   "metadata": {
    "collapsed": false,
    "pycharm": {
     "name": "#%%\n"
    }
   }
  },
  {
   "cell_type": "code",
   "execution_count": 102,
   "outputs": [
    {
     "data": {
      "text/plain": "           CUSIP             CNAME       date  VALUE    NCUSIP  \\\n160374  92939U10  WEC ENERGY GROUP 2018-01-31   3.14  92939U10   \n160379  92931L20     WPCS INTL INC 2011-07-29    NaN  92931L20   \n160384  05474810              AYRO 2021-03-31  -0.72  05474810   \n160389  96090830    WESTPORT INNOV 2012-02-29  -1.26  96090830   \n160394  45822P10   INTEGRYS ENERGY 2013-02-28   3.26  45822P10   \n...          ...               ...        ...    ...       ...   \n161165  N2094410    CNH INDUSTRIAL 2015-01-30   3.63  N2094410   \n161168  36268W10  GAIN CAPITAL HOL 2012-02-29    NaN  36268W10   \n161183  47231910   JEFFERIES GROUP 2010-05-28    NaN  47231910   \n161186  63370710  NATIONAL BANK HL 2015-01-30  20.43  63370710   \n161189  92823T10     VIRNETX HOLDG 2020-02-28    NaN  92823T10   \n\n                             COMNAM    PRC     SHROUT    vwretd    ewretd  \n160374       W E C ENERGY GROUP INC  64.30   315576.0  0.050638  0.029441  \n160379    W P C S INTERNATIONAL INC   2.99     6955.0 -0.022550 -0.021813  \n160384                     AYRO INC   6.48    35213.0  0.030573  0.012449  \n160389     WESTPORT INNOVATIONS INC  40.47    54846.0  0.041253  0.036494  \n160394    INTEGRYS ENERGY GROUP INC  56.57    78288.0  0.008284  0.003491  \n...                             ...    ...        ...       ...       ...  \n161165         C N H INDUSTRIAL N V   7.65  1354194.0 -0.027207 -0.019073  \n161168    GAIN CAPITAL HOLDINGS INC   5.24    34212.0  0.041253  0.036494  \n161183      JEFFERIES GROUP INC NEW  23.33   171690.0 -0.079267 -0.076929  \n161186  NATIONAL BANK HOLDINGS CORP  18.45    38922.0 -0.027207 -0.019073  \n161189         VIRNETX HOLDING CORP   5.61    69510.0 -0.077918 -0.069814  \n\n[100 rows x 10 columns]",
      "text/html": "<div>\n<style scoped>\n    .dataframe tbody tr th:only-of-type {\n        vertical-align: middle;\n    }\n\n    .dataframe tbody tr th {\n        vertical-align: top;\n    }\n\n    .dataframe thead th {\n        text-align: right;\n    }\n</style>\n<table border=\"1\" class=\"dataframe\">\n  <thead>\n    <tr style=\"text-align: right;\">\n      <th></th>\n      <th>CUSIP</th>\n      <th>CNAME</th>\n      <th>date</th>\n      <th>VALUE</th>\n      <th>NCUSIP</th>\n      <th>COMNAM</th>\n      <th>PRC</th>\n      <th>SHROUT</th>\n      <th>vwretd</th>\n      <th>ewretd</th>\n    </tr>\n  </thead>\n  <tbody>\n    <tr>\n      <th>160374</th>\n      <td>92939U10</td>\n      <td>WEC ENERGY GROUP</td>\n      <td>2018-01-31</td>\n      <td>3.14</td>\n      <td>92939U10</td>\n      <td>W E C ENERGY GROUP INC</td>\n      <td>64.30</td>\n      <td>315576.0</td>\n      <td>0.050638</td>\n      <td>0.029441</td>\n    </tr>\n    <tr>\n      <th>160379</th>\n      <td>92931L20</td>\n      <td>WPCS INTL INC</td>\n      <td>2011-07-29</td>\n      <td>NaN</td>\n      <td>92931L20</td>\n      <td>W P C S INTERNATIONAL INC</td>\n      <td>2.99</td>\n      <td>6955.0</td>\n      <td>-0.022550</td>\n      <td>-0.021813</td>\n    </tr>\n    <tr>\n      <th>160384</th>\n      <td>05474810</td>\n      <td>AYRO</td>\n      <td>2021-03-31</td>\n      <td>-0.72</td>\n      <td>05474810</td>\n      <td>AYRO INC</td>\n      <td>6.48</td>\n      <td>35213.0</td>\n      <td>0.030573</td>\n      <td>0.012449</td>\n    </tr>\n    <tr>\n      <th>160389</th>\n      <td>96090830</td>\n      <td>WESTPORT INNOV</td>\n      <td>2012-02-29</td>\n      <td>-1.26</td>\n      <td>96090830</td>\n      <td>WESTPORT INNOVATIONS INC</td>\n      <td>40.47</td>\n      <td>54846.0</td>\n      <td>0.041253</td>\n      <td>0.036494</td>\n    </tr>\n    <tr>\n      <th>160394</th>\n      <td>45822P10</td>\n      <td>INTEGRYS ENERGY</td>\n      <td>2013-02-28</td>\n      <td>3.26</td>\n      <td>45822P10</td>\n      <td>INTEGRYS ENERGY GROUP INC</td>\n      <td>56.57</td>\n      <td>78288.0</td>\n      <td>0.008284</td>\n      <td>0.003491</td>\n    </tr>\n    <tr>\n      <th>...</th>\n      <td>...</td>\n      <td>...</td>\n      <td>...</td>\n      <td>...</td>\n      <td>...</td>\n      <td>...</td>\n      <td>...</td>\n      <td>...</td>\n      <td>...</td>\n      <td>...</td>\n    </tr>\n    <tr>\n      <th>161165</th>\n      <td>N2094410</td>\n      <td>CNH INDUSTRIAL</td>\n      <td>2015-01-30</td>\n      <td>3.63</td>\n      <td>N2094410</td>\n      <td>C N H INDUSTRIAL N V</td>\n      <td>7.65</td>\n      <td>1354194.0</td>\n      <td>-0.027207</td>\n      <td>-0.019073</td>\n    </tr>\n    <tr>\n      <th>161168</th>\n      <td>36268W10</td>\n      <td>GAIN CAPITAL HOL</td>\n      <td>2012-02-29</td>\n      <td>NaN</td>\n      <td>36268W10</td>\n      <td>GAIN CAPITAL HOLDINGS INC</td>\n      <td>5.24</td>\n      <td>34212.0</td>\n      <td>0.041253</td>\n      <td>0.036494</td>\n    </tr>\n    <tr>\n      <th>161183</th>\n      <td>47231910</td>\n      <td>JEFFERIES GROUP</td>\n      <td>2010-05-28</td>\n      <td>NaN</td>\n      <td>47231910</td>\n      <td>JEFFERIES GROUP INC NEW</td>\n      <td>23.33</td>\n      <td>171690.0</td>\n      <td>-0.079267</td>\n      <td>-0.076929</td>\n    </tr>\n    <tr>\n      <th>161186</th>\n      <td>63370710</td>\n      <td>NATIONAL BANK HL</td>\n      <td>2015-01-30</td>\n      <td>20.43</td>\n      <td>63370710</td>\n      <td>NATIONAL BANK HOLDINGS CORP</td>\n      <td>18.45</td>\n      <td>38922.0</td>\n      <td>-0.027207</td>\n      <td>-0.019073</td>\n    </tr>\n    <tr>\n      <th>161189</th>\n      <td>92823T10</td>\n      <td>VIRNETX HOLDG</td>\n      <td>2020-02-28</td>\n      <td>NaN</td>\n      <td>92823T10</td>\n      <td>VIRNETX HOLDING CORP</td>\n      <td>5.61</td>\n      <td>69510.0</td>\n      <td>-0.077918</td>\n      <td>-0.069814</td>\n    </tr>\n  </tbody>\n</table>\n<p>100 rows × 10 columns</p>\n</div>"
     },
     "execution_count": 102,
     "metadata": {},
     "output_type": "execute_result"
    }
   ],
   "source": [
    "df_total.tail(100)"
   ],
   "metadata": {
    "collapsed": false,
    "pycharm": {
     "name": "#%%\n"
    }
   }
  },
  {
   "cell_type": "code",
   "execution_count": 103,
   "outputs": [
    {
     "data": {
      "text/plain": "           CUSIP             CNAME       date  VALUE    NCUSIP  \\\n160419  92934C10  WSB HOLDINGS INC 2011-01-31    NaN  92934C10   \n160424  92934C10  WSB HOLDINGS INC 2012-01-31    NaN  92934C10   \n160429  92934C10  WSB HOLDINGS INC 2013-01-31    NaN  92934C10   \n\n                    COMNAM   PRC  SHROUT    vwretd    ewretd  \n160419  W S B HOLDINGS INC  2.95  7925.0  0.019190  0.014412  \n160424  W S B HOLDINGS INC  2.80  7995.0  0.054140  0.085342  \n160429  W S B HOLDINGS INC  6.06  8017.0  0.054189  0.063509  ",
      "text/html": "<div>\n<style scoped>\n    .dataframe tbody tr th:only-of-type {\n        vertical-align: middle;\n    }\n\n    .dataframe tbody tr th {\n        vertical-align: top;\n    }\n\n    .dataframe thead th {\n        text-align: right;\n    }\n</style>\n<table border=\"1\" class=\"dataframe\">\n  <thead>\n    <tr style=\"text-align: right;\">\n      <th></th>\n      <th>CUSIP</th>\n      <th>CNAME</th>\n      <th>date</th>\n      <th>VALUE</th>\n      <th>NCUSIP</th>\n      <th>COMNAM</th>\n      <th>PRC</th>\n      <th>SHROUT</th>\n      <th>vwretd</th>\n      <th>ewretd</th>\n    </tr>\n  </thead>\n  <tbody>\n    <tr>\n      <th>160419</th>\n      <td>92934C10</td>\n      <td>WSB HOLDINGS INC</td>\n      <td>2011-01-31</td>\n      <td>NaN</td>\n      <td>92934C10</td>\n      <td>W S B HOLDINGS INC</td>\n      <td>2.95</td>\n      <td>7925.0</td>\n      <td>0.019190</td>\n      <td>0.014412</td>\n    </tr>\n    <tr>\n      <th>160424</th>\n      <td>92934C10</td>\n      <td>WSB HOLDINGS INC</td>\n      <td>2012-01-31</td>\n      <td>NaN</td>\n      <td>92934C10</td>\n      <td>W S B HOLDINGS INC</td>\n      <td>2.80</td>\n      <td>7995.0</td>\n      <td>0.054140</td>\n      <td>0.085342</td>\n    </tr>\n    <tr>\n      <th>160429</th>\n      <td>92934C10</td>\n      <td>WSB HOLDINGS INC</td>\n      <td>2013-01-31</td>\n      <td>NaN</td>\n      <td>92934C10</td>\n      <td>W S B HOLDINGS INC</td>\n      <td>6.06</td>\n      <td>8017.0</td>\n      <td>0.054189</td>\n      <td>0.063509</td>\n    </tr>\n  </tbody>\n</table>\n</div>"
     },
     "execution_count": 103,
     "metadata": {},
     "output_type": "execute_result"
    }
   ],
   "source": [
    "df[df[\"CNAME\"] == \"WSB HOLDINGS INC\"].head(100)"
   ],
   "metadata": {
    "collapsed": false,
    "pycharm": {
     "name": "#%%\n"
    }
   }
  },
  {
   "cell_type": "code",
   "execution_count": 104,
   "outputs": [
    {
     "data": {
      "text/plain": "129308   2022-03-31\n115216   2022-03-31\n118748   2022-03-31\n158263   2022-03-31\n138436   2022-03-31\n            ...    \n141811   2022-11-30\n115176   2022-11-30\n157609   2022-11-30\n32211    2022-11-30\n115141   2022-11-30\nName: date, Length: 100, dtype: datetime64[ns]"
     },
     "execution_count": 104,
     "metadata": {},
     "output_type": "execute_result"
    }
   ],
   "source": [
    "df[\"date\"].sort_values().tail(100)"
   ],
   "metadata": {
    "collapsed": false,
    "pycharm": {
     "name": "#%%\n"
    }
   }
  },
  {
   "cell_type": "code",
   "execution_count": 105,
   "outputs": [
    {
     "data": {
      "text/plain": "   TICKER     CUSIP OFTIC           CNAME MEASURE PDICITY     ANNDATS  VALUE  \\\n0    0000       NaN   NaN             NaN     EPS     ANN  2014-02-14    NaN   \n1    0000       NaN   NaN             NaN     EPS     ANN  2014-02-14    NaN   \n2    0000  87482X10  TLMR  TALMER BANCORP     EPS     ANN  2015-01-30   1.21   \n3    0000  87482X10  TLMR  TALMER BANCORP     EPS     ANN  2016-01-26   1.02   \n4    0001       NaN   NaN             NaN     EPS     ANN  2014-01-23    NaN   \n..    ...       ...   ...             ...     ...     ...         ...    ...   \n95   001J  49926D10    KN         KNOWLES     EPS     ANN  2022-02-09   1.53   \n96   001J  49926D10    KN         KNOWLES     EPS     ANN  2023-02-09   1.26   \n97   001K       NaN   NaN             NaN     EPS     ANN  2014-02-19    NaN   \n98   001K       NaN   NaN             NaN     EPS     ANN  2014-03-26   0.02   \n99   001K  45780R10   IBP             IBP     EPS     ANN  2015-03-04   0.54   \n\n    USFIRM       date  \n0        1 2014-02-14  \n1        1 2014-02-14  \n2        1 2015-01-30  \n3        1 2016-01-26  \n4        1 2014-01-23  \n..     ...        ...  \n95       1 2022-02-09  \n96       1 2023-02-09  \n97       1 2014-02-19  \n98       1 2014-03-26  \n99       1 2015-03-04  \n\n[100 rows x 10 columns]",
      "text/html": "<div>\n<style scoped>\n    .dataframe tbody tr th:only-of-type {\n        vertical-align: middle;\n    }\n\n    .dataframe tbody tr th {\n        vertical-align: top;\n    }\n\n    .dataframe thead th {\n        text-align: right;\n    }\n</style>\n<table border=\"1\" class=\"dataframe\">\n  <thead>\n    <tr style=\"text-align: right;\">\n      <th></th>\n      <th>TICKER</th>\n      <th>CUSIP</th>\n      <th>OFTIC</th>\n      <th>CNAME</th>\n      <th>MEASURE</th>\n      <th>PDICITY</th>\n      <th>ANNDATS</th>\n      <th>VALUE</th>\n      <th>USFIRM</th>\n      <th>date</th>\n    </tr>\n  </thead>\n  <tbody>\n    <tr>\n      <th>0</th>\n      <td>0000</td>\n      <td>NaN</td>\n      <td>NaN</td>\n      <td>NaN</td>\n      <td>EPS</td>\n      <td>ANN</td>\n      <td>2014-02-14</td>\n      <td>NaN</td>\n      <td>1</td>\n      <td>2014-02-14</td>\n    </tr>\n    <tr>\n      <th>1</th>\n      <td>0000</td>\n      <td>NaN</td>\n      <td>NaN</td>\n      <td>NaN</td>\n      <td>EPS</td>\n      <td>ANN</td>\n      <td>2014-02-14</td>\n      <td>NaN</td>\n      <td>1</td>\n      <td>2014-02-14</td>\n    </tr>\n    <tr>\n      <th>2</th>\n      <td>0000</td>\n      <td>87482X10</td>\n      <td>TLMR</td>\n      <td>TALMER BANCORP</td>\n      <td>EPS</td>\n      <td>ANN</td>\n      <td>2015-01-30</td>\n      <td>1.21</td>\n      <td>1</td>\n      <td>2015-01-30</td>\n    </tr>\n    <tr>\n      <th>3</th>\n      <td>0000</td>\n      <td>87482X10</td>\n      <td>TLMR</td>\n      <td>TALMER BANCORP</td>\n      <td>EPS</td>\n      <td>ANN</td>\n      <td>2016-01-26</td>\n      <td>1.02</td>\n      <td>1</td>\n      <td>2016-01-26</td>\n    </tr>\n    <tr>\n      <th>4</th>\n      <td>0001</td>\n      <td>NaN</td>\n      <td>NaN</td>\n      <td>NaN</td>\n      <td>EPS</td>\n      <td>ANN</td>\n      <td>2014-01-23</td>\n      <td>NaN</td>\n      <td>1</td>\n      <td>2014-01-23</td>\n    </tr>\n    <tr>\n      <th>...</th>\n      <td>...</td>\n      <td>...</td>\n      <td>...</td>\n      <td>...</td>\n      <td>...</td>\n      <td>...</td>\n      <td>...</td>\n      <td>...</td>\n      <td>...</td>\n      <td>...</td>\n    </tr>\n    <tr>\n      <th>95</th>\n      <td>001J</td>\n      <td>49926D10</td>\n      <td>KN</td>\n      <td>KNOWLES</td>\n      <td>EPS</td>\n      <td>ANN</td>\n      <td>2022-02-09</td>\n      <td>1.53</td>\n      <td>1</td>\n      <td>2022-02-09</td>\n    </tr>\n    <tr>\n      <th>96</th>\n      <td>001J</td>\n      <td>49926D10</td>\n      <td>KN</td>\n      <td>KNOWLES</td>\n      <td>EPS</td>\n      <td>ANN</td>\n      <td>2023-02-09</td>\n      <td>1.26</td>\n      <td>1</td>\n      <td>2023-02-09</td>\n    </tr>\n    <tr>\n      <th>97</th>\n      <td>001K</td>\n      <td>NaN</td>\n      <td>NaN</td>\n      <td>NaN</td>\n      <td>EPS</td>\n      <td>ANN</td>\n      <td>2014-02-19</td>\n      <td>NaN</td>\n      <td>1</td>\n      <td>2014-02-19</td>\n    </tr>\n    <tr>\n      <th>98</th>\n      <td>001K</td>\n      <td>NaN</td>\n      <td>NaN</td>\n      <td>NaN</td>\n      <td>EPS</td>\n      <td>ANN</td>\n      <td>2014-03-26</td>\n      <td>0.02</td>\n      <td>1</td>\n      <td>2014-03-26</td>\n    </tr>\n    <tr>\n      <th>99</th>\n      <td>001K</td>\n      <td>45780R10</td>\n      <td>IBP</td>\n      <td>IBP</td>\n      <td>EPS</td>\n      <td>ANN</td>\n      <td>2015-03-04</td>\n      <td>0.54</td>\n      <td>1</td>\n      <td>2015-03-04</td>\n    </tr>\n  </tbody>\n</table>\n<p>100 rows × 10 columns</p>\n</div>"
     },
     "execution_count": 105,
     "metadata": {},
     "output_type": "execute_result"
    }
   ],
   "source": [
    "df_ibes.head(100)"
   ],
   "metadata": {
    "collapsed": false,
    "pycharm": {
     "name": "#%%\n"
    }
   }
  },
  {
   "cell_type": "code",
   "execution_count": 106,
   "outputs": [
    {
     "data": {
      "text/plain": "  TICKER     CUSIP OFTIC           CNAME MEASURE PDICITY     ANNDATS  VALUE  \\\n0   0000       NaN   NaN             NaN     EPS     ANN  2014-02-14    NaN   \n1   0000       NaN   NaN             NaN     EPS     ANN  2014-02-14    NaN   \n2   0000  87482X10  TLMR  TALMER BANCORP     EPS     ANN  2015-01-30   1.21   \n3   0000  87482X10  TLMR  TALMER BANCORP     EPS     ANN  2016-01-26   1.02   \n4   0001       NaN   NaN             NaN     EPS     ANN  2014-01-23    NaN   \n\n   USFIRM       date  \n0       1 2014-02-14  \n1       1 2014-02-14  \n2       1 2015-01-30  \n3       1 2016-01-26  \n4       1 2014-01-23  ",
      "text/html": "<div>\n<style scoped>\n    .dataframe tbody tr th:only-of-type {\n        vertical-align: middle;\n    }\n\n    .dataframe tbody tr th {\n        vertical-align: top;\n    }\n\n    .dataframe thead th {\n        text-align: right;\n    }\n</style>\n<table border=\"1\" class=\"dataframe\">\n  <thead>\n    <tr style=\"text-align: right;\">\n      <th></th>\n      <th>TICKER</th>\n      <th>CUSIP</th>\n      <th>OFTIC</th>\n      <th>CNAME</th>\n      <th>MEASURE</th>\n      <th>PDICITY</th>\n      <th>ANNDATS</th>\n      <th>VALUE</th>\n      <th>USFIRM</th>\n      <th>date</th>\n    </tr>\n  </thead>\n  <tbody>\n    <tr>\n      <th>0</th>\n      <td>0000</td>\n      <td>NaN</td>\n      <td>NaN</td>\n      <td>NaN</td>\n      <td>EPS</td>\n      <td>ANN</td>\n      <td>2014-02-14</td>\n      <td>NaN</td>\n      <td>1</td>\n      <td>2014-02-14</td>\n    </tr>\n    <tr>\n      <th>1</th>\n      <td>0000</td>\n      <td>NaN</td>\n      <td>NaN</td>\n      <td>NaN</td>\n      <td>EPS</td>\n      <td>ANN</td>\n      <td>2014-02-14</td>\n      <td>NaN</td>\n      <td>1</td>\n      <td>2014-02-14</td>\n    </tr>\n    <tr>\n      <th>2</th>\n      <td>0000</td>\n      <td>87482X10</td>\n      <td>TLMR</td>\n      <td>TALMER BANCORP</td>\n      <td>EPS</td>\n      <td>ANN</td>\n      <td>2015-01-30</td>\n      <td>1.21</td>\n      <td>1</td>\n      <td>2015-01-30</td>\n    </tr>\n    <tr>\n      <th>3</th>\n      <td>0000</td>\n      <td>87482X10</td>\n      <td>TLMR</td>\n      <td>TALMER BANCORP</td>\n      <td>EPS</td>\n      <td>ANN</td>\n      <td>2016-01-26</td>\n      <td>1.02</td>\n      <td>1</td>\n      <td>2016-01-26</td>\n    </tr>\n    <tr>\n      <th>4</th>\n      <td>0001</td>\n      <td>NaN</td>\n      <td>NaN</td>\n      <td>NaN</td>\n      <td>EPS</td>\n      <td>ANN</td>\n      <td>2014-01-23</td>\n      <td>NaN</td>\n      <td>1</td>\n      <td>2014-01-23</td>\n    </tr>\n  </tbody>\n</table>\n</div>"
     },
     "execution_count": 106,
     "metadata": {},
     "output_type": "execute_result"
    }
   ],
   "source": [
    "df_ibes.head()"
   ],
   "metadata": {
    "collapsed": false,
    "pycharm": {
     "name": "#%%\n"
    }
   }
  },
  {
   "cell_type": "code",
   "execution_count": 107,
   "outputs": [
    {
     "data": {
      "text/plain": "0     2014-02-14\n1     2014-02-14\n2     2015-01-30\n3     2016-01-26\n4     2014-01-23\n         ...    \n95    2022-02-09\n96    2023-02-09\n97    2014-02-19\n98    2014-03-26\n99    2015-03-04\nName: ANNDATS, Length: 100, dtype: object"
     },
     "execution_count": 107,
     "metadata": {},
     "output_type": "execute_result"
    }
   ],
   "source": [
    "df_ibes[\"ANNDATS\"].head(100)"
   ],
   "metadata": {
    "collapsed": false,
    "pycharm": {
     "name": "#%%\n"
    }
   }
  },
  {
   "cell_type": "code",
   "execution_count": 108,
   "outputs": [
    {
     "data": {
      "text/plain": "         CUSIP           CNAME       date   VALUE    NCUSIP  \\\n0     87482X10  TALMER BANCORP 2015-01-30    1.21  87482X10   \n5     26878510    EP ENGR CORP 2018-02-28   -0.39  26878510   \n10         NaN             NaN 2014-03-31 -403.65       NaN   \n5180  15117E10        CELLADON 2015-03-31  -27.30  15117E10   \n5185  81776310       SESEN BIO 2022-02-28    0.00  81776310   \n\n                  COMNAM      PRC    SHROUT    vwretd    ewretd  \n0     TALMER BANCORP INC  13.5200   70532.0 -0.027207 -0.019073  \n5        E P ENERGY CORP   1.5100  254923.0 -0.039481 -0.040026  \n10                   NaN      NaN       NaN  0.004544  0.001028  \n5180       CELLADON CORP  18.9400   23828.0 -0.010410 -0.005112  \n5185       SESEN BIO INC   0.6343  199464.0 -0.021838 -0.007412  ",
      "text/html": "<div>\n<style scoped>\n    .dataframe tbody tr th:only-of-type {\n        vertical-align: middle;\n    }\n\n    .dataframe tbody tr th {\n        vertical-align: top;\n    }\n\n    .dataframe thead th {\n        text-align: right;\n    }\n</style>\n<table border=\"1\" class=\"dataframe\">\n  <thead>\n    <tr style=\"text-align: right;\">\n      <th></th>\n      <th>CUSIP</th>\n      <th>CNAME</th>\n      <th>date</th>\n      <th>VALUE</th>\n      <th>NCUSIP</th>\n      <th>COMNAM</th>\n      <th>PRC</th>\n      <th>SHROUT</th>\n      <th>vwretd</th>\n      <th>ewretd</th>\n    </tr>\n  </thead>\n  <tbody>\n    <tr>\n      <th>0</th>\n      <td>87482X10</td>\n      <td>TALMER BANCORP</td>\n      <td>2015-01-30</td>\n      <td>1.21</td>\n      <td>87482X10</td>\n      <td>TALMER BANCORP INC</td>\n      <td>13.5200</td>\n      <td>70532.0</td>\n      <td>-0.027207</td>\n      <td>-0.019073</td>\n    </tr>\n    <tr>\n      <th>5</th>\n      <td>26878510</td>\n      <td>EP ENGR CORP</td>\n      <td>2018-02-28</td>\n      <td>-0.39</td>\n      <td>26878510</td>\n      <td>E P ENERGY CORP</td>\n      <td>1.5100</td>\n      <td>254923.0</td>\n      <td>-0.039481</td>\n      <td>-0.040026</td>\n    </tr>\n    <tr>\n      <th>10</th>\n      <td>NaN</td>\n      <td>NaN</td>\n      <td>2014-03-31</td>\n      <td>-403.65</td>\n      <td>NaN</td>\n      <td>NaN</td>\n      <td>NaN</td>\n      <td>NaN</td>\n      <td>0.004544</td>\n      <td>0.001028</td>\n    </tr>\n    <tr>\n      <th>5180</th>\n      <td>15117E10</td>\n      <td>CELLADON</td>\n      <td>2015-03-31</td>\n      <td>-27.30</td>\n      <td>15117E10</td>\n      <td>CELLADON CORP</td>\n      <td>18.9400</td>\n      <td>23828.0</td>\n      <td>-0.010410</td>\n      <td>-0.005112</td>\n    </tr>\n    <tr>\n      <th>5185</th>\n      <td>81776310</td>\n      <td>SESEN BIO</td>\n      <td>2022-02-28</td>\n      <td>0.00</td>\n      <td>81776310</td>\n      <td>SESEN BIO INC</td>\n      <td>0.6343</td>\n      <td>199464.0</td>\n      <td>-0.021838</td>\n      <td>-0.007412</td>\n    </tr>\n  </tbody>\n</table>\n</div>"
     },
     "execution_count": 108,
     "metadata": {},
     "output_type": "execute_result"
    }
   ],
   "source": [
    "df.head()"
   ],
   "metadata": {
    "collapsed": false,
    "pycharm": {
     "name": "#%%\n"
    }
   }
  },
  {
   "cell_type": "code",
   "execution_count": 109,
   "outputs": [],
   "source": [
    "df[\"year\"] = df[\"date\"].dt.year\n",
    "df['month'] = df['date'].dt.month"
   ],
   "metadata": {
    "collapsed": false,
    "pycharm": {
     "name": "#%%\n"
    }
   }
  },
  {
   "cell_type": "code",
   "execution_count": 110,
   "outputs": [
    {
     "data": {
      "text/plain": "         CUSIP           CNAME       date   VALUE    NCUSIP  \\\n0     87482X10  TALMER BANCORP 2015-01-30    1.21  87482X10   \n5     26878510    EP ENGR CORP 2018-02-28   -0.39  26878510   \n10         NaN             NaN 2014-03-31 -403.65       NaN   \n5180  15117E10        CELLADON 2015-03-31  -27.30  15117E10   \n5185  81776310       SESEN BIO 2022-02-28    0.00  81776310   \n\n                  COMNAM      PRC    SHROUT    vwretd    ewretd  year  month  \n0     TALMER BANCORP INC  13.5200   70532.0 -0.027207 -0.019073  2015      1  \n5        E P ENERGY CORP   1.5100  254923.0 -0.039481 -0.040026  2018      2  \n10                   NaN      NaN       NaN  0.004544  0.001028  2014      3  \n5180       CELLADON CORP  18.9400   23828.0 -0.010410 -0.005112  2015      3  \n5185       SESEN BIO INC   0.6343  199464.0 -0.021838 -0.007412  2022      2  ",
      "text/html": "<div>\n<style scoped>\n    .dataframe tbody tr th:only-of-type {\n        vertical-align: middle;\n    }\n\n    .dataframe tbody tr th {\n        vertical-align: top;\n    }\n\n    .dataframe thead th {\n        text-align: right;\n    }\n</style>\n<table border=\"1\" class=\"dataframe\">\n  <thead>\n    <tr style=\"text-align: right;\">\n      <th></th>\n      <th>CUSIP</th>\n      <th>CNAME</th>\n      <th>date</th>\n      <th>VALUE</th>\n      <th>NCUSIP</th>\n      <th>COMNAM</th>\n      <th>PRC</th>\n      <th>SHROUT</th>\n      <th>vwretd</th>\n      <th>ewretd</th>\n      <th>year</th>\n      <th>month</th>\n    </tr>\n  </thead>\n  <tbody>\n    <tr>\n      <th>0</th>\n      <td>87482X10</td>\n      <td>TALMER BANCORP</td>\n      <td>2015-01-30</td>\n      <td>1.21</td>\n      <td>87482X10</td>\n      <td>TALMER BANCORP INC</td>\n      <td>13.5200</td>\n      <td>70532.0</td>\n      <td>-0.027207</td>\n      <td>-0.019073</td>\n      <td>2015</td>\n      <td>1</td>\n    </tr>\n    <tr>\n      <th>5</th>\n      <td>26878510</td>\n      <td>EP ENGR CORP</td>\n      <td>2018-02-28</td>\n      <td>-0.39</td>\n      <td>26878510</td>\n      <td>E P ENERGY CORP</td>\n      <td>1.5100</td>\n      <td>254923.0</td>\n      <td>-0.039481</td>\n      <td>-0.040026</td>\n      <td>2018</td>\n      <td>2</td>\n    </tr>\n    <tr>\n      <th>10</th>\n      <td>NaN</td>\n      <td>NaN</td>\n      <td>2014-03-31</td>\n      <td>-403.65</td>\n      <td>NaN</td>\n      <td>NaN</td>\n      <td>NaN</td>\n      <td>NaN</td>\n      <td>0.004544</td>\n      <td>0.001028</td>\n      <td>2014</td>\n      <td>3</td>\n    </tr>\n    <tr>\n      <th>5180</th>\n      <td>15117E10</td>\n      <td>CELLADON</td>\n      <td>2015-03-31</td>\n      <td>-27.30</td>\n      <td>15117E10</td>\n      <td>CELLADON CORP</td>\n      <td>18.9400</td>\n      <td>23828.0</td>\n      <td>-0.010410</td>\n      <td>-0.005112</td>\n      <td>2015</td>\n      <td>3</td>\n    </tr>\n    <tr>\n      <th>5185</th>\n      <td>81776310</td>\n      <td>SESEN BIO</td>\n      <td>2022-02-28</td>\n      <td>0.00</td>\n      <td>81776310</td>\n      <td>SESEN BIO INC</td>\n      <td>0.6343</td>\n      <td>199464.0</td>\n      <td>-0.021838</td>\n      <td>-0.007412</td>\n      <td>2022</td>\n      <td>2</td>\n    </tr>\n  </tbody>\n</table>\n</div>"
     },
     "execution_count": 110,
     "metadata": {},
     "output_type": "execute_result"
    }
   ],
   "source": [
    "df.head()"
   ],
   "metadata": {
    "collapsed": false,
    "pycharm": {
     "name": "#%%\n"
    }
   }
  },
  {
   "cell_type": "code",
   "execution_count": 111,
   "outputs": [
    {
     "data": {
      "text/plain": "         CUSIP           CNAME       date   VALUE    NCUSIP  \\\n0     87482X10  TALMER BANCORP 2015-01-30    1.21  87482X10   \n5     26878510    EP ENGR CORP 2018-02-28   -0.39  26878510   \n10         NaN             NaN 2014-03-31 -403.65       NaN   \n5180  15117E10        CELLADON 2015-03-31  -27.30  15117E10   \n5185  81776310       SESEN BIO 2022-02-28    0.00  81776310   \n\n                  COMNAM      PRC    SHROUT    vwretd    ewretd  year  month  \n0     TALMER BANCORP INC  13.5200   70532.0 -0.027207 -0.019073  2015      1  \n5        E P ENERGY CORP   1.5100  254923.0 -0.039481 -0.040026  2018      2  \n10                   NaN      NaN       NaN  0.004544  0.001028  2014      3  \n5180       CELLADON CORP  18.9400   23828.0 -0.010410 -0.005112  2015      3  \n5185       SESEN BIO INC   0.6343  199464.0 -0.021838 -0.007412  2022      2  ",
      "text/html": "<div>\n<style scoped>\n    .dataframe tbody tr th:only-of-type {\n        vertical-align: middle;\n    }\n\n    .dataframe tbody tr th {\n        vertical-align: top;\n    }\n\n    .dataframe thead th {\n        text-align: right;\n    }\n</style>\n<table border=\"1\" class=\"dataframe\">\n  <thead>\n    <tr style=\"text-align: right;\">\n      <th></th>\n      <th>CUSIP</th>\n      <th>CNAME</th>\n      <th>date</th>\n      <th>VALUE</th>\n      <th>NCUSIP</th>\n      <th>COMNAM</th>\n      <th>PRC</th>\n      <th>SHROUT</th>\n      <th>vwretd</th>\n      <th>ewretd</th>\n      <th>year</th>\n      <th>month</th>\n    </tr>\n  </thead>\n  <tbody>\n    <tr>\n      <th>0</th>\n      <td>87482X10</td>\n      <td>TALMER BANCORP</td>\n      <td>2015-01-30</td>\n      <td>1.21</td>\n      <td>87482X10</td>\n      <td>TALMER BANCORP INC</td>\n      <td>13.5200</td>\n      <td>70532.0</td>\n      <td>-0.027207</td>\n      <td>-0.019073</td>\n      <td>2015</td>\n      <td>1</td>\n    </tr>\n    <tr>\n      <th>5</th>\n      <td>26878510</td>\n      <td>EP ENGR CORP</td>\n      <td>2018-02-28</td>\n      <td>-0.39</td>\n      <td>26878510</td>\n      <td>E P ENERGY CORP</td>\n      <td>1.5100</td>\n      <td>254923.0</td>\n      <td>-0.039481</td>\n      <td>-0.040026</td>\n      <td>2018</td>\n      <td>2</td>\n    </tr>\n    <tr>\n      <th>10</th>\n      <td>NaN</td>\n      <td>NaN</td>\n      <td>2014-03-31</td>\n      <td>-403.65</td>\n      <td>NaN</td>\n      <td>NaN</td>\n      <td>NaN</td>\n      <td>NaN</td>\n      <td>0.004544</td>\n      <td>0.001028</td>\n      <td>2014</td>\n      <td>3</td>\n    </tr>\n    <tr>\n      <th>5180</th>\n      <td>15117E10</td>\n      <td>CELLADON</td>\n      <td>2015-03-31</td>\n      <td>-27.30</td>\n      <td>15117E10</td>\n      <td>CELLADON CORP</td>\n      <td>18.9400</td>\n      <td>23828.0</td>\n      <td>-0.010410</td>\n      <td>-0.005112</td>\n      <td>2015</td>\n      <td>3</td>\n    </tr>\n    <tr>\n      <th>5185</th>\n      <td>81776310</td>\n      <td>SESEN BIO</td>\n      <td>2022-02-28</td>\n      <td>0.00</td>\n      <td>81776310</td>\n      <td>SESEN BIO INC</td>\n      <td>0.6343</td>\n      <td>199464.0</td>\n      <td>-0.021838</td>\n      <td>-0.007412</td>\n      <td>2022</td>\n      <td>2</td>\n    </tr>\n  </tbody>\n</table>\n</div>"
     },
     "execution_count": 111,
     "metadata": {},
     "output_type": "execute_result"
    }
   ],
   "source": [
    "df.head()"
   ],
   "metadata": {
    "collapsed": false,
    "pycharm": {
     "name": "#%%\n"
    }
   }
  },
  {
   "cell_type": "code",
   "execution_count": 112,
   "outputs": [
    {
     "data": {
      "text/plain": "(3546, 12)"
     },
     "execution_count": 112,
     "metadata": {},
     "output_type": "execute_result"
    }
   ],
   "source": [
    "df = df.dropna(subset=[\"CUSIP\", \"year\", \"month\"])\n",
    "df.shape"
   ],
   "metadata": {
    "collapsed": false,
    "pycharm": {
     "name": "#%%\n"
    }
   }
  },
  {
   "cell_type": "code",
   "execution_count": 88,
   "outputs": [],
   "source": [
    "df.to_csv(f\"{path_data}/crsp_ibes.csv\", index=False)"
   ],
   "metadata": {
    "collapsed": false,
    "pycharm": {
     "name": "#%%\n"
    }
   }
  },
  {
   "cell_type": "code",
   "execution_count": 114,
   "outputs": [
    {
     "data": {
      "text/plain": "   TICKER     CUSIP OFTIC           CNAME MEASURE PDICITY     ANNDATS  VALUE  \\\n0    0000       NaN   NaN             NaN     EPS     ANN  2014-02-14    NaN   \n1    0000       NaN   NaN             NaN     EPS     ANN  2014-02-14    NaN   \n2    0000  87482X10  TLMR  TALMER BANCORP     EPS     ANN  2015-01-30   1.21   \n3    0000  87482X10  TLMR  TALMER BANCORP     EPS     ANN  2016-01-26   1.02   \n4    0001       NaN   NaN             NaN     EPS     ANN  2014-01-23    NaN   \n..    ...       ...   ...             ...     ...     ...         ...    ...   \n95   001J  49926D10    KN         KNOWLES     EPS     ANN  2022-02-09   1.53   \n96   001J  49926D10    KN         KNOWLES     EPS     ANN  2023-02-09   1.26   \n97   001K       NaN   NaN             NaN     EPS     ANN  2014-02-19    NaN   \n98   001K       NaN   NaN             NaN     EPS     ANN  2014-03-26   0.02   \n99   001K  45780R10   IBP             IBP     EPS     ANN  2015-03-04   0.54   \n\n    USFIRM       date  \n0        1 2014-02-14  \n1        1 2014-02-14  \n2        1 2015-01-30  \n3        1 2016-01-26  \n4        1 2014-01-23  \n..     ...        ...  \n95       1 2022-02-09  \n96       1 2023-02-09  \n97       1 2014-02-19  \n98       1 2014-03-26  \n99       1 2015-03-04  \n\n[100 rows x 10 columns]",
      "text/html": "<div>\n<style scoped>\n    .dataframe tbody tr th:only-of-type {\n        vertical-align: middle;\n    }\n\n    .dataframe tbody tr th {\n        vertical-align: top;\n    }\n\n    .dataframe thead th {\n        text-align: right;\n    }\n</style>\n<table border=\"1\" class=\"dataframe\">\n  <thead>\n    <tr style=\"text-align: right;\">\n      <th></th>\n      <th>TICKER</th>\n      <th>CUSIP</th>\n      <th>OFTIC</th>\n      <th>CNAME</th>\n      <th>MEASURE</th>\n      <th>PDICITY</th>\n      <th>ANNDATS</th>\n      <th>VALUE</th>\n      <th>USFIRM</th>\n      <th>date</th>\n    </tr>\n  </thead>\n  <tbody>\n    <tr>\n      <th>0</th>\n      <td>0000</td>\n      <td>NaN</td>\n      <td>NaN</td>\n      <td>NaN</td>\n      <td>EPS</td>\n      <td>ANN</td>\n      <td>2014-02-14</td>\n      <td>NaN</td>\n      <td>1</td>\n      <td>2014-02-14</td>\n    </tr>\n    <tr>\n      <th>1</th>\n      <td>0000</td>\n      <td>NaN</td>\n      <td>NaN</td>\n      <td>NaN</td>\n      <td>EPS</td>\n      <td>ANN</td>\n      <td>2014-02-14</td>\n      <td>NaN</td>\n      <td>1</td>\n      <td>2014-02-14</td>\n    </tr>\n    <tr>\n      <th>2</th>\n      <td>0000</td>\n      <td>87482X10</td>\n      <td>TLMR</td>\n      <td>TALMER BANCORP</td>\n      <td>EPS</td>\n      <td>ANN</td>\n      <td>2015-01-30</td>\n      <td>1.21</td>\n      <td>1</td>\n      <td>2015-01-30</td>\n    </tr>\n    <tr>\n      <th>3</th>\n      <td>0000</td>\n      <td>87482X10</td>\n      <td>TLMR</td>\n      <td>TALMER BANCORP</td>\n      <td>EPS</td>\n      <td>ANN</td>\n      <td>2016-01-26</td>\n      <td>1.02</td>\n      <td>1</td>\n      <td>2016-01-26</td>\n    </tr>\n    <tr>\n      <th>4</th>\n      <td>0001</td>\n      <td>NaN</td>\n      <td>NaN</td>\n      <td>NaN</td>\n      <td>EPS</td>\n      <td>ANN</td>\n      <td>2014-01-23</td>\n      <td>NaN</td>\n      <td>1</td>\n      <td>2014-01-23</td>\n    </tr>\n    <tr>\n      <th>...</th>\n      <td>...</td>\n      <td>...</td>\n      <td>...</td>\n      <td>...</td>\n      <td>...</td>\n      <td>...</td>\n      <td>...</td>\n      <td>...</td>\n      <td>...</td>\n      <td>...</td>\n    </tr>\n    <tr>\n      <th>95</th>\n      <td>001J</td>\n      <td>49926D10</td>\n      <td>KN</td>\n      <td>KNOWLES</td>\n      <td>EPS</td>\n      <td>ANN</td>\n      <td>2022-02-09</td>\n      <td>1.53</td>\n      <td>1</td>\n      <td>2022-02-09</td>\n    </tr>\n    <tr>\n      <th>96</th>\n      <td>001J</td>\n      <td>49926D10</td>\n      <td>KN</td>\n      <td>KNOWLES</td>\n      <td>EPS</td>\n      <td>ANN</td>\n      <td>2023-02-09</td>\n      <td>1.26</td>\n      <td>1</td>\n      <td>2023-02-09</td>\n    </tr>\n    <tr>\n      <th>97</th>\n      <td>001K</td>\n      <td>NaN</td>\n      <td>NaN</td>\n      <td>NaN</td>\n      <td>EPS</td>\n      <td>ANN</td>\n      <td>2014-02-19</td>\n      <td>NaN</td>\n      <td>1</td>\n      <td>2014-02-19</td>\n    </tr>\n    <tr>\n      <th>98</th>\n      <td>001K</td>\n      <td>NaN</td>\n      <td>NaN</td>\n      <td>NaN</td>\n      <td>EPS</td>\n      <td>ANN</td>\n      <td>2014-03-26</td>\n      <td>0.02</td>\n      <td>1</td>\n      <td>2014-03-26</td>\n    </tr>\n    <tr>\n      <th>99</th>\n      <td>001K</td>\n      <td>45780R10</td>\n      <td>IBP</td>\n      <td>IBP</td>\n      <td>EPS</td>\n      <td>ANN</td>\n      <td>2015-03-04</td>\n      <td>0.54</td>\n      <td>1</td>\n      <td>2015-03-04</td>\n    </tr>\n  </tbody>\n</table>\n<p>100 rows × 10 columns</p>\n</div>"
     },
     "execution_count": 114,
     "metadata": {},
     "output_type": "execute_result"
    }
   ],
   "source": [
    "df_ibes.head(100)"
   ],
   "metadata": {
    "collapsed": false,
    "pycharm": {
     "name": "#%%\n"
    }
   }
  },
  {
   "cell_type": "code",
   "execution_count": 116,
   "outputs": [
    {
     "data": {
      "text/plain": "array([ True])"
     },
     "execution_count": 116,
     "metadata": {},
     "output_type": "execute_result"
    }
   ],
   "source": [
    "(df_ibes[\"ANNDATS\"] == df_ibes[\"date\"]).unique()"
   ],
   "metadata": {
    "collapsed": false,
    "pycharm": {
     "name": "#%%\n"
    }
   }
  },
  {
   "cell_type": "code",
   "execution_count": 117,
   "outputs": [
    {
     "data": {
      "text/plain": "(211643, 10)"
     },
     "execution_count": 117,
     "metadata": {},
     "output_type": "execute_result"
    }
   ],
   "source": [
    "df_ibes = df_ibes.dropna(subset=[\"CUSIP\", \"VALUE\", \"date\"])\n",
    "df_ibes.shape"
   ],
   "metadata": {
    "collapsed": false,
    "pycharm": {
     "name": "#%%\n"
    }
   }
  },
  {
   "cell_type": "code",
   "execution_count": 118,
   "outputs": [
    {
     "data": {
      "text/plain": "    TICKER     CUSIP OFTIC           CNAME MEASURE PDICITY     ANNDATS  VALUE  \\\n2     0000  87482X10  TLMR  TALMER BANCORP     EPS     ANN  2015-01-30   1.21   \n3     0000  87482X10  TLMR  TALMER BANCORP     EPS     ANN  2016-01-26   1.02   \n6     0001  26878510   EPE    EP ENGR CORP     EPS     ANN  2015-02-18   0.86   \n7     0001  26878510   EPE    EP ENGR CORP     EPS     ANN  2016-02-18   0.78   \n8     0001  26878510   EPE    EP ENGR CORP     EPS     ANN  2017-03-01   0.62   \n..     ...       ...   ...             ...     ...     ...         ...    ...   \n128   001M  45780L10  INGN          INOGEN     EPS     ANN  2023-02-23  -1.40   \n130   001N  22265J10  COUP     COUPONS.COM     EPS     ANN  2015-02-09   0.09   \n131   001N  74911910  QUOT   QUOTIENT TECH     EPS     ANN  2016-02-11   0.10   \n132   001N  74911910  QUOT   QUOTIENT TECH     EPS     ANN  2017-02-09   0.12   \n133   001N  74911910  QUOT   QUOTIENT TECH     EPS     ANN  2018-02-13   0.16   \n\n     USFIRM       date  \n2         1 2015-01-30  \n3         1 2016-01-26  \n6         1 2015-02-18  \n7         1 2016-02-18  \n8         1 2017-03-01  \n..      ...        ...  \n128       1 2023-02-23  \n130       1 2015-02-09  \n131       1 2016-02-11  \n132       1 2017-02-09  \n133       1 2018-02-13  \n\n[100 rows x 10 columns]",
      "text/html": "<div>\n<style scoped>\n    .dataframe tbody tr th:only-of-type {\n        vertical-align: middle;\n    }\n\n    .dataframe tbody tr th {\n        vertical-align: top;\n    }\n\n    .dataframe thead th {\n        text-align: right;\n    }\n</style>\n<table border=\"1\" class=\"dataframe\">\n  <thead>\n    <tr style=\"text-align: right;\">\n      <th></th>\n      <th>TICKER</th>\n      <th>CUSIP</th>\n      <th>OFTIC</th>\n      <th>CNAME</th>\n      <th>MEASURE</th>\n      <th>PDICITY</th>\n      <th>ANNDATS</th>\n      <th>VALUE</th>\n      <th>USFIRM</th>\n      <th>date</th>\n    </tr>\n  </thead>\n  <tbody>\n    <tr>\n      <th>2</th>\n      <td>0000</td>\n      <td>87482X10</td>\n      <td>TLMR</td>\n      <td>TALMER BANCORP</td>\n      <td>EPS</td>\n      <td>ANN</td>\n      <td>2015-01-30</td>\n      <td>1.21</td>\n      <td>1</td>\n      <td>2015-01-30</td>\n    </tr>\n    <tr>\n      <th>3</th>\n      <td>0000</td>\n      <td>87482X10</td>\n      <td>TLMR</td>\n      <td>TALMER BANCORP</td>\n      <td>EPS</td>\n      <td>ANN</td>\n      <td>2016-01-26</td>\n      <td>1.02</td>\n      <td>1</td>\n      <td>2016-01-26</td>\n    </tr>\n    <tr>\n      <th>6</th>\n      <td>0001</td>\n      <td>26878510</td>\n      <td>EPE</td>\n      <td>EP ENGR CORP</td>\n      <td>EPS</td>\n      <td>ANN</td>\n      <td>2015-02-18</td>\n      <td>0.86</td>\n      <td>1</td>\n      <td>2015-02-18</td>\n    </tr>\n    <tr>\n      <th>7</th>\n      <td>0001</td>\n      <td>26878510</td>\n      <td>EPE</td>\n      <td>EP ENGR CORP</td>\n      <td>EPS</td>\n      <td>ANN</td>\n      <td>2016-02-18</td>\n      <td>0.78</td>\n      <td>1</td>\n      <td>2016-02-18</td>\n    </tr>\n    <tr>\n      <th>8</th>\n      <td>0001</td>\n      <td>26878510</td>\n      <td>EPE</td>\n      <td>EP ENGR CORP</td>\n      <td>EPS</td>\n      <td>ANN</td>\n      <td>2017-03-01</td>\n      <td>0.62</td>\n      <td>1</td>\n      <td>2017-03-01</td>\n    </tr>\n    <tr>\n      <th>...</th>\n      <td>...</td>\n      <td>...</td>\n      <td>...</td>\n      <td>...</td>\n      <td>...</td>\n      <td>...</td>\n      <td>...</td>\n      <td>...</td>\n      <td>...</td>\n      <td>...</td>\n    </tr>\n    <tr>\n      <th>128</th>\n      <td>001M</td>\n      <td>45780L10</td>\n      <td>INGN</td>\n      <td>INOGEN</td>\n      <td>EPS</td>\n      <td>ANN</td>\n      <td>2023-02-23</td>\n      <td>-1.40</td>\n      <td>1</td>\n      <td>2023-02-23</td>\n    </tr>\n    <tr>\n      <th>130</th>\n      <td>001N</td>\n      <td>22265J10</td>\n      <td>COUP</td>\n      <td>COUPONS.COM</td>\n      <td>EPS</td>\n      <td>ANN</td>\n      <td>2015-02-09</td>\n      <td>0.09</td>\n      <td>1</td>\n      <td>2015-02-09</td>\n    </tr>\n    <tr>\n      <th>131</th>\n      <td>001N</td>\n      <td>74911910</td>\n      <td>QUOT</td>\n      <td>QUOTIENT TECH</td>\n      <td>EPS</td>\n      <td>ANN</td>\n      <td>2016-02-11</td>\n      <td>0.10</td>\n      <td>1</td>\n      <td>2016-02-11</td>\n    </tr>\n    <tr>\n      <th>132</th>\n      <td>001N</td>\n      <td>74911910</td>\n      <td>QUOT</td>\n      <td>QUOTIENT TECH</td>\n      <td>EPS</td>\n      <td>ANN</td>\n      <td>2017-02-09</td>\n      <td>0.12</td>\n      <td>1</td>\n      <td>2017-02-09</td>\n    </tr>\n    <tr>\n      <th>133</th>\n      <td>001N</td>\n      <td>74911910</td>\n      <td>QUOT</td>\n      <td>QUOTIENT TECH</td>\n      <td>EPS</td>\n      <td>ANN</td>\n      <td>2018-02-13</td>\n      <td>0.16</td>\n      <td>1</td>\n      <td>2018-02-13</td>\n    </tr>\n  </tbody>\n</table>\n<p>100 rows × 10 columns</p>\n</div>"
     },
     "execution_count": 118,
     "metadata": {},
     "output_type": "execute_result"
    }
   ],
   "source": [
    "df_ibes.head(100)"
   ],
   "metadata": {
    "collapsed": false,
    "pycharm": {
     "name": "#%%\n"
    }
   }
  },
  {
   "cell_type": "code",
   "execution_count": 133,
   "outputs": [
    {
     "data": {
      "text/plain": "array(['ANN'], dtype=object)"
     },
     "execution_count": 133,
     "metadata": {},
     "output_type": "execute_result"
    }
   ],
   "source": [
    "df_ibes[\"PDICITY\"].unique()"
   ],
   "metadata": {
    "collapsed": false,
    "pycharm": {
     "name": "#%%\n"
    }
   }
  },
  {
   "cell_type": "code",
   "execution_count": 119,
   "outputs": [],
   "source": [
    "df_ibes = df_ibes.drop_duplicates(subset=[\"date\", \"CUSIP\"])"
   ],
   "metadata": {
    "collapsed": false,
    "pycharm": {
     "name": "#%%\n"
    }
   }
  },
  {
   "cell_type": "code",
   "execution_count": 120,
   "outputs": [
    {
     "data": {
      "text/plain": "(63570, 10)"
     },
     "execution_count": 120,
     "metadata": {},
     "output_type": "execute_result"
    }
   ],
   "source": [
    "df_ibes.shape"
   ],
   "metadata": {
    "collapsed": false,
    "pycharm": {
     "name": "#%%\n"
    }
   }
  },
  {
   "cell_type": "code",
   "execution_count": 121,
   "outputs": [
    {
     "data": {
      "text/plain": "array(['EPS', 'BPS', 'GPS', 'ENT', 'EBS'], dtype=object)"
     },
     "execution_count": 121,
     "metadata": {},
     "output_type": "execute_result"
    }
   ],
   "source": [
    "df_ibes[\"MEASURE\"].unique()"
   ],
   "metadata": {
    "collapsed": false,
    "pycharm": {
     "name": "#%%\n"
    }
   }
  },
  {
   "cell_type": "code",
   "execution_count": 122,
   "outputs": [
    {
     "data": {
      "text/plain": "(62313, 10)"
     },
     "execution_count": 122,
     "metadata": {},
     "output_type": "execute_result"
    }
   ],
   "source": [
    "df_ibes[df_ibes[\"MEASURE\"] == \"EPS\"].shape"
   ],
   "metadata": {
    "collapsed": false,
    "pycharm": {
     "name": "#%%\n"
    }
   }
  },
  {
   "cell_type": "code",
   "execution_count": 123,
   "outputs": [],
   "source": [
    "df_ibes = df_ibes[df_ibes[\"MEASURE\"] == \"EPS\"]"
   ],
   "metadata": {
    "collapsed": false,
    "pycharm": {
     "name": "#%%\n"
    }
   }
  },
  {
   "cell_type": "code",
   "execution_count": 138,
   "outputs": [
    {
     "ename": "KeyError",
     "evalue": "\"['ANNDATS', 'PDICITY', 'MEASURE'] not found in axis\"",
     "output_type": "error",
     "traceback": [
      "\u001B[0;31m---------------------------------------------------------------------------\u001B[0m",
      "\u001B[0;31mKeyError\u001B[0m                                  Traceback (most recent call last)",
      "Cell \u001B[0;32mIn[138], line 1\u001B[0m\n\u001B[0;32m----> 1\u001B[0m df_ibes \u001B[38;5;241m=\u001B[39m \u001B[43mdf_ibes\u001B[49m\u001B[38;5;241;43m.\u001B[39;49m\u001B[43mdrop\u001B[49m\u001B[43m(\u001B[49m\u001B[43m[\u001B[49m\u001B[38;5;124;43m\"\u001B[39;49m\u001B[38;5;124;43mANNDATS\u001B[39;49m\u001B[38;5;124;43m\"\u001B[39;49m\u001B[43m,\u001B[49m\u001B[43m \u001B[49m\u001B[38;5;124;43m\"\u001B[39;49m\u001B[38;5;124;43mPDICITY\u001B[39;49m\u001B[38;5;124;43m\"\u001B[39;49m\u001B[43m,\u001B[49m\u001B[43m \u001B[49m\u001B[38;5;124;43m\"\u001B[39;49m\u001B[38;5;124;43mMEASURE\u001B[39;49m\u001B[38;5;124;43m\"\u001B[39;49m\u001B[43m]\u001B[49m\u001B[43m,\u001B[49m\u001B[43m \u001B[49m\u001B[43maxis\u001B[49m\u001B[38;5;241;43m=\u001B[39;49m\u001B[38;5;241;43m1\u001B[39;49m\u001B[43m)\u001B[49m\n\u001B[1;32m      2\u001B[0m df_ibes[\u001B[38;5;124m'\u001B[39m\u001B[38;5;124myear\u001B[39m\u001B[38;5;124m'\u001B[39m] \u001B[38;5;241m=\u001B[39m df_ibes[\u001B[38;5;124m'\u001B[39m\u001B[38;5;124mdate\u001B[39m\u001B[38;5;124m'\u001B[39m]\u001B[38;5;241m.\u001B[39mdt\u001B[38;5;241m.\u001B[39myear\n\u001B[1;32m      3\u001B[0m df_ibes[\u001B[38;5;124m'\u001B[39m\u001B[38;5;124mmonth\u001B[39m\u001B[38;5;124m'\u001B[39m] \u001B[38;5;241m=\u001B[39m df_ibes[\u001B[38;5;124m'\u001B[39m\u001B[38;5;124mdate\u001B[39m\u001B[38;5;124m'\u001B[39m]\u001B[38;5;241m.\u001B[39mdt\u001B[38;5;241m.\u001B[39mmonth\n",
      "File \u001B[0;32m~/PycharmProjects/ml-vip-vxv-EPFME/venv/lib/python3.8/site-packages/pandas/util/_decorators.py:331\u001B[0m, in \u001B[0;36mdeprecate_nonkeyword_arguments.<locals>.decorate.<locals>.wrapper\u001B[0;34m(*args, **kwargs)\u001B[0m\n\u001B[1;32m    325\u001B[0m \u001B[38;5;28;01mif\u001B[39;00m \u001B[38;5;28mlen\u001B[39m(args) \u001B[38;5;241m>\u001B[39m num_allow_args:\n\u001B[1;32m    326\u001B[0m     warnings\u001B[38;5;241m.\u001B[39mwarn(\n\u001B[1;32m    327\u001B[0m         msg\u001B[38;5;241m.\u001B[39mformat(arguments\u001B[38;5;241m=\u001B[39m_format_argument_list(allow_args)),\n\u001B[1;32m    328\u001B[0m         \u001B[38;5;167;01mFutureWarning\u001B[39;00m,\n\u001B[1;32m    329\u001B[0m         stacklevel\u001B[38;5;241m=\u001B[39mfind_stack_level(),\n\u001B[1;32m    330\u001B[0m     )\n\u001B[0;32m--> 331\u001B[0m \u001B[38;5;28;01mreturn\u001B[39;00m \u001B[43mfunc\u001B[49m\u001B[43m(\u001B[49m\u001B[38;5;241;43m*\u001B[39;49m\u001B[43margs\u001B[49m\u001B[43m,\u001B[49m\u001B[43m \u001B[49m\u001B[38;5;241;43m*\u001B[39;49m\u001B[38;5;241;43m*\u001B[39;49m\u001B[43mkwargs\u001B[49m\u001B[43m)\u001B[49m\n",
      "File \u001B[0;32m~/PycharmProjects/ml-vip-vxv-EPFME/venv/lib/python3.8/site-packages/pandas/core/frame.py:5399\u001B[0m, in \u001B[0;36mDataFrame.drop\u001B[0;34m(self, labels, axis, index, columns, level, inplace, errors)\u001B[0m\n\u001B[1;32m   5251\u001B[0m \u001B[38;5;129m@deprecate_nonkeyword_arguments\u001B[39m(version\u001B[38;5;241m=\u001B[39m\u001B[38;5;28;01mNone\u001B[39;00m, allowed_args\u001B[38;5;241m=\u001B[39m[\u001B[38;5;124m\"\u001B[39m\u001B[38;5;124mself\u001B[39m\u001B[38;5;124m\"\u001B[39m, \u001B[38;5;124m\"\u001B[39m\u001B[38;5;124mlabels\u001B[39m\u001B[38;5;124m\"\u001B[39m])\n\u001B[1;32m   5252\u001B[0m \u001B[38;5;28;01mdef\u001B[39;00m \u001B[38;5;21mdrop\u001B[39m(  \u001B[38;5;66;03m# type: ignore[override]\u001B[39;00m\n\u001B[1;32m   5253\u001B[0m     \u001B[38;5;28mself\u001B[39m,\n\u001B[0;32m   (...)\u001B[0m\n\u001B[1;32m   5260\u001B[0m     errors: IgnoreRaise \u001B[38;5;241m=\u001B[39m \u001B[38;5;124m\"\u001B[39m\u001B[38;5;124mraise\u001B[39m\u001B[38;5;124m\"\u001B[39m,\n\u001B[1;32m   5261\u001B[0m ) \u001B[38;5;241m-\u001B[39m\u001B[38;5;241m>\u001B[39m DataFrame \u001B[38;5;241m|\u001B[39m \u001B[38;5;28;01mNone\u001B[39;00m:\n\u001B[1;32m   5262\u001B[0m \u001B[38;5;250m    \u001B[39m\u001B[38;5;124;03m\"\"\"\u001B[39;00m\n\u001B[1;32m   5263\u001B[0m \u001B[38;5;124;03m    Drop specified labels from rows or columns.\u001B[39;00m\n\u001B[1;32m   5264\u001B[0m \n\u001B[0;32m   (...)\u001B[0m\n\u001B[1;32m   5397\u001B[0m \u001B[38;5;124;03m            weight  1.0     0.8\u001B[39;00m\n\u001B[1;32m   5398\u001B[0m \u001B[38;5;124;03m    \"\"\"\u001B[39;00m\n\u001B[0;32m-> 5399\u001B[0m     \u001B[38;5;28;01mreturn\u001B[39;00m \u001B[38;5;28;43msuper\u001B[39;49m\u001B[43m(\u001B[49m\u001B[43m)\u001B[49m\u001B[38;5;241;43m.\u001B[39;49m\u001B[43mdrop\u001B[49m\u001B[43m(\u001B[49m\n\u001B[1;32m   5400\u001B[0m \u001B[43m        \u001B[49m\u001B[43mlabels\u001B[49m\u001B[38;5;241;43m=\u001B[39;49m\u001B[43mlabels\u001B[49m\u001B[43m,\u001B[49m\n\u001B[1;32m   5401\u001B[0m \u001B[43m        \u001B[49m\u001B[43maxis\u001B[49m\u001B[38;5;241;43m=\u001B[39;49m\u001B[43maxis\u001B[49m\u001B[43m,\u001B[49m\n\u001B[1;32m   5402\u001B[0m \u001B[43m        \u001B[49m\u001B[43mindex\u001B[49m\u001B[38;5;241;43m=\u001B[39;49m\u001B[43mindex\u001B[49m\u001B[43m,\u001B[49m\n\u001B[1;32m   5403\u001B[0m \u001B[43m        \u001B[49m\u001B[43mcolumns\u001B[49m\u001B[38;5;241;43m=\u001B[39;49m\u001B[43mcolumns\u001B[49m\u001B[43m,\u001B[49m\n\u001B[1;32m   5404\u001B[0m \u001B[43m        \u001B[49m\u001B[43mlevel\u001B[49m\u001B[38;5;241;43m=\u001B[39;49m\u001B[43mlevel\u001B[49m\u001B[43m,\u001B[49m\n\u001B[1;32m   5405\u001B[0m \u001B[43m        \u001B[49m\u001B[43minplace\u001B[49m\u001B[38;5;241;43m=\u001B[39;49m\u001B[43minplace\u001B[49m\u001B[43m,\u001B[49m\n\u001B[1;32m   5406\u001B[0m \u001B[43m        \u001B[49m\u001B[43merrors\u001B[49m\u001B[38;5;241;43m=\u001B[39;49m\u001B[43merrors\u001B[49m\u001B[43m,\u001B[49m\n\u001B[1;32m   5407\u001B[0m \u001B[43m    \u001B[49m\u001B[43m)\u001B[49m\n",
      "File \u001B[0;32m~/PycharmProjects/ml-vip-vxv-EPFME/venv/lib/python3.8/site-packages/pandas/util/_decorators.py:331\u001B[0m, in \u001B[0;36mdeprecate_nonkeyword_arguments.<locals>.decorate.<locals>.wrapper\u001B[0;34m(*args, **kwargs)\u001B[0m\n\u001B[1;32m    325\u001B[0m \u001B[38;5;28;01mif\u001B[39;00m \u001B[38;5;28mlen\u001B[39m(args) \u001B[38;5;241m>\u001B[39m num_allow_args:\n\u001B[1;32m    326\u001B[0m     warnings\u001B[38;5;241m.\u001B[39mwarn(\n\u001B[1;32m    327\u001B[0m         msg\u001B[38;5;241m.\u001B[39mformat(arguments\u001B[38;5;241m=\u001B[39m_format_argument_list(allow_args)),\n\u001B[1;32m    328\u001B[0m         \u001B[38;5;167;01mFutureWarning\u001B[39;00m,\n\u001B[1;32m    329\u001B[0m         stacklevel\u001B[38;5;241m=\u001B[39mfind_stack_level(),\n\u001B[1;32m    330\u001B[0m     )\n\u001B[0;32m--> 331\u001B[0m \u001B[38;5;28;01mreturn\u001B[39;00m \u001B[43mfunc\u001B[49m\u001B[43m(\u001B[49m\u001B[38;5;241;43m*\u001B[39;49m\u001B[43margs\u001B[49m\u001B[43m,\u001B[49m\u001B[43m \u001B[49m\u001B[38;5;241;43m*\u001B[39;49m\u001B[38;5;241;43m*\u001B[39;49m\u001B[43mkwargs\u001B[49m\u001B[43m)\u001B[49m\n",
      "File \u001B[0;32m~/PycharmProjects/ml-vip-vxv-EPFME/venv/lib/python3.8/site-packages/pandas/core/generic.py:4505\u001B[0m, in \u001B[0;36mNDFrame.drop\u001B[0;34m(self, labels, axis, index, columns, level, inplace, errors)\u001B[0m\n\u001B[1;32m   4503\u001B[0m \u001B[38;5;28;01mfor\u001B[39;00m axis, labels \u001B[38;5;129;01min\u001B[39;00m axes\u001B[38;5;241m.\u001B[39mitems():\n\u001B[1;32m   4504\u001B[0m     \u001B[38;5;28;01mif\u001B[39;00m labels \u001B[38;5;129;01mis\u001B[39;00m \u001B[38;5;129;01mnot\u001B[39;00m \u001B[38;5;28;01mNone\u001B[39;00m:\n\u001B[0;32m-> 4505\u001B[0m         obj \u001B[38;5;241m=\u001B[39m \u001B[43mobj\u001B[49m\u001B[38;5;241;43m.\u001B[39;49m\u001B[43m_drop_axis\u001B[49m\u001B[43m(\u001B[49m\u001B[43mlabels\u001B[49m\u001B[43m,\u001B[49m\u001B[43m \u001B[49m\u001B[43maxis\u001B[49m\u001B[43m,\u001B[49m\u001B[43m \u001B[49m\u001B[43mlevel\u001B[49m\u001B[38;5;241;43m=\u001B[39;49m\u001B[43mlevel\u001B[49m\u001B[43m,\u001B[49m\u001B[43m \u001B[49m\u001B[43merrors\u001B[49m\u001B[38;5;241;43m=\u001B[39;49m\u001B[43merrors\u001B[49m\u001B[43m)\u001B[49m\n\u001B[1;32m   4507\u001B[0m \u001B[38;5;28;01mif\u001B[39;00m inplace:\n\u001B[1;32m   4508\u001B[0m     \u001B[38;5;28mself\u001B[39m\u001B[38;5;241m.\u001B[39m_update_inplace(obj)\n",
      "File \u001B[0;32m~/PycharmProjects/ml-vip-vxv-EPFME/venv/lib/python3.8/site-packages/pandas/core/generic.py:4546\u001B[0m, in \u001B[0;36mNDFrame._drop_axis\u001B[0;34m(self, labels, axis, level, errors, only_slice)\u001B[0m\n\u001B[1;32m   4544\u001B[0m         new_axis \u001B[38;5;241m=\u001B[39m axis\u001B[38;5;241m.\u001B[39mdrop(labels, level\u001B[38;5;241m=\u001B[39mlevel, errors\u001B[38;5;241m=\u001B[39merrors)\n\u001B[1;32m   4545\u001B[0m     \u001B[38;5;28;01melse\u001B[39;00m:\n\u001B[0;32m-> 4546\u001B[0m         new_axis \u001B[38;5;241m=\u001B[39m \u001B[43maxis\u001B[49m\u001B[38;5;241;43m.\u001B[39;49m\u001B[43mdrop\u001B[49m\u001B[43m(\u001B[49m\u001B[43mlabels\u001B[49m\u001B[43m,\u001B[49m\u001B[43m \u001B[49m\u001B[43merrors\u001B[49m\u001B[38;5;241;43m=\u001B[39;49m\u001B[43merrors\u001B[49m\u001B[43m)\u001B[49m\n\u001B[1;32m   4547\u001B[0m     indexer \u001B[38;5;241m=\u001B[39m axis\u001B[38;5;241m.\u001B[39mget_indexer(new_axis)\n\u001B[1;32m   4549\u001B[0m \u001B[38;5;66;03m# Case for non-unique axis\u001B[39;00m\n\u001B[1;32m   4550\u001B[0m \u001B[38;5;28;01melse\u001B[39;00m:\n",
      "File \u001B[0;32m~/PycharmProjects/ml-vip-vxv-EPFME/venv/lib/python3.8/site-packages/pandas/core/indexes/base.py:6934\u001B[0m, in \u001B[0;36mIndex.drop\u001B[0;34m(self, labels, errors)\u001B[0m\n\u001B[1;32m   6932\u001B[0m \u001B[38;5;28;01mif\u001B[39;00m mask\u001B[38;5;241m.\u001B[39many():\n\u001B[1;32m   6933\u001B[0m     \u001B[38;5;28;01mif\u001B[39;00m errors \u001B[38;5;241m!=\u001B[39m \u001B[38;5;124m\"\u001B[39m\u001B[38;5;124mignore\u001B[39m\u001B[38;5;124m\"\u001B[39m:\n\u001B[0;32m-> 6934\u001B[0m         \u001B[38;5;28;01mraise\u001B[39;00m \u001B[38;5;167;01mKeyError\u001B[39;00m(\u001B[38;5;124mf\u001B[39m\u001B[38;5;124m\"\u001B[39m\u001B[38;5;132;01m{\u001B[39;00m\u001B[38;5;28mlist\u001B[39m(labels[mask])\u001B[38;5;132;01m}\u001B[39;00m\u001B[38;5;124m not found in axis\u001B[39m\u001B[38;5;124m\"\u001B[39m)\n\u001B[1;32m   6935\u001B[0m     indexer \u001B[38;5;241m=\u001B[39m indexer[\u001B[38;5;241m~\u001B[39mmask]\n\u001B[1;32m   6936\u001B[0m \u001B[38;5;28;01mreturn\u001B[39;00m \u001B[38;5;28mself\u001B[39m\u001B[38;5;241m.\u001B[39mdelete(indexer)\n",
      "\u001B[0;31mKeyError\u001B[0m: \"['ANNDATS', 'PDICITY', 'MEASURE'] not found in axis\""
     ]
    }
   ],
   "source": [
    "df_ibes = df_ibes.drop([\"ANNDATS\", \"PDICITY\", \"MEASURE\"], axis=1)"
   ],
   "metadata": {
    "collapsed": false,
    "pycharm": {
     "name": "#%%\n"
    }
   }
  },
  {
   "cell_type": "code",
   "execution_count": 142,
   "outputs": [],
   "source": [
    "df_ibes['year'] = df_ibes['date'].dt.year\n",
    "df_ibes['month'] = df_ibes['date'].dt.month"
   ],
   "metadata": {
    "collapsed": false,
    "pycharm": {
     "name": "#%%\n"
    }
   }
  },
  {
   "cell_type": "code",
   "execution_count": 143,
   "outputs": [],
   "source": [
    "df_ibes.to_csv(f\"{path_data}/filtered_ibes.csv\", index=False)"
   ],
   "metadata": {
    "collapsed": false,
    "pycharm": {
     "name": "#%%\n"
    }
   }
  },
  {
   "cell_type": "code",
   "execution_count": 98,
   "outputs": [
    {
     "data": {
      "text/plain": "(12816,)"
     },
     "execution_count": 98,
     "metadata": {},
     "output_type": "execute_result"
    }
   ],
   "source": [
    "df_ibes[\"CNAME\"].unique().shape"
   ],
   "metadata": {
    "collapsed": false,
    "pycharm": {
     "name": "#%%\n"
    }
   }
  },
  {
   "cell_type": "code",
   "execution_count": 71,
   "outputs": [
    {
     "data": {
      "text/plain": "(76181,)"
     },
     "execution_count": 71,
     "metadata": {},
     "output_type": "execute_result"
    }
   ],
   "source": [
    "correct_set = set(list(range(2014, 2021)))\n",
    "cache = {}\n",
    "def see_full_companies(row):\n",
    "    name = row[\"CNAME\"]\n",
    "    if name not in cache:\n",
    "        unique_dates_for_company = df_ibes[df_ibes[\"CNAME\"] == name][\"date\"].dt.year.unique()\n",
    "        cache[name] = correct_set.intersection(unique_dates_for_company) == correct_set\n",
    "    return cache[name]\n",
    "m = df_ibes.apply(see_full_companies, axis=1)\n",
    "m.shape"
   ],
   "metadata": {
    "collapsed": false,
    "pycharm": {
     "name": "#%%\n"
    }
   }
  },
  {
   "cell_type": "code",
   "execution_count": 72,
   "outputs": [],
   "source": [
    "df_ibes.to_csv(f\"{path_data}/ibes_filtered.csv\")"
   ],
   "metadata": {
    "collapsed": false,
    "pycharm": {
     "name": "#%%\n"
    }
   }
  },
  {
   "cell_type": "code",
   "execution_count": 73,
   "outputs": [
    {
     "data": {
      "text/plain": "(76181, 10)"
     },
     "execution_count": 73,
     "metadata": {},
     "output_type": "execute_result"
    }
   ],
   "source": [
    "df_ibes.shape"
   ],
   "metadata": {
    "collapsed": false,
    "pycharm": {
     "name": "#%%\n"
    }
   }
  },
  {
   "cell_type": "code",
   "execution_count": null,
   "outputs": [],
   "source": [],
   "metadata": {
    "collapsed": false,
    "pycharm": {
     "name": "#%%\n"
    }
   }
  }
 ],
 "metadata": {
  "kernelspec": {
   "display_name": "Python 3",
   "language": "python",
   "name": "python3"
  },
  "language_info": {
   "codemirror_mode": {
    "name": "ipython",
    "version": 2
   },
   "file_extension": ".py",
   "mimetype": "text/x-python",
   "name": "python",
   "nbconvert_exporter": "python",
   "pygments_lexer": "ipython2",
   "version": "2.7.6"
  }
 },
 "nbformat": 4,
 "nbformat_minor": 0
}