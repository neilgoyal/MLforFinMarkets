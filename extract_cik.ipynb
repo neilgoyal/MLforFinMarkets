{
 "cells": [
  {
   "cell_type": "code",
   "execution_count": 6,
   "outputs": [],
   "source": [
    "import pandas as pd\n",
    "import numpy as np\n",
    "from os import getcwd\n",
    "raw_data_dir = f\"{getcwd()}/../data/raw\"\n",
    "processed_data_dir = f\"{getcwd()}/../data/processed\""
   ],
   "metadata": {
    "collapsed": false,
    "pycharm": {
     "name": "#%%\n"
    }
   }
  },
  {
   "cell_type": "code",
   "execution_count": 7,
   "outputs": [
    {
     "data": {
      "text/plain": "'/Users/admin/PycharmProjects/ml-vip-vxv-EPFME/codes/../data/raw'"
     },
     "execution_count": 7,
     "metadata": {},
     "output_type": "execute_result"
    }
   ],
   "source": [
    "raw_data_dir"
   ],
   "metadata": {
    "collapsed": false,
    "pycharm": {
     "name": "#%%\n"
    }
   }
  },
  {
   "cell_type": "code",
   "execution_count": 4,
   "outputs": [
    {
     "data": {
      "text/plain": "  TICKER     CUSIP OFTIC           CNAME  VALUE  USFIRM        date  year  \\\n0   0000  87482X10  TLMR  TALMER BANCORP   1.21       1  2015-01-30  2015   \n1   0000  87482X10  TLMR  TALMER BANCORP   1.02       1  2016-01-26  2016   \n2   0001  26878510   EPE    EP ENGR CORP   0.86       1  2015-02-18  2015   \n3   0001  26878510   EPE    EP ENGR CORP   0.78       1  2016-02-18  2016   \n4   0001  26878510   EPE    EP ENGR CORP   0.62       1  2017-03-01  2017   \n\n   month  \n0      1  \n1      1  \n2      2  \n3      2  \n4      3  ",
      "text/html": "<div>\n<style scoped>\n    .dataframe tbody tr th:only-of-type {\n        vertical-align: middle;\n    }\n\n    .dataframe tbody tr th {\n        vertical-align: top;\n    }\n\n    .dataframe thead th {\n        text-align: right;\n    }\n</style>\n<table border=\"1\" class=\"dataframe\">\n  <thead>\n    <tr style=\"text-align: right;\">\n      <th></th>\n      <th>TICKER</th>\n      <th>CUSIP</th>\n      <th>OFTIC</th>\n      <th>CNAME</th>\n      <th>VALUE</th>\n      <th>USFIRM</th>\n      <th>date</th>\n      <th>year</th>\n      <th>month</th>\n    </tr>\n  </thead>\n  <tbody>\n    <tr>\n      <th>0</th>\n      <td>0000</td>\n      <td>87482X10</td>\n      <td>TLMR</td>\n      <td>TALMER BANCORP</td>\n      <td>1.21</td>\n      <td>1</td>\n      <td>2015-01-30</td>\n      <td>2015</td>\n      <td>1</td>\n    </tr>\n    <tr>\n      <th>1</th>\n      <td>0000</td>\n      <td>87482X10</td>\n      <td>TLMR</td>\n      <td>TALMER BANCORP</td>\n      <td>1.02</td>\n      <td>1</td>\n      <td>2016-01-26</td>\n      <td>2016</td>\n      <td>1</td>\n    </tr>\n    <tr>\n      <th>2</th>\n      <td>0001</td>\n      <td>26878510</td>\n      <td>EPE</td>\n      <td>EP ENGR CORP</td>\n      <td>0.86</td>\n      <td>1</td>\n      <td>2015-02-18</td>\n      <td>2015</td>\n      <td>2</td>\n    </tr>\n    <tr>\n      <th>3</th>\n      <td>0001</td>\n      <td>26878510</td>\n      <td>EPE</td>\n      <td>EP ENGR CORP</td>\n      <td>0.78</td>\n      <td>1</td>\n      <td>2016-02-18</td>\n      <td>2016</td>\n      <td>2</td>\n    </tr>\n    <tr>\n      <th>4</th>\n      <td>0001</td>\n      <td>26878510</td>\n      <td>EPE</td>\n      <td>EP ENGR CORP</td>\n      <td>0.62</td>\n      <td>1</td>\n      <td>2017-03-01</td>\n      <td>2017</td>\n      <td>3</td>\n    </tr>\n  </tbody>\n</table>\n</div>"
     },
     "execution_count": 4,
     "metadata": {},
     "output_type": "execute_result"
    }
   ],
   "source": [
    "df = pd.read_csv(f\"{raw_data_dir}/filtered_ibes.csv\")\n",
    "df.head()"
   ],
   "metadata": {
    "collapsed": false,
    "pycharm": {
     "name": "#%%\n"
    }
   }
  },
  {
   "cell_type": "code",
   "execution_count": 5,
   "outputs": [
    {
     "data": {
      "text/plain": "  TICKER     CUSIP OFTIC           CNAME  VALUE  USFIRM        date  year  \\\n0   0000  87482X10  TLMR  TALMER BANCORP   1.21       1  2015-01-30  2015   \n1   0000  87482X10  TLMR  TALMER BANCORP   1.02       1  2016-01-26  2016   \n2   0001  26878510   EPE    EP ENGR CORP   0.86       1  2015-02-18  2015   \n3   0001  26878510   EPE    EP ENGR CORP   0.78       1  2016-02-18  2016   \n4   0001  26878510   EPE    EP ENGR CORP   0.62       1  2017-03-01  2017   \n\n   month  \n0      1  \n1      1  \n2      2  \n3      2  \n4      3  ",
      "text/html": "<div>\n<style scoped>\n    .dataframe tbody tr th:only-of-type {\n        vertical-align: middle;\n    }\n\n    .dataframe tbody tr th {\n        vertical-align: top;\n    }\n\n    .dataframe thead th {\n        text-align: right;\n    }\n</style>\n<table border=\"1\" class=\"dataframe\">\n  <thead>\n    <tr style=\"text-align: right;\">\n      <th></th>\n      <th>TICKER</th>\n      <th>CUSIP</th>\n      <th>OFTIC</th>\n      <th>CNAME</th>\n      <th>VALUE</th>\n      <th>USFIRM</th>\n      <th>date</th>\n      <th>year</th>\n      <th>month</th>\n    </tr>\n  </thead>\n  <tbody>\n    <tr>\n      <th>0</th>\n      <td>0000</td>\n      <td>87482X10</td>\n      <td>TLMR</td>\n      <td>TALMER BANCORP</td>\n      <td>1.21</td>\n      <td>1</td>\n      <td>2015-01-30</td>\n      <td>2015</td>\n      <td>1</td>\n    </tr>\n    <tr>\n      <th>1</th>\n      <td>0000</td>\n      <td>87482X10</td>\n      <td>TLMR</td>\n      <td>TALMER BANCORP</td>\n      <td>1.02</td>\n      <td>1</td>\n      <td>2016-01-26</td>\n      <td>2016</td>\n      <td>1</td>\n    </tr>\n    <tr>\n      <th>2</th>\n      <td>0001</td>\n      <td>26878510</td>\n      <td>EPE</td>\n      <td>EP ENGR CORP</td>\n      <td>0.86</td>\n      <td>1</td>\n      <td>2015-02-18</td>\n      <td>2015</td>\n      <td>2</td>\n    </tr>\n    <tr>\n      <th>3</th>\n      <td>0001</td>\n      <td>26878510</td>\n      <td>EPE</td>\n      <td>EP ENGR CORP</td>\n      <td>0.78</td>\n      <td>1</td>\n      <td>2016-02-18</td>\n      <td>2016</td>\n      <td>2</td>\n    </tr>\n    <tr>\n      <th>4</th>\n      <td>0001</td>\n      <td>26878510</td>\n      <td>EPE</td>\n      <td>EP ENGR CORP</td>\n      <td>0.62</td>\n      <td>1</td>\n      <td>2017-03-01</td>\n      <td>2017</td>\n      <td>3</td>\n    </tr>\n  </tbody>\n</table>\n</div>"
     },
     "execution_count": 5,
     "metadata": {},
     "output_type": "execute_result"
    }
   ],
   "source": [
    "df.head()"
   ],
   "metadata": {
    "collapsed": false,
    "pycharm": {
     "name": "#%%\n"
    }
   }
  },
  {
   "cell_type": "code",
   "execution_count": 9,
   "outputs": [
    {
     "data": {
      "text/plain": "         cik  cusip6    cusip8\n0   828119.0  88343A  88343A10\n1  1342575.0  M8260H  M8260H10\n2  1323143.0  61732R  61732R10\n3   856751.0  320655  32065510\n4  1373079.0  018921  01892110",
      "text/html": "<div>\n<style scoped>\n    .dataframe tbody tr th:only-of-type {\n        vertical-align: middle;\n    }\n\n    .dataframe tbody tr th {\n        vertical-align: top;\n    }\n\n    .dataframe thead th {\n        text-align: right;\n    }\n</style>\n<table border=\"1\" class=\"dataframe\">\n  <thead>\n    <tr style=\"text-align: right;\">\n      <th></th>\n      <th>cik</th>\n      <th>cusip6</th>\n      <th>cusip8</th>\n    </tr>\n  </thead>\n  <tbody>\n    <tr>\n      <th>0</th>\n      <td>828119.0</td>\n      <td>88343A</td>\n      <td>88343A10</td>\n    </tr>\n    <tr>\n      <th>1</th>\n      <td>1342575.0</td>\n      <td>M8260H</td>\n      <td>M8260H10</td>\n    </tr>\n    <tr>\n      <th>2</th>\n      <td>1323143.0</td>\n      <td>61732R</td>\n      <td>61732R10</td>\n    </tr>\n    <tr>\n      <th>3</th>\n      <td>856751.0</td>\n      <td>320655</td>\n      <td>32065510</td>\n    </tr>\n    <tr>\n      <th>4</th>\n      <td>1373079.0</td>\n      <td>018921</td>\n      <td>01892110</td>\n    </tr>\n  </tbody>\n</table>\n</div>"
     },
     "execution_count": 9,
     "metadata": {},
     "output_type": "execute_result"
    }
   ],
   "source": [
    "df_cik = pd.read_csv(f\"{processed_data_dir}/cik-cusip-maps.csv\")\n",
    "df_cik.head()"
   ],
   "metadata": {
    "collapsed": false,
    "pycharm": {
     "name": "#%%\n"
    }
   }
  },
  {
   "cell_type": "code",
   "execution_count": 12,
   "outputs": [
    {
     "data": {
      "text/plain": "             cik  cusip6    cusip8\n34528  1584952.0  268785  26878510",
      "text/html": "<div>\n<style scoped>\n    .dataframe tbody tr th:only-of-type {\n        vertical-align: middle;\n    }\n\n    .dataframe tbody tr th {\n        vertical-align: top;\n    }\n\n    .dataframe thead th {\n        text-align: right;\n    }\n</style>\n<table border=\"1\" class=\"dataframe\">\n  <thead>\n    <tr style=\"text-align: right;\">\n      <th></th>\n      <th>cik</th>\n      <th>cusip6</th>\n      <th>cusip8</th>\n    </tr>\n  </thead>\n  <tbody>\n    <tr>\n      <th>34528</th>\n      <td>1584952.0</td>\n      <td>268785</td>\n      <td>26878510</td>\n    </tr>\n  </tbody>\n</table>\n</div>"
     },
     "execution_count": 12,
     "metadata": {},
     "output_type": "execute_result"
    }
   ],
   "source": [
    "df_cik[df_cik[\"cusip8\"] == \"26878510\"]"
   ],
   "metadata": {
    "collapsed": false,
    "pycharm": {
     "name": "#%%\n"
    }
   }
  },
  {
   "cell_type": "code",
   "execution_count": 13,
   "outputs": [
    {
     "data": {
      "text/plain": "(56471, 3)"
     },
     "execution_count": 13,
     "metadata": {},
     "output_type": "execute_result"
    }
   ],
   "source": [
    "df_cik.shape"
   ],
   "metadata": {
    "collapsed": false,
    "pycharm": {
     "name": "#%%\n"
    }
   }
  },
  {
   "cell_type": "code",
   "execution_count": 15,
   "outputs": [],
   "source": [
    "cusip_mapping = dict(zip(df_cik[\"cusip8\"], df_cik[\"cik\"]))"
   ],
   "metadata": {
    "collapsed": false,
    "pycharm": {
     "name": "#%%\n"
    }
   }
  },
  {
   "cell_type": "code",
   "execution_count": 17,
   "outputs": [],
   "source": [
    "df[\"cik\"] = df[\"CUSIP\"].map(cusip_mapping)"
   ],
   "metadata": {
    "collapsed": false,
    "pycharm": {
     "name": "#%%\n"
    }
   }
  },
  {
   "cell_type": "code",
   "execution_count": 18,
   "outputs": [
    {
     "data": {
      "text/plain": "  TICKER     CUSIP OFTIC           CNAME  VALUE  USFIRM        date  year  \\\n0   0000  87482X10  TLMR  TALMER BANCORP   1.21       1  2015-01-30  2015   \n1   0000  87482X10  TLMR  TALMER BANCORP   1.02       1  2016-01-26  2016   \n2   0001  26878510   EPE    EP ENGR CORP   0.86       1  2015-02-18  2015   \n3   0001  26878510   EPE    EP ENGR CORP   0.78       1  2016-02-18  2016   \n4   0001  26878510   EPE    EP ENGR CORP   0.62       1  2017-03-01  2017   \n\n   month        cik  \n0      1  1360683.0  \n1      1  1360683.0  \n2      2  1584952.0  \n3      2  1584952.0  \n4      3  1584952.0  ",
      "text/html": "<div>\n<style scoped>\n    .dataframe tbody tr th:only-of-type {\n        vertical-align: middle;\n    }\n\n    .dataframe tbody tr th {\n        vertical-align: top;\n    }\n\n    .dataframe thead th {\n        text-align: right;\n    }\n</style>\n<table border=\"1\" class=\"dataframe\">\n  <thead>\n    <tr style=\"text-align: right;\">\n      <th></th>\n      <th>TICKER</th>\n      <th>CUSIP</th>\n      <th>OFTIC</th>\n      <th>CNAME</th>\n      <th>VALUE</th>\n      <th>USFIRM</th>\n      <th>date</th>\n      <th>year</th>\n      <th>month</th>\n      <th>cik</th>\n    </tr>\n  </thead>\n  <tbody>\n    <tr>\n      <th>0</th>\n      <td>0000</td>\n      <td>87482X10</td>\n      <td>TLMR</td>\n      <td>TALMER BANCORP</td>\n      <td>1.21</td>\n      <td>1</td>\n      <td>2015-01-30</td>\n      <td>2015</td>\n      <td>1</td>\n      <td>1360683.0</td>\n    </tr>\n    <tr>\n      <th>1</th>\n      <td>0000</td>\n      <td>87482X10</td>\n      <td>TLMR</td>\n      <td>TALMER BANCORP</td>\n      <td>1.02</td>\n      <td>1</td>\n      <td>2016-01-26</td>\n      <td>2016</td>\n      <td>1</td>\n      <td>1360683.0</td>\n    </tr>\n    <tr>\n      <th>2</th>\n      <td>0001</td>\n      <td>26878510</td>\n      <td>EPE</td>\n      <td>EP ENGR CORP</td>\n      <td>0.86</td>\n      <td>1</td>\n      <td>2015-02-18</td>\n      <td>2015</td>\n      <td>2</td>\n      <td>1584952.0</td>\n    </tr>\n    <tr>\n      <th>3</th>\n      <td>0001</td>\n      <td>26878510</td>\n      <td>EPE</td>\n      <td>EP ENGR CORP</td>\n      <td>0.78</td>\n      <td>1</td>\n      <td>2016-02-18</td>\n      <td>2016</td>\n      <td>2</td>\n      <td>1584952.0</td>\n    </tr>\n    <tr>\n      <th>4</th>\n      <td>0001</td>\n      <td>26878510</td>\n      <td>EPE</td>\n      <td>EP ENGR CORP</td>\n      <td>0.62</td>\n      <td>1</td>\n      <td>2017-03-01</td>\n      <td>2017</td>\n      <td>3</td>\n      <td>1584952.0</td>\n    </tr>\n  </tbody>\n</table>\n</div>"
     },
     "execution_count": 18,
     "metadata": {},
     "output_type": "execute_result"
    }
   ],
   "source": [
    "df.head()"
   ],
   "metadata": {
    "collapsed": false,
    "pycharm": {
     "name": "#%%\n"
    }
   }
  },
  {
   "cell_type": "code",
   "execution_count": 19,
   "outputs": [],
   "source": [
    "df.to_csv(f\"{processed_data_dir}/filtered_ibes_with_cik.csv\", index=False)"
   ],
   "metadata": {
    "collapsed": false,
    "pycharm": {
     "name": "#%%\n"
    }
   }
  },
  {
   "cell_type": "code",
   "execution_count": null,
   "outputs": [],
   "source": [],
   "metadata": {
    "collapsed": false,
    "pycharm": {
     "name": "#%%\n"
    }
   }
  }
 ],
 "metadata": {
  "kernelspec": {
   "display_name": "Python 3",
   "language": "python",
   "name": "python3"
  },
  "language_info": {
   "codemirror_mode": {
    "name": "ipython",
    "version": 2
   },
   "file_extension": ".py",
   "mimetype": "text/x-python",
   "name": "python",
   "nbconvert_exporter": "python",
   "pygments_lexer": "ipython2",
   "version": "2.7.6"
  }
 },
 "nbformat": 4,
 "nbformat_minor": 0
}